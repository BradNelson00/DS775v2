{
 "cells": [
  {
   "cell_type": "markdown",
   "metadata": {},
   "source": [
    "<p><font size=18>Lesson 10: Recommender Systems 1</font></p>"
   ]
  },
  {
   "cell_type": "code",
   "execution_count": 1,
   "metadata": {
    "code_folding": [
     0
    ]
   },
   "outputs": [],
   "source": [
    "# execute to import notebook styling for tables and width etc.\n",
    "from IPython.core.display import HTML\n",
    "import urllib.request\n",
    "response = urllib.request.urlopen('https://raw.githubusercontent.com/DataScienceUWL/DS775v2/master/ds755.css')\n",
    "HTML(response.read().decode(\"utf-8\"));"
   ]
  },
  {
   "cell_type": "markdown",
   "metadata": {},
   "source": [
    "# Practice"
   ]
  },
  {
   "cell_type": "markdown",
   "metadata": {},
   "source": [
    "Follow the examples and use the code files provided from chapters 1-4 in **Hands-On Recommendation Systems with Python** by Rounak Banik to do the following self-assessment exercises.  Learn by doing!"
   ]
  },
  {
   "cell_type": "markdown",
   "metadata": {},
   "source": [
    "## Simple Recommender"
   ]
  },
  {
   "cell_type": "markdown",
   "metadata": {},
   "source": [
    "### <font color = \"blue\"> Self-Assessment: Load and Display </font>"
   ]
  },
  {
   "cell_type": "markdown",
   "metadata": {},
   "source": [
    "Load the data set **ted_main.csv** and display the first 5 rows. This data set can be found in the presentation download for this lesson.  More information about this data set <a href = https://www.kaggle.com/rounakbanik/ted-talks> here </a>.  "
   ]
  },
  {
   "cell_type": "code",
   "execution_count": null,
   "metadata": {},
   "outputs": [],
   "source": [
    "# enter your code here"
   ]
  },
  {
   "cell_type": "markdown",
   "metadata": {},
   "source": [
    "### <font color = \"blue\"> Self-Assessment: Pandas </font>"
   ]
  },
  {
   "cell_type": "markdown",
   "metadata": {},
   "source": [
    "How many talks are in the TED Talks data frame?"
   ]
  },
  {
   "cell_type": "markdown",
   "metadata": {},
   "source": [
    "### <font color = \"blue\"> Self-Assessment: Prerequisites </font> "
   ]
  },
  {
   "cell_type": "markdown",
   "metadata": {},
   "source": [
    "Select TED talks with these prerequisites:\n",
    "\n",
    "1. talks with duration of at least 5 minutes (i.e. 300 seconds)\n",
    "2. talks with only 1 speaker\n",
    "3. talks in the top 90\\% of views (exclude the bottom 10\\%)\n",
    "\n",
    "Also inspect the number of talks that made the cut."
   ]
  },
  {
   "cell_type": "code",
   "execution_count": null,
   "metadata": {},
   "outputs": [],
   "source": [
    "# enter your code here"
   ]
  },
  {
   "cell_type": "markdown",
   "metadata": {},
   "source": [
    "### <font color = \"blue\"> Self-Assessment: Compute a Metric, Sort and Print </font>  "
   ]
  },
  {
   "cell_type": "markdown",
   "metadata": {},
   "source": [
    "In the absence of numerical ratings here, use the ratio of the number of comments per 1000 views as a metric to sort the TED talks and print the 10 with the highest ratios.  \n",
    "\n",
    "Display only the description, the main speaker, and the number of views."
   ]
  },
  {
   "cell_type": "code",
   "execution_count": null,
   "metadata": {},
   "outputs": [],
   "source": [
    "# enter your code here"
   ]
  },
  {
   "cell_type": "markdown",
   "metadata": {},
   "source": [
    "### A Note about Banik's Metric\n",
    "In the homework, we will ask you to use Banik's IMDB metric. Let's quickly review what his metric is doing. We will use different variable names that more accurately reflect what these variables represent. Pay close attention to what the variables represent."
   ]
  },
  {
   "cell_type": "code",
   "execution_count": null,
   "metadata": {},
   "outputs": [],
   "source": [
    "import pandas as pd\n",
    "import numpy as np\n",
    "df = pd.read_csv('data/movies_metadata.csv')\n",
    "\n",
    "#Calculate the number of votes garnered by the 80th percentile movie of our UNFILTERED data\n",
    "#This is Banik's chosen cut off for his metric. \n",
    "vote_count_quantile = df['vote_count'].quantile(0.80)\n",
    "\n",
    "# Calculate the mean of the vote average for our UNFILTERED data\n",
    "vote_avg_mean = df['vote_average'].mean()\n",
    "\n",
    "# Function to compute the IMDB weighted rating for each movie\n",
    "def weighted_rating(x, vcq=vote_count_quantile, vam=vote_avg_mean):\n",
    "    v = x['vote_count']\n",
    "    R = x['vote_average']\n",
    "    # Compute the weighted score\n",
    "    return (v/(v+vcq) * R) + (vcq/(vcq+v) * vam)"
   ]
  },
  {
   "cell_type": "markdown",
   "metadata": {},
   "source": [
    "Note the function requires 2 bits of data that are determined prior to any filtering being done. The first is the 80th quantile of votes and the second is the mean of the vote average. We also pass in \"x\", which is a row from our filtered dataframe. \n",
    "\n",
    "We then get the vote count and vote average from our row (x) and compute the metric. When we apply this to the filtered dataframe, it will add a new column to our filtered dataframe with the result.\n",
    "\n",
    "Once we have our metric function set up, we can go ahead and filter our data."
   ]
  },
  {
   "cell_type": "code",
   "execution_count": null,
   "metadata": {},
   "outputs": [],
   "source": [
    "#NOW  we filter data\n",
    "#Only consider movies longer than 45 minutes and shorter than 300 minutes\n",
    "q_movies = df[(df['runtime'] >= 45) & (df['runtime'] <= 300)]\n",
    "\n",
    "#Only consider movies that have garnered more than some percentile of votes\n",
    "m = df['vote_count'].quantile(.8)\n",
    "q_movies = q_movies[q_movies['vote_count'] >= m]"
   ]
  },
  {
   "cell_type": "markdown",
   "metadata": {},
   "source": [
    "Note that it is purely coincidence that Banik also chose to filter his dataframe by the same vote count quantile. That is not necessary for his weighted rating metric and is not what you will be doing in the homework."
   ]
  },
  {
   "cell_type": "code",
   "execution_count": 4,
   "metadata": {},
   "outputs": [
    {
     "data": {
      "text/html": [
       "<div>\n",
       "<style scoped>\n",
       "    .dataframe tbody tr th:only-of-type {\n",
       "        vertical-align: middle;\n",
       "    }\n",
       "\n",
       "    .dataframe tbody tr th {\n",
       "        vertical-align: top;\n",
       "    }\n",
       "\n",
       "    .dataframe thead th {\n",
       "        text-align: right;\n",
       "    }\n",
       "</style>\n",
       "<table border=\"1\" class=\"dataframe\">\n",
       "  <thead>\n",
       "    <tr style=\"text-align: right;\">\n",
       "      <th></th>\n",
       "      <th>title</th>\n",
       "      <th>vote_count</th>\n",
       "      <th>vote_average</th>\n",
       "      <th>score</th>\n",
       "      <th>runtime</th>\n",
       "    </tr>\n",
       "  </thead>\n",
       "  <tbody>\n",
       "    <tr>\n",
       "      <td>314</td>\n",
       "      <td>The Shawshank Redemption</td>\n",
       "      <td>8358</td>\n",
       "      <td>8.5</td>\n",
       "      <td>8.427977</td>\n",
       "      <td>142.0</td>\n",
       "    </tr>\n",
       "    <tr>\n",
       "      <td>834</td>\n",
       "      <td>The Godfather</td>\n",
       "      <td>6024</td>\n",
       "      <td>8.5</td>\n",
       "      <td>8.401206</td>\n",
       "      <td>175.0</td>\n",
       "    </tr>\n",
       "    <tr>\n",
       "      <td>2843</td>\n",
       "      <td>Fight Club</td>\n",
       "      <td>9678</td>\n",
       "      <td>8.3</td>\n",
       "      <td>8.242686</td>\n",
       "      <td>139.0</td>\n",
       "    </tr>\n",
       "    <tr>\n",
       "      <td>292</td>\n",
       "      <td>Pulp Fiction</td>\n",
       "      <td>8670</td>\n",
       "      <td>8.3</td>\n",
       "      <td>8.236213</td>\n",
       "      <td>154.0</td>\n",
       "    </tr>\n",
       "    <tr>\n",
       "      <td>522</td>\n",
       "      <td>Schindler's List</td>\n",
       "      <td>4436</td>\n",
       "      <td>8.3</td>\n",
       "      <td>8.178643</td>\n",
       "      <td>195.0</td>\n",
       "    </tr>\n",
       "    <tr>\n",
       "      <td>2211</td>\n",
       "      <td>Life Is Beautiful</td>\n",
       "      <td>3643</td>\n",
       "      <td>8.3</td>\n",
       "      <td>8.153956</td>\n",
       "      <td>116.0</td>\n",
       "    </tr>\n",
       "    <tr>\n",
       "      <td>1178</td>\n",
       "      <td>The Godfather: Part II</td>\n",
       "      <td>3418</td>\n",
       "      <td>8.3</td>\n",
       "      <td>8.145010</td>\n",
       "      <td>200.0</td>\n",
       "    </tr>\n",
       "    <tr>\n",
       "      <td>351</td>\n",
       "      <td>Forrest Gump</td>\n",
       "      <td>8147</td>\n",
       "      <td>8.2</td>\n",
       "      <td>8.135280</td>\n",
       "      <td>142.0</td>\n",
       "    </tr>\n",
       "    <tr>\n",
       "      <td>1152</td>\n",
       "      <td>One Flew Over the Cuckoo's Nest</td>\n",
       "      <td>3001</td>\n",
       "      <td>8.3</td>\n",
       "      <td>8.125161</td>\n",
       "      <td>133.0</td>\n",
       "    </tr>\n",
       "    <tr>\n",
       "      <td>1154</td>\n",
       "      <td>The Empire Strikes Back</td>\n",
       "      <td>5998</td>\n",
       "      <td>8.2</td>\n",
       "      <td>8.113038</td>\n",
       "      <td>124.0</td>\n",
       "    </tr>\n",
       "    <tr>\n",
       "      <td>1176</td>\n",
       "      <td>Psycho</td>\n",
       "      <td>2405</td>\n",
       "      <td>8.3</td>\n",
       "      <td>8.085990</td>\n",
       "      <td>109.0</td>\n",
       "    </tr>\n",
       "    <tr>\n",
       "      <td>289</td>\n",
       "      <td>Leon: The Professional</td>\n",
       "      <td>4293</td>\n",
       "      <td>8.2</td>\n",
       "      <td>8.080438</td>\n",
       "      <td>110.0</td>\n",
       "    </tr>\n",
       "    <tr>\n",
       "      <td>3030</td>\n",
       "      <td>The Green Mile</td>\n",
       "      <td>4166</td>\n",
       "      <td>8.2</td>\n",
       "      <td>8.077004</td>\n",
       "      <td>189.0</td>\n",
       "    </tr>\n",
       "    <tr>\n",
       "      <td>1170</td>\n",
       "      <td>GoodFellas</td>\n",
       "      <td>3211</td>\n",
       "      <td>8.2</td>\n",
       "      <td>8.043116</td>\n",
       "      <td>145.0</td>\n",
       "    </tr>\n",
       "    <tr>\n",
       "      <td>2216</td>\n",
       "      <td>American History X</td>\n",
       "      <td>3120</td>\n",
       "      <td>8.2</td>\n",
       "      <td>8.038886</td>\n",
       "      <td>119.0</td>\n",
       "    </tr>\n",
       "    <tr>\n",
       "      <td>256</td>\n",
       "      <td>Star Wars</td>\n",
       "      <td>6778</td>\n",
       "      <td>8.1</td>\n",
       "      <td>8.026311</td>\n",
       "      <td>121.0</td>\n",
       "    </tr>\n",
       "    <tr>\n",
       "      <td>46</td>\n",
       "      <td>Se7en</td>\n",
       "      <td>5915</td>\n",
       "      <td>8.1</td>\n",
       "      <td>8.016004</td>\n",
       "      <td>127.0</td>\n",
       "    </tr>\n",
       "    <tr>\n",
       "      <td>586</td>\n",
       "      <td>The Silence of the Lambs</td>\n",
       "      <td>4549</td>\n",
       "      <td>8.1</td>\n",
       "      <td>7.992121</td>\n",
       "      <td>119.0</td>\n",
       "    </tr>\n",
       "    <tr>\n",
       "      <td>4099</td>\n",
       "      <td>Memento</td>\n",
       "      <td>4168</td>\n",
       "      <td>8.1</td>\n",
       "      <td>7.982829</td>\n",
       "      <td>113.0</td>\n",
       "    </tr>\n",
       "    <tr>\n",
       "      <td>1213</td>\n",
       "      <td>The Shining</td>\n",
       "      <td>3890</td>\n",
       "      <td>8.1</td>\n",
       "      <td>7.974971</td>\n",
       "      <td>144.0</td>\n",
       "    </tr>\n",
       "    <tr>\n",
       "      <td>1057</td>\n",
       "      <td>Reservoir Dogs</td>\n",
       "      <td>3821</td>\n",
       "      <td>8.1</td>\n",
       "      <td>7.972855</td>\n",
       "      <td>99.0</td>\n",
       "    </tr>\n",
       "    <tr>\n",
       "      <td>1161</td>\n",
       "      <td>12 Angry Men</td>\n",
       "      <td>2130</td>\n",
       "      <td>8.2</td>\n",
       "      <td>7.972015</td>\n",
       "      <td>96.0</td>\n",
       "    </tr>\n",
       "    <tr>\n",
       "      <td>2884</td>\n",
       "      <td>Princess Mononoke</td>\n",
       "      <td>2041</td>\n",
       "      <td>8.2</td>\n",
       "      <td>7.963178</td>\n",
       "      <td>134.0</td>\n",
       "    </tr>\n",
       "    <tr>\n",
       "      <td>49</td>\n",
       "      <td>The Usual Suspects</td>\n",
       "      <td>3334</td>\n",
       "      <td>8.1</td>\n",
       "      <td>7.955603</td>\n",
       "      <td>106.0</td>\n",
       "    </tr>\n",
       "    <tr>\n",
       "      <td>4863</td>\n",
       "      <td>The Lord of the Rings: The Fellowship of the Ring</td>\n",
       "      <td>8892</td>\n",
       "      <td>8.0</td>\n",
       "      <td>7.946131</td>\n",
       "      <td>178.0</td>\n",
       "    </tr>\n",
       "  </tbody>\n",
       "</table>\n",
       "</div>"
      ],
      "text/plain": [
       "                                                  title  vote_count  \\\n",
       "314                            The Shawshank Redemption        8358   \n",
       "834                                       The Godfather        6024   \n",
       "2843                                         Fight Club        9678   \n",
       "292                                        Pulp Fiction        8670   \n",
       "522                                    Schindler's List        4436   \n",
       "2211                                  Life Is Beautiful        3643   \n",
       "1178                             The Godfather: Part II        3418   \n",
       "351                                        Forrest Gump        8147   \n",
       "1152                    One Flew Over the Cuckoo's Nest        3001   \n",
       "1154                            The Empire Strikes Back        5998   \n",
       "1176                                             Psycho        2405   \n",
       "289                              Leon: The Professional        4293   \n",
       "3030                                     The Green Mile        4166   \n",
       "1170                                         GoodFellas        3211   \n",
       "2216                                 American History X        3120   \n",
       "256                                           Star Wars        6778   \n",
       "46                                                Se7en        5915   \n",
       "586                            The Silence of the Lambs        4549   \n",
       "4099                                            Memento        4168   \n",
       "1213                                        The Shining        3890   \n",
       "1057                                     Reservoir Dogs        3821   \n",
       "1161                                       12 Angry Men        2130   \n",
       "2884                                  Princess Mononoke        2041   \n",
       "49                                   The Usual Suspects        3334   \n",
       "4863  The Lord of the Rings: The Fellowship of the Ring        8892   \n",
       "\n",
       "      vote_average     score  runtime  \n",
       "314            8.5  8.427977    142.0  \n",
       "834            8.5  8.401206    175.0  \n",
       "2843           8.3  8.242686    139.0  \n",
       "292            8.3  8.236213    154.0  \n",
       "522            8.3  8.178643    195.0  \n",
       "2211           8.3  8.153956    116.0  \n",
       "1178           8.3  8.145010    200.0  \n",
       "351            8.2  8.135280    142.0  \n",
       "1152           8.3  8.125161    133.0  \n",
       "1154           8.2  8.113038    124.0  \n",
       "1176           8.3  8.085990    109.0  \n",
       "289            8.2  8.080438    110.0  \n",
       "3030           8.2  8.077004    189.0  \n",
       "1170           8.2  8.043116    145.0  \n",
       "2216           8.2  8.038886    119.0  \n",
       "256            8.1  8.026311    121.0  \n",
       "46             8.1  8.016004    127.0  \n",
       "586            8.1  7.992121    119.0  \n",
       "4099           8.1  7.982829    113.0  \n",
       "1213           8.1  7.974971    144.0  \n",
       "1057           8.1  7.972855     99.0  \n",
       "1161           8.2  7.972015     96.0  \n",
       "2884           8.2  7.963178    134.0  \n",
       "49             8.1  7.955603    106.0  \n",
       "4863           8.0  7.946131    178.0  "
      ]
     },
     "execution_count": 4,
     "metadata": {},
     "output_type": "execute_result"
    }
   ],
   "source": [
    "# Compute the score using the weighted_rating function defined above\n",
    "q_movies['score'] = q_movies.apply(weighted_rating, axis=1)\n",
    "\n",
    "#Sort movies in descending order of their scores\n",
    "q_movies = q_movies.sort_values('score', ascending=False)\n",
    "\n",
    "#Print the top 25 movies\n",
    "q_movies[['title', 'vote_count', 'vote_average', 'score', 'runtime']].head(25)"
   ]
  },
  {
   "cell_type": "markdown",
   "metadata": {},
   "source": [
    "## Knowledge-Based Recommender"
   ]
  },
  {
   "cell_type": "markdown",
   "metadata": {},
   "source": [
    "For this example we will use the TED Talks data set that you have already loaded to build a knowledge-based recommender by soliciting the desired publication year and word rating from the user."
   ]
  },
  {
   "cell_type": "markdown",
   "metadata": {},
   "source": [
    "### <font color = \"blue\"> Self-Assessment: Dealing with Dates </font>"
   ]
  },
  {
   "cell_type": "markdown",
   "metadata": {},
   "source": [
    "Extract the year of the talk from the feature called **published_date** and put it in a new variable called **published_year**.  \n",
    "\n",
    "First, the film dates need to be converted to datetime objects and then extract the year of the film date.  However, for the TED Talks data, include the argument *unit='s'* in the **to_datetime()** function in order to convert the dates correctly (based on the number of seconds to the unix epoch start).\n",
    "\n",
    "Then convert **published_year** to an integer data type and be sure that there are no NAT values among them."
   ]
  },
  {
   "cell_type": "code",
   "execution_count": null,
   "metadata": {},
   "outputs": [],
   "source": [
    "# enter your code here"
   ]
  },
  {
   "cell_type": "markdown",
   "metadata": {},
   "source": [
    "### <font color = \"blue\"> Self-Assessment: Stringified Dictionaries </font>"
   ]
  },
  {
   "cell_type": "markdown",
   "metadata": {},
   "source": [
    "Since we will be asking the user to enter a descriptive word rating to select a talk and the feature  **ratings** is a stringified dictionary, convert the list of dictionaries into a list of strings and explode the ratings column in a pandas series. (Note: this is what the book does - just follow the book.) \n",
    "\n",
    "Do not add the series back to the dataframe like the book does. We'll show you a different way to use it in the next section. When you have your series, use the unique() function to preview a list of the unique ratings that were given. (*Hint* - you can do this with the line s.unique(), if your series name is s.)"
   ]
  },
  {
   "cell_type": "code",
   "execution_count": null,
   "metadata": {},
   "outputs": [],
   "source": [
    "# enter your code here"
   ]
  },
  {
   "cell_type": "markdown",
   "metadata": {},
   "source": [
    "### Filtering using list functions\n",
    "The book explodes dataframes so that it's easy to use simple equality when selecting data (df['word_ratings'] = 'obnoxious'). But this isn't necessary. We can use pandas shortcuts to determine if the information in a pandas column contains the value we are interested in. \n",
    "\n",
    "Let's look at a quick example. First we'll just create a very simple dataframe that contains a list of genres. We can't use these shortcuts on lists, so we'll first convert the list to a simple string."
   ]
  },
  {
   "cell_type": "code",
   "execution_count": 39,
   "metadata": {},
   "outputs": [
    {
     "data": {
      "text/html": [
       "<div>\n",
       "<style scoped>\n",
       "    .dataframe tbody tr th:only-of-type {\n",
       "        vertical-align: middle;\n",
       "    }\n",
       "\n",
       "    .dataframe tbody tr th {\n",
       "        vertical-align: top;\n",
       "    }\n",
       "\n",
       "    .dataframe thead th {\n",
       "        text-align: right;\n",
       "    }\n",
       "</style>\n",
       "<table border=\"1\" class=\"dataframe\">\n",
       "  <thead>\n",
       "    <tr style=\"text-align: right;\">\n",
       "      <th></th>\n",
       "      <th>genres</th>\n",
       "    </tr>\n",
       "  </thead>\n",
       "  <tbody>\n",
       "    <tr>\n",
       "      <td>movie1</td>\n",
       "      <td>horror,thriller</td>\n",
       "    </tr>\n",
       "    <tr>\n",
       "      <td>movie2</td>\n",
       "      <td>family,animation,comedy</td>\n",
       "    </tr>\n",
       "    <tr>\n",
       "      <td>movie3</td>\n",
       "      <td>action</td>\n",
       "    </tr>\n",
       "  </tbody>\n",
       "</table>\n",
       "</div>"
      ],
      "text/plain": [
       "                         genres\n",
       "movie1          horror,thriller\n",
       "movie2  family,animation,comedy\n",
       "movie3                   action"
      ]
     },
     "execution_count": 39,
     "metadata": {},
     "output_type": "execute_result"
    }
   ],
   "source": [
    "#import and create some simple data\n",
    "import pandas as pd\n",
    "\n",
    "df = pd.DataFrame({'genres': [['horror,thriller'], ['family,animation,comedy'],['action']]},\n",
    "                  index=['movie1', 'movie2', 'movie3'])\n",
    "#convert the list to a string\n",
    "df['genres'] = df['genres'].apply(', '.join)\n",
    "#display what we have\n",
    "df"
   ]
  },
  {
   "cell_type": "markdown",
   "metadata": {},
   "source": [
    "If we want to select movies that have either a horror or action genres, we can use the str.contains function with a regular expression."
   ]
  },
  {
   "cell_type": "code",
   "execution_count": 42,
   "metadata": {},
   "outputs": [
    {
     "data": {
      "text/html": [
       "<div>\n",
       "<style scoped>\n",
       "    .dataframe tbody tr th:only-of-type {\n",
       "        vertical-align: middle;\n",
       "    }\n",
       "\n",
       "    .dataframe tbody tr th {\n",
       "        vertical-align: top;\n",
       "    }\n",
       "\n",
       "    .dataframe thead th {\n",
       "        text-align: right;\n",
       "    }\n",
       "</style>\n",
       "<table border=\"1\" class=\"dataframe\">\n",
       "  <thead>\n",
       "    <tr style=\"text-align: right;\">\n",
       "      <th></th>\n",
       "      <th>genres</th>\n",
       "    </tr>\n",
       "  </thead>\n",
       "  <tbody>\n",
       "    <tr>\n",
       "      <td>movie1</td>\n",
       "      <td>horror,thriller</td>\n",
       "    </tr>\n",
       "    <tr>\n",
       "      <td>movie3</td>\n",
       "      <td>action</td>\n",
       "    </tr>\n",
       "  </tbody>\n",
       "</table>\n",
       "</div>"
      ],
      "text/plain": [
       "                 genres\n",
       "movie1  horror,thriller\n",
       "movie3           action"
      ]
     },
     "execution_count": 42,
     "metadata": {},
     "output_type": "execute_result"
    }
   ],
   "source": [
    "# create the filter\n",
    "filter1 = df[\"genres\"].str.contains('horror|action', regex=True)\n",
    "\n",
    "# filter for generes\n",
    "df[filter1]"
   ]
  },
  {
   "cell_type": "markdown",
   "metadata": {},
   "source": [
    "This approach prevents the duplicate row problem that we see in the book. (For homework, we will accept either the book approach or this approach.)"
   ]
  },
  {
   "cell_type": "markdown",
   "metadata": {},
   "source": [
    "### <font color = \"blue\"> Self-Assessment: Create the Knowledge-Based Recommender </font>"
   ]
  },
  {
   "cell_type": "markdown",
   "metadata": {},
   "source": [
    "1. Print a list of the descriptive word ratings for the user to choose from. (*Hint:  you can do this with the line* print(gen_ted['word_ratings'].unique()))\n",
    "\n",
    "\n",
    "2. Ask the user to enter answers to the following questions:\n",
    "\n",
    "    - Enter a descriptive word for rating.\n",
    "    - Enter the earliest year published for the talk (between 2006 and 2017).\n",
    "    - Enter the latest year published for the talk (between 2006 and 2017).\n",
    "\n",
    "3. Consider only talks with the top 90% of views (after filtering based on user preferences).\n",
    "\n",
    "4. Display the top 5 recommended talks according to the \"comments per 1000 views\" ratio (calculated AFTER doing steps 2 & 3).\n",
    "\n",
    "5. Display only the main speaker, the name of the talk, the year published, and the comments per thousand views ratio.\n",
    "\n",
    "6.  Show the results for the word rating \"obnoxious\" and published years between 2009 and 2014."
   ]
  },
  {
   "cell_type": "code",
   "execution_count": null,
   "metadata": {},
   "outputs": [],
   "source": [
    "# enter your code here"
   ]
  },
  {
   "cell_type": "markdown",
   "metadata": {},
   "source": [
    "## Content-Based Recommender"
   ]
  },
  {
   "cell_type": "markdown",
   "metadata": {},
   "source": [
    "For this example we will use the TED Talks data set that you have already loaded to build a content-based recommender based on the descriptions of the talks.  This will correspond to the **plot description-based recommender**."
   ]
  },
  {
   "cell_type": "markdown",
   "metadata": {},
   "source": [
    "### <font color = \"blue\"> Self-Assessment: TF-IDF Vectors </font>"
   ]
  },
  {
   "cell_type": "markdown",
   "metadata": {},
   "source": [
    "From the original TED Talks data frame that use in this lesson, create the TF-IDF (term frequency - inverse document frequency) matrix from the descriptions of the talks.  The TF-IDF is high where a rare term is present or frequent in a document and TF-IDF is near zero where a term is absent from a document, or abundant across all documents.\n",
    "\n",
    "The feature name in the data frame is **description**.\n",
    "\n",
    "Output the shape of the TF-IDF matrix you create. The number of rows corresponds to the number of TED talks in the data frame and the number of columns represents the number of unique terms. "
   ]
  },
  {
   "cell_type": "code",
   "execution_count": null,
   "metadata": {},
   "outputs": [],
   "source": [
    "# enter your code here"
   ]
  },
  {
   "cell_type": "markdown",
   "metadata": {},
   "source": [
    "### <font color = \"blue\"> Self-Assessment: Create the Content-Based Recommender Based on Cosine Similarity </font>"
   ]
  },
  {
   "cell_type": "markdown",
   "metadata": {},
   "source": [
    "Compute the cosine similarity score for all of the TED talks in the data frame. Next build the recommender to request the name of a TED talk in the data frame and provide the top 5 recommended talks based on the similarity of the descriptions with the name of the talk supplied.\n",
    "\n",
    "Show that it works by getting the top 5 recommended talks that are similar to the talk named \"Tyler Cowen: Be suspicious of simple stories\" (from the `name` column of the data frame)."
   ]
  },
  {
   "cell_type": "code",
   "execution_count": null,
   "metadata": {},
   "outputs": [],
   "source": [
    "# enter your code here"
   ]
  }
 ],
 "metadata": {
  "kernelspec": {
   "display_name": "Python 3",
   "language": "python",
   "name": "python3"
  },
  "language_info": {
   "codemirror_mode": {
    "name": "ipython",
    "version": 3
   },
   "file_extension": ".py",
   "mimetype": "text/x-python",
   "name": "python",
   "nbconvert_exporter": "python",
   "pygments_lexer": "ipython3",
   "version": "3.7.4"
  },
  "toc": {
   "base_numbering": 1,
   "nav_menu": {},
   "number_sections": true,
   "sideBar": true,
   "skip_h1_title": false,
   "title_cell": "Table of Contents",
   "title_sidebar": "Contents",
   "toc_cell": false,
   "toc_position": {
    "height": "calc(100% - 180px)",
    "left": "10px",
    "top": "150px",
    "width": "260.517px"
   },
   "toc_section_display": true,
   "toc_window_display": true
  },
  "varInspector": {
   "cols": {
    "lenName": 16,
    "lenType": 16,
    "lenVar": 40
   },
   "kernels_config": {
    "python": {
     "delete_cmd_postfix": "",
     "delete_cmd_prefix": "del ",
     "library": "var_list.py",
     "varRefreshCmd": "print(var_dic_list())"
    },
    "r": {
     "delete_cmd_postfix": ") ",
     "delete_cmd_prefix": "rm(",
     "library": "var_list.r",
     "varRefreshCmd": "cat(var_dic_list()) "
    }
   },
   "types_to_exclude": [
    "module",
    "function",
    "builtin_function_or_method",
    "instance",
    "_Feature"
   ],
   "window_display": false
  }
 },
 "nbformat": 4,
 "nbformat_minor": 4
}
