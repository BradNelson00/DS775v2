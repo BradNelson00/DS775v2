{
 "cells": [
  {
   "cell_type": "code",
   "execution_count": 4,
   "metadata": {
    "code_folding": [
     0
    ],
    "collapsed": false
   },
   "outputs": [
   ],
   "source": [
    "# imports\n",
    "%matplotlib notebook  \n",
    "import numpy as np\n",
    "import pandas as pd\n",
    "from simanneal import Annealer\n",
    "import matplotlib.pyplot as plt\n",
    "import seaborn as sns\n",
    "sns.set_style(\"darkgrid\")\n",
    "from deap import algorithms, base, creator, tools\n",
    "import random\n",
    "import warnings\n",
    "warnings.filterwarnings('ignore')"
   ]
  },
  {
   "cell_type": "markdown",
   "metadata": {
    "collapsed": false
   },
   "source": [
    "# *Self-Assessment:  Exploring Tournament Selection*\n",
    "\n",
    "*What happens for smaller tournament sizes?*  You should notice that there is more diversity in the selected population and more high value fitness values get selected.  There are fewer repeats in the selected population.\n",
    "\n",
    "*For larger tournament sizes?* There is less diversity in the selected population and mostly low value fitness values get selected.  There are more repeats in the selected population.\n",
    "\n",
    "*For tournament size 1?* This yields the most diverse population with fewest repeats.\n",
    "\n",
    "*For tournament size the same as the population size?* The selected population contains only the individual with the lowest fitness value.  This means crossover will have no effect since all the individuals are the same.  Only the mutation operator will have an effect.\n",
    "\n",
    "*How does tournament size affect the exploration versus exploitation tradeoff?*. Small tournament sizes encourage more exploration and less exploitation while larger tournament sizes have the opposite effect."
   ]
  },
  {
   "cell_type": "code",
   "execution_count": 1,
   "metadata": {
    "collapsed": false
   },
   "outputs": [
    {
     "ename": "NameError",
     "evalue": "name 'np' is not defined",
     "output_type": "error",
     "traceback": [
      "\u001b[0;31m---------------------------------------------------------------------------\u001b[0m",
      "\u001b[0;31mNameError\u001b[0m                                 Traceback (most recent call last)",
      "\u001b[0;32m<ipython-input-1-92644e440f37>\u001b[0m in \u001b[0;36m<module>\u001b[0;34m\u001b[0m\n\u001b[1;32m      1\u001b[0m \u001b[0mtourn_size\u001b[0m \u001b[0;34m=\u001b[0m \u001b[0;36m1\u001b[0m\u001b[0;34m\u001b[0m\u001b[0;34m\u001b[0m\u001b[0m\n\u001b[0;32m----> 2\u001b[0;31m \u001b[0mselect_pop\u001b[0m \u001b[0;34m=\u001b[0m \u001b[0mnp\u001b[0m\u001b[0;34m.\u001b[0m\u001b[0mzeros\u001b[0m\u001b[0;34m(\u001b[0m\u001b[0;34m(\u001b[0m\u001b[0mind_size\u001b[0m\u001b[0;34m,\u001b[0m\u001b[0mpop_size\u001b[0m\u001b[0;34m)\u001b[0m\u001b[0;34m)\u001b[0m \u001b[0;31m# initialize selected population\u001b[0m\u001b[0;34m\u001b[0m\u001b[0;34m\u001b[0m\u001b[0m\n\u001b[0m\u001b[1;32m      3\u001b[0m \u001b[0msel_fitness\u001b[0m \u001b[0;34m=\u001b[0m \u001b[0mnp\u001b[0m\u001b[0;34m.\u001b[0m\u001b[0mzeros\u001b[0m\u001b[0;34m(\u001b[0m\u001b[0mpop_size\u001b[0m\u001b[0;34m)\u001b[0m\u001b[0;34m\u001b[0m\u001b[0;34m\u001b[0m\u001b[0m\n\u001b[1;32m      4\u001b[0m \u001b[0;32mfor\u001b[0m \u001b[0mj\u001b[0m \u001b[0;32min\u001b[0m \u001b[0mrange\u001b[0m\u001b[0;34m(\u001b[0m\u001b[0mpop_size\u001b[0m\u001b[0;34m)\u001b[0m\u001b[0;34m:\u001b[0m\u001b[0;34m\u001b[0m\u001b[0;34m\u001b[0m\u001b[0m\n\u001b[1;32m      5\u001b[0m     \u001b[0msubset_pos\u001b[0m \u001b[0;34m=\u001b[0m \u001b[0mnp\u001b[0m\u001b[0;34m.\u001b[0m\u001b[0mrandom\u001b[0m\u001b[0;34m.\u001b[0m\u001b[0mchoice\u001b[0m\u001b[0;34m(\u001b[0m\u001b[0mpop_size\u001b[0m\u001b[0;34m,\u001b[0m\u001b[0mtourn_size\u001b[0m\u001b[0;34m,\u001b[0m\u001b[0mreplace\u001b[0m\u001b[0;34m=\u001b[0m\u001b[0;32mFalse\u001b[0m\u001b[0;34m)\u001b[0m \u001b[0;31m# select without replacement\u001b[0m\u001b[0;34m\u001b[0m\u001b[0;34m\u001b[0m\u001b[0m\n",
      "\u001b[0;31mNameError\u001b[0m: name 'np' is not defined"
     ]
    }
   ],
   "source": [
    "import numpy as np\n",
    "\n",
    "tourn_size = 1\n",
    "select_pop = np.zeros((ind_size,pop_size)) # initialize selected population\n",
    "sel_fitness = np.zeros(pop_size)\n",
    "for j in range(pop_size):\n",
    "    subset_pos = np.random.choice(pop_size,tourn_size,replace=False) # select without replacement\n",
    "    smallest_pos = np.min(subset_pos) # choose index corresponding to lowest fitness\n",
    "    select_pop[:,j] = pop[:,smallest_pos]\n",
    "    sel_fitness[j] = fitness[smallest_pos]"
   ]
  },
  {
   "cell_type": "markdown",
   "metadata": {
    "collapsed": false,
    "heading_collapsed": true
   },
   "source": [
    "# *Self Assessment: Simulated Annealing for Gerrymandering*"
   ]
  },
  {
   "cell_type": "code",
   "execution_count": 3,
   "metadata": {
    "code_folding": [
     0
    ],
    "collapsed": false,
    "hidden": true
   },
   "outputs": [
   ],
   "source": [
    "# load problem data and define objective and move functions\n",
    "\n",
    "import numpy as np\n",
    "import pandas as pd\n",
    "\n",
    "# set the data and define the objective function\n",
    "num_districts = 10\n",
    "num_cities = 18\n",
    "\n",
    "dems = [152,81,75,34,62,38,48,74,98,66,83,86,72,28,112,45,93,72]\n",
    "reps = [62,59,83,52,87,87,69,49,62,72,75,82,83,53,98,82,68,98]\n",
    "cities = pd.DataFrame( data = {'dems':dems, 'reps':reps})\n",
    "\n",
    "# almost the same as in Lesson 4, but we return -fitness so that our minimization annealing can find max\n",
    "def fitness_districts(assign, cities):\n",
    "    df = cities.groupby(assign).sum()\n",
    "    fitness = sum( df['reps'] > df['dems'] )\n",
    "    total_voters = np.zeros(num_districts,dtype=np.int32)\n",
    "    total_voters[df.index] = df.sum(axis=1)\n",
    "    fitness-= np.abs(np.minimum(np.maximum(total_voters,150),350)-total_voters).sum()\n",
    "    return -fitness # we return a tuple with the fitness ###\n",
    "\n",
    "def move_one_city(assign, num_districts):\n",
    "    num_cities = assign.shape[0] # or len(assign)\n",
    "    new_assign = assign.copy()\n",
    "    switch_city = np.random.randint(num_cities) # which city to assign new random district\n",
    "    while new_assign[switch_city] == assign[switch_city]: # loops until new and old are different\n",
    "        new_assign[ switch_city] = np.random.randint(num_districts)\n",
    "    return new_assign\n",
    "\n",
    "# for printing out an assignment of cities to districts\n",
    "def summarize_districts(assign, cities, num_districts):\n",
    "    reps = np.zeros(num_districts, dtype=np.int32)\n",
    "    dems = np.zeros(num_districts, dtype=np.int32)\n",
    "    df = cities.groupby(assign).sum()\n",
    "    reps[df.index] = df['reps']\n",
    "    dems[df.index] = df['dems']\n",
    "    total = reps + dems\n",
    "    delta = np.minimum(np.maximum(total, 150), 350) - total\n",
    "    rep_win = reps > dems\n",
    "    dict = {\n",
    "        'reps': reps,\n",
    "        'dems': dems,\n",
    "        'total': total,\n",
    "        'rep_win': rep_win\n",
    "    }\n",
    "    return (pd.DataFrame(data=dict))"
   ]
  },
  {
   "cell_type": "code",
   "execution_count": 4,
   "metadata": {
    "code_folding": [
    ],
    "collapsed": false,
    "hidden": true,
    "scrolled": true
   },
   "outputs": [
    {
     "name": "stdout",
     "output_type": "stream",
     "text": [
      "Republicans won 8 districts.\n"
     ]
    },
    {
     "data": {
      "text/html": [
       "<div>\n",
       "<style scoped>\n",
       "    .dataframe tbody tr th:only-of-type {\n",
       "        vertical-align: middle;\n",
       "    }\n",
       "\n",
       "    .dataframe tbody tr th {\n",
       "        vertical-align: top;\n",
       "    }\n",
       "\n",
       "    .dataframe thead th {\n",
       "        text-align: right;\n",
       "    }\n",
       "</style>\n",
       "<table border=\"1\" class=\"dataframe\">\n",
       "  <thead>\n",
       "    <tr style=\"text-align: right;\">\n",
       "      <th></th>\n",
       "      <th>reps</th>\n",
       "      <th>dems</th>\n",
       "      <th>total</th>\n",
       "      <th>rep_win</th>\n",
       "    </tr>\n",
       "  </thead>\n",
       "  <tbody>\n",
       "    <tr>\n",
       "      <th>0</th>\n",
       "      <td>155</td>\n",
       "      <td>131</td>\n",
       "      <td>286</td>\n",
       "      <td>True</td>\n",
       "    </tr>\n",
       "    <tr>\n",
       "      <th>1</th>\n",
       "      <td>162</td>\n",
       "      <td>145</td>\n",
       "      <td>307</td>\n",
       "      <td>True</td>\n",
       "    </tr>\n",
       "    <tr>\n",
       "      <th>2</th>\n",
       "      <td>111</td>\n",
       "      <td>172</td>\n",
       "      <td>283</td>\n",
       "      <td>False</td>\n",
       "    </tr>\n",
       "    <tr>\n",
       "      <th>3</th>\n",
       "      <td>164</td>\n",
       "      <td>131</td>\n",
       "      <td>295</td>\n",
       "      <td>True</td>\n",
       "    </tr>\n",
       "    <tr>\n",
       "      <th>4</th>\n",
       "      <td>181</td>\n",
       "      <td>157</td>\n",
       "      <td>338</td>\n",
       "      <td>True</td>\n",
       "    </tr>\n",
       "    <tr>\n",
       "      <th>5</th>\n",
       "      <td>150</td>\n",
       "      <td>146</td>\n",
       "      <td>296</td>\n",
       "      <td>True</td>\n",
       "    </tr>\n",
       "    <tr>\n",
       "      <th>6</th>\n",
       "      <td>83</td>\n",
       "      <td>75</td>\n",
       "      <td>158</td>\n",
       "      <td>True</td>\n",
       "    </tr>\n",
       "    <tr>\n",
       "      <th>7</th>\n",
       "      <td>62</td>\n",
       "      <td>152</td>\n",
       "      <td>214</td>\n",
       "      <td>False</td>\n",
       "    </tr>\n",
       "    <tr>\n",
       "      <th>8</th>\n",
       "      <td>98</td>\n",
       "      <td>72</td>\n",
       "      <td>170</td>\n",
       "      <td>True</td>\n",
       "    </tr>\n",
       "    <tr>\n",
       "      <th>9</th>\n",
       "      <td>155</td>\n",
       "      <td>138</td>\n",
       "      <td>293</td>\n",
       "      <td>True</td>\n",
       "    </tr>\n",
       "  </tbody>\n",
       "</table>\n",
       "</div>"
      ],
      "text/plain": [
       "   reps  dems  total  rep_win\n",
       "0   155   131    286     True\n",
       "1   162   145    307     True\n",
       "2   111   172    283    False\n",
       "3   164   131    295     True\n",
       "4   181   157    338     True\n",
       "5   150   146    296     True\n",
       "6    83    75    158     True\n",
       "7    62   152    214    False\n",
       "8    98    72    170     True\n",
       "9   155   138    293     True"
      ]
     },
     "execution_count": 4,
     "metadata": {
     },
     "output_type": "execute_result"
    }
   ],
   "source": [
    "# main loop for annealing\n",
    "\n",
    "# note we change dist_mat to two arguments: cities and num_districts\n",
    "# only lines with ### had changes from simanneal_tsp\n",
    "def simanneal_gerry(init_state, cities, num_districts, max_no_improve, init_temp, alpha): ###\n",
    "\n",
    "    curr_state = init_state\n",
    "    curr_obj = fitness_districts(curr_state, cities) ###\n",
    "    best_state = curr_state\n",
    "    best_obj = curr_obj\n",
    "\n",
    "    # stop search if no better state is found within max_no_improve iterations\n",
    "    num_moves_no_improve = 0\n",
    "    iterations = 0\n",
    "    temp = init_temp\n",
    "\n",
    "    # save history for plotting after optimization\n",
    "    history = np.array([[iterations, curr_obj, best_obj]])\n",
    "\n",
    "    while (num_moves_no_improve < max_no_improve):\n",
    "        num_moves_no_improve += 1\n",
    "        iterations += 1  # just for tracking\n",
    "        new_state = move_one_city(curr_state, num_districts) ###\n",
    "        new_obj = fitness_districts(new_state, cities) ###\n",
    "        delta = curr_obj - new_obj\n",
    "        prob = np.exp(min(delta, 0) / temp) ### # compute prob accept uphill move\n",
    "\n",
    "        if new_obj < curr_obj or np.random.uniform() < prob : ### # accept if decrease or rand < prob\n",
    "            curr_state = new_state\n",
    "            curr_obj = new_obj\n",
    "            if curr_obj < best_obj: # keep track of best ever\n",
    "                best_state = curr_state\n",
    "                best_obj = curr_obj\n",
    "                num_moves_no_improve = 0\n",
    "                \n",
    "        temp *= alpha\n",
    "\n",
    "        history = np.vstack( (history, np.array([[iterations,curr_obj,best_obj]]) ) )\n",
    "\n",
    "    return best_state, best_obj, iterations, history\n",
    "\n",
    "# apply simanneal_gerry() to the gerrymandering problem\n",
    "# you might have to experiment with the parameters here\n",
    "max_no_improve = 2000\n",
    "init_temp = 1000\n",
    "alpha = 0.997\n",
    "\n",
    "# uncomment the next line to see a solution where republicans win 9 districts\n",
    "# must have 2000, 1000, 0.997 as the parameters above\n",
    "# np.random.seed(16)\n",
    "\n",
    "init_assign = np.random.randint(low=0,high=num_districts,size = num_cities)\n",
    "\n",
    "best_assign, best_fitness, iterations, history = simanneal_gerry(init_assign, cities, num_districts, max_no_improve, init_temp, alpha)\n",
    "\n",
    "print(f\"Republicans won {-best_fitness} districts.\")\n",
    "summarize_districts(best_assign, cities, num_districts)"
   ]
  },
  {
   "cell_type": "markdown",
   "metadata": {
    "collapsed": false,
    "hidden": true
   },
   "source": [
    "This seems to find good solutions with Republicans winning 7 or 8 districts (it does rarely find 9).  However, the optimum is 9 districts, we'll see if the simanneal package does better.  While not required we plot the search performance in the cell below:"
   ]
  },
  {
   "cell_type": "code",
   "execution_count": 5,
   "metadata": {
    "collapsed": false
   },
   "outputs": [
    {
     "data": {
      "image/png": "[encoded data removed]",
      "text/plain": [
       "<Figure size 576x432 with 1 Axes>"
      ]
     },
     "execution_count": 5,
     "metadata": {
      "image/png": {
       "height": 386,
       "width": 515
      }
     },
     "output_type": "execute_result"
    }
   ],
   "source": [
    "import matplotlib.pyplot as plt\n",
    "import seaborn as sns\n",
    "sns.set_style(\"darkgrid\")\n",
    "\n",
    "fig = plt.figure(figsize=(8, 6))\n",
    "line_min, = plt.plot(history[:,0], -history[:,1], label='Curr. Districts.',color='red')\n",
    "line_curr, = plt.plot(history[:,0],-history[:,2], label='Best. Districts.')\n",
    "plt.xlabel('Generation')\n",
    "plt.ylabel('Num Districts')\n",
    "plt.legend(handles=[line_curr, line_min])\n",
    "plt.title('Largest Number of Districts Found: {:d}'.format(int(-best_fitness)));"
   ]
  },
  {
   "cell_type": "code",
   "execution_count": 43,
   "metadata": {
    "collapsed": false
   },
   "outputs": [
    {
     "data": {
      "image/png": "[encoded data removed]",
      "text/plain": [
       "<Figure size 576x432 with 1 Axes>"
      ]
     },
     "execution_count": 43,
     "metadata": {
      "image/png": {
       "height": 385,
       "width": 498
      }
     },
     "output_type": "execute_result"
    }
   ],
   "source": [
    "# here is the same graph, but we change the y-axis to -30 to 10 so we can see how the number of districts improves\n",
    "import matplotlib.pyplot as plt\n",
    "import seaborn as sns\n",
    "sns.set_style(\"darkgrid\")\n",
    "\n",
    "fig = plt.figure(figsize=(8, 6))\n",
    "line_min, = plt.plot(history[:,0], -history[:,1], label='Curr. Districts.',color='red')\n",
    "line_curr, = plt.plot(history[:,0],-history[:,2], label='Best. Districts.')\n",
    "plt.ylim(-30,10)\n",
    "plt.xlabel('Generation')\n",
    "plt.ylabel('Num Districts')\n",
    "plt.legend(handles=[line_curr, line_min])\n",
    "plt.title('Largest Number of Districts Found: {:d}'.format(int(-best_fitness)));"
   ]
  },
  {
   "cell_type": "markdown",
   "metadata": {
    "collapsed": false,
    "heading_collapsed": true
   },
   "source": [
    "# *Self Assessment: Simulated Annealing for Gerrymandering with `simanneal`*"
   ]
  },
  {
   "cell_type": "code",
   "execution_count": 8,
   "metadata": {
    "code_folding": [
     0
    ],
    "collapsed": false,
    "hidden": true
   },
   "outputs": [
    {
     "name": "stderr",
     "output_type": "stream",
     "text": [
      " Temperature        Energy    Accept   Improve     Elapsed   Remaining\n",
      "\r     0.00000        545.00                         0:00:00            \r"
     ]
    },
    {
     "name": "stderr",
     "output_type": "stream",
     "text": [
      "\r   290.00000        732.00    80.85%    37.75%     0:00:07     0:01:18\r\r"
     ]
    },
    {
     "name": "stderr",
     "output_type": "stream",
     "text": [
      "\r   440.00000        251.00    87.25%    40.85%     0:00:10     0:01:15\r\r"
     ]
    },
    {
     "name": "stderr",
     "output_type": "stream",
     "text": [
      "\r   660.00000        786.00    91.55%    42.40%     0:00:14     0:01:12\r\r"
     ]
    },
    {
     "name": "stderr",
     "output_type": "stream",
     "text": [
      "\r   990.00000        518.00    93.70%    44.15%     0:00:17     0:01:09\r\r"
     ]
    },
    {
     "name": "stderr",
     "output_type": "stream",
     "text": [
      "\r  1500.00000        619.00    96.05%    44.65%     0:00:21     0:01:05\r\r"
     ]
    },
    {
     "name": "stderr",
     "output_type": "stream",
     "text": [
      "\r  2200.00000        594.00    97.55%    45.25%     0:00:24     0:01:01\r\r"
     ]
    },
    {
     "name": "stderr",
     "output_type": "stream",
     "text": [
      "\r  3300.00000        161.00    98.40%    46.00%     0:00:27     0:00:58\r\r"
     ]
    },
    {
     "name": "stderr",
     "output_type": "stream",
     "text": [
      "\r  2200.00000        887.00    97.20%    44.55%     0:00:31     0:00:55\r\r"
     ]
    },
    {
     "name": "stderr",
     "output_type": "stream",
     "text": [
      "\r  1500.00000        567.00    96.35%    43.75%     0:00:35     0:00:52\r\r"
     ]
    },
    {
     "name": "stderr",
     "output_type": "stream",
     "text": [
      "\r  1000.00000        680.00    94.30%    43.55%     0:00:38     0:00:49\r\r"
     ]
    },
    {
     "name": "stderr",
     "output_type": "stream",
     "text": [
      "\r   670.00000        305.00    91.85%    41.90%     0:00:42     0:00:45\r\r"
     ]
    },
    {
     "name": "stderr",
     "output_type": "stream",
     "text": [
      "\r   450.00000        249.00    88.30%    40.95%     0:00:45     0:00:41\r\r"
     ]
    },
    {
     "name": "stderr",
     "output_type": "stream",
     "text": [
      "\r   300.00000         98.00    81.80%    37.10%     0:00:48     0:00:38\r\r"
     ]
    },
    {
     "name": "stderr",
     "output_type": "stream",
     "text": [
      "\r   200.00000        350.00    73.80%    34.50%     0:00:52     0:00:34\r\r"
     ]
    },
    {
     "name": "stderr",
     "output_type": "stream",
     "text": [
      "\r   130.00000        573.00    63.60%    29.40%     0:00:55     0:00:31\r\r"
     ]
    },
    {
     "name": "stderr",
     "output_type": "stream",
     "text": [
      "\r    87.00000         51.00    53.35%    24.40%     0:00:58     0:00:27\r\r"
     ]
    },
    {
     "name": "stderr",
     "output_type": "stream",
     "text": [
      "\r    58.00000         93.00    42.95%    19.30%     0:01:02     0:00:24\r\r"
     ]
    },
    {
     "name": "stderr",
     "output_type": "stream",
     "text": [
      "\r    39.00000         25.00    34.20%    14.75%     0:01:06     0:00:21\r\r"
     ]
    },
    {
     "name": "stderr",
     "output_type": "stream",
     "text": [
      "\r    26.00000         11.00    26.15%    11.50%     0:01:09     0:00:17\r\r"
     ]
    },
    {
     "name": "stderr",
     "output_type": "stream",
     "text": [
      "\r    17.00000         36.00    22.15%     8.35%     0:01:13     0:00:14\r\r"
     ]
    },
    {
     "name": "stderr",
     "output_type": "stream",
     "text": [
      "\r    11.00000         -6.00    19.25%     6.60%     0:01:16     0:00:10\r\r"
     ]
    },
    {
     "name": "stderr",
     "output_type": "stream",
     "text": [
      "\r     7.30000         -5.00    14.75%     3.80%     0:01:20     0:00:07\r\r"
     ]
    },
    {
     "name": "stderr",
     "output_type": "stream",
     "text": [
      "\r     4.90000         -4.00    12.50%     3.25%     0:01:23     0:00:03\r\r"
     ]
    },
    {
     "name": "stderr",
     "output_type": "stream",
     "text": [
      "\r     3.30000         -4.00    12.65%     2.75%     0:01:26     0:00:00\r\r"
     ]
    },
    {
     "name": "stderr",
     "output_type": "stream",
     "text": [
      "\r     2.20000         -5.00    14.00%     3.40%     0:01:30    -1:59:57\r\r"
     ]
    },
    {
     "name": "stderr",
     "output_type": "stream",
     "text": [
      "\r     1.50000         -4.00    11.90%     1.90%     0:01:33    -1:59:53\r\r"
     ]
    },
    {
     "name": "stderr",
     "output_type": "stream",
     "text": [
      "\r     1.00000         -8.00    11.80%     2.70%     0:01:36    -1:59:50\r\r"
     ]
    },
    {
     "name": "stderr",
     "output_type": "stream",
     "text": [
      "\r     0.67000         -5.00     9.00%     1.15%     0:01:40    -1:59:46\r\r"
     ]
    },
    {
     "name": "stderr",
     "output_type": "stream",
     "text": [
      "\r     0.45000         -6.00     6.70%     0.80%     0:01:43    -1:59:43\r\r"
     ]
    },
    {
     "name": "stderr",
     "output_type": "stream",
     "text": [
      "\r     0.30000         -8.00     5.10%     0.35%     0:01:46    -1:59:39\r\r"
     ]
    },
    {
     "name": "stderr",
     "output_type": "stream",
     "text": [
      "\r     0.20000         -8.00     6.35%     0.20%     0:01:49    -1:59:36\r\r"
     ]
    },
    {
     "name": "stderr",
     "output_type": "stream",
     "text": [
      "\r     0.13000         -9.00     2.05%     0.05%     0:01:53    -1:59:33\r\r"
     ]
    },
    {
     "name": "stderr",
     "output_type": "stream",
     "text": [
      "\r     0.08700         -9.00     0.00%     0.00%     0:01:56    -1:59:29\r\r"
     ]
    },
    {
     "name": "stderr",
     "output_type": "stream",
     "text": [
      " Temperature        Energy    Accept   Improve     Elapsed   Remaining\n",
      "\r  3300.00000         -9.00                         0:00:00            \r"
     ]
    },
    {
     "name": "stderr",
     "output_type": "stream",
     "text": [
      "\r  2969.77805        587.00    98.57%    42.86%     0:00:00     0:00:16\r\r"
     ]
    },
    {
     "name": "stderr",
     "output_type": "stream",
     "text": [
      "\r  2672.60050        964.00   100.00%    40.00%     0:00:00     0:00:17\r\r"
     ]
    },
    {
     "name": "stderr",
     "output_type": "stream",
     "text": [
      "\r  2405.16070        639.00    98.57%    47.14%     0:00:00     0:00:15\r\r"
     ]
    },
    {
     "name": "stderr",
     "output_type": "stream",
     "text": [
      "\r  2164.48287        653.00   100.00%    42.86%     0:00:01     0:00:14\r\r"
     ]
    },
    {
     "name": "stderr",
     "output_type": "stream",
     "text": [
      "\r  1947.88900        797.00    95.71%    41.43%     0:00:01     0:00:14\r\r"
     ]
    },
    {
     "name": "stderr",
     "output_type": "stream",
     "text": [
      "\r  1752.96909        168.00    98.57%    47.14%     0:00:01     0:00:14\r\r"
     ]
    },
    {
     "name": "stderr",
     "output_type": "stream",
     "text": [
      "\r  1577.55428        482.00    97.14%    44.29%     0:00:01     0:00:13\r\r"
     ]
    },
    {
     "name": "stderr",
     "output_type": "stream",
     "text": [
      "\r  1419.69275        608.00    98.57%    52.86%     0:00:01     0:00:13\r\r"
     ]
    },
    {
     "name": "stderr",
     "output_type": "stream",
     "text": [
      "\r  1277.62799        436.00    98.57%    45.71%     0:00:01     0:00:13\r\r"
     ]
    },
    {
     "name": "stderr",
     "output_type": "stream",
     "text": [
      "\r  1149.77926       1171.00    95.71%    47.14%     0:00:01     0:00:12\r\r"
     ]
    },
    {
     "name": "stderr",
     "output_type": "stream",
     "text": [
      "\r  1034.72400        199.00    97.14%    45.71%     0:00:02     0:00:12\r\r"
     ]
    },
    {
     "name": "stderr",
     "output_type": "stream",
     "text": [
      "\r   931.18201        998.00    94.29%    37.14%     0:00:02     0:00:12\r\r"
     ]
    },
    {
     "name": "stderr",
     "output_type": "stream",
     "text": [
      "\r   838.00118       1192.00    88.57%    47.14%     0:00:02     0:00:12\r\r"
     ]
    },
    {
     "name": "stderr",
     "output_type": "stream",
     "text": [
      "\r   754.14470        593.00    95.71%    45.71%     0:00:02     0:00:12\r\r"
     ]
    },
    {
     "name": "stderr",
     "output_type": "stream",
     "text": [
      "\r   678.67951        257.00    91.43%    42.86%     0:00:02     0:00:12\r\r"
     ]
    },
    {
     "name": "stderr",
     "output_type": "stream",
     "text": [
      "\r   610.76591        530.00    84.29%    42.86%     0:00:02     0:00:12\r\r"
     ]
    },
    {
     "name": "stderr",
     "output_type": "stream",
     "text": [
      "\r   549.64824        379.00    84.29%    41.43%     0:00:02     0:00:12\r\r"
     ]
    },
    {
     "name": "stderr",
     "output_type": "stream",
     "text": [
      "\r   494.64645        863.00    90.00%    40.00%     0:00:03     0:00:12\r\r"
     ]
    },
    {
     "name": "stderr",
     "output_type": "stream",
     "text": [
      "\r   445.14854        208.00    90.00%    48.57%     0:00:03     0:00:11\r\r"
     ]
    },
    {
     "name": "stderr",
     "output_type": "stream",
     "text": [
      "\r   400.60374        763.00    85.71%    38.57%     0:00:03     0:00:11\r\r"
     ]
    },
    {
     "name": "stderr",
     "output_type": "stream",
     "text": [
      "\r   360.51642        200.00    81.43%    38.57%     0:00:03     0:00:11\r\r"
     ]
    },
    {
     "name": "stderr",
     "output_type": "stream",
     "text": [
      "\r   324.44053        207.00    84.29%    42.86%     0:00:03     0:00:11\r\r"
     ]
    },
    {
     "name": "stderr",
     "output_type": "stream",
     "text": [
      "\r   291.97466        167.00    87.14%    47.14%     0:00:03     0:00:11\r\r"
     ]
    },
    {
     "name": "stderr",
     "output_type": "stream",
     "text": [
      "\r   262.75756         63.00    81.43%    41.43%     0:00:03     0:00:11\r\r"
     ]
    },
    {
     "name": "stderr",
     "output_type": "stream",
     "text": [
      "\r   236.46413        147.00    81.43%    37.14%     0:00:03     0:00:10\r\r"
     ]
    },
    {
     "name": "stderr",
     "output_type": "stream",
     "text": [
      "\r   212.80181        686.00    85.71%    30.00%     0:00:04     0:00:10\r\r"
     ]
    },
    {
     "name": "stderr",
     "output_type": "stream",
     "text": [
      "\r   191.50732        276.00    71.43%    34.29%     0:00:04     0:00:10\r\r"
     ]
    },
    {
     "name": "stderr",
     "output_type": "stream",
     "text": [
      "\r   172.34371        463.00    65.71%    30.00%     0:00:04     0:00:10\r\r"
     ]
    },
    {
     "name": "stderr",
     "output_type": "stream",
     "text": [
      "\r   155.09774        173.00    75.71%    37.14%     0:00:04     0:00:10\r\r"
     ]
    },
    {
     "name": "stderr",
     "output_type": "stream",
     "text": [
      "\r   139.57754        466.00    67.14%    25.71%     0:00:04     0:00:10\r\r"
     ]
    },
    {
     "name": "stderr",
     "output_type": "stream",
     "text": [
      "\r   125.61040        223.00    62.86%    31.43%     0:00:04     0:00:09\r\r"
     ]
    },
    {
     "name": "stderr",
     "output_type": "stream",
     "text": [
      "\r   113.04091         42.00    61.43%    32.86%     0:00:04     0:00:09\r\r"
     ]
    },
    {
     "name": "stderr",
     "output_type": "stream",
     "text": [
      "\r   101.72921        285.00    58.57%    24.29%     0:00:04     0:00:09\r\r"
     ]
    },
    {
     "name": "stderr",
     "output_type": "stream",
     "text": [
      "\r    91.54945        501.00    55.71%    25.71%     0:00:05     0:00:09\r\r"
     ]
    },
    {
     "name": "stderr",
     "output_type": "stream",
     "text": [
      "\r    82.38835         86.00    52.86%    24.29%     0:00:05     0:00:09\r\r"
     ]
    },
    {
     "name": "stderr",
     "output_type": "stream",
     "text": [
      "\r    74.14397        227.00    58.57%    27.14%     0:00:05     0:00:09\r\r"
     ]
    },
    {
     "name": "stderr",
     "output_type": "stream",
     "text": [
      "\r    66.72459         50.00    48.57%    20.00%     0:00:05     0:00:09\r\r"
     ]
    },
    {
     "name": "stderr",
     "output_type": "stream",
     "text": [
      "\r    60.04764          6.00    41.43%    18.57%     0:00:05     0:00:09\r\r"
     ]
    },
    {
     "name": "stderr",
     "output_type": "stream",
     "text": [
      "\r    54.03884        129.00    37.14%    17.14%     0:00:05     0:00:08\r\r"
     ]
    },
    {
     "name": "stderr",
     "output_type": "stream",
     "text": [
      "\r    48.63132          5.00    41.43%    18.57%     0:00:06     0:00:08\r\r"
     ]
    },
    {
     "name": "stderr",
     "output_type": "stream",
     "text": [
      "\r    43.76492         10.00    32.86%    11.43%     0:00:06     0:00:08\r\r"
     ]
    },
    {
     "name": "stderr",
     "output_type": "stream",
     "text": [
      "\r    39.38548        217.00    37.14%    15.71%     0:00:06     0:00:08\r\r"
     ]
    },
    {
     "name": "stderr",
     "output_type": "stream",
     "text": [
      "\r    35.44429         23.00    20.00%    10.00%     0:00:06     0:00:08\r\r"
     ]
    },
    {
     "name": "stderr",
     "output_type": "stream",
     "text": [
      "\r    31.89747         20.00    24.29%    11.43%     0:00:06     0:00:08\r\r"
     ]
    },
    {
     "name": "stderr",
     "output_type": "stream",
     "text": [
      "\r    28.70558         22.00    35.71%    17.14%     0:00:06     0:00:08\r\r"
     ]
    },
    {
     "name": "stderr",
     "output_type": "stream",
     "text": [
      "\r    25.83309         26.00    28.57%    10.00%     0:00:06     0:00:07\r\r"
     ]
    },
    {
     "name": "stderr",
     "output_type": "stream",
     "text": [
      "\r    23.24804         71.00    18.57%     4.29%     0:00:07     0:00:07\r\r"
     ]
    },
    {
     "name": "stderr",
     "output_type": "stream",
     "text": [
      "\r    20.92168         -3.00    21.43%    11.43%     0:00:07     0:00:07\r\r"
     ]
    },
    {
     "name": "stderr",
     "output_type": "stream",
     "text": [
      "\r    18.82810         -6.00    24.29%    11.43%     0:00:07     0:00:07\r\r"
     ]
    },
    {
     "name": "stderr",
     "output_type": "stream",
     "text": [
      "\r    16.94403         51.00    28.57%     8.57%     0:00:07     0:00:07\r\r"
     ]
    },
    {
     "name": "stderr",
     "output_type": "stream",
     "text": [
      "\r    15.24848          7.00    21.43%    10.00%     0:00:07     0:00:07\r\r"
     ]
    },
    {
     "name": "stderr",
     "output_type": "stream",
     "text": [
      "\r    13.72261         -5.00    14.29%     7.14%     0:00:07     0:00:07\r\r"
     ]
    },
    {
     "name": "stderr",
     "output_type": "stream",
     "text": [
      "\r    12.34943         -7.00    25.71%     5.71%     0:00:07     0:00:06\r\r"
     ]
    },
    {
     "name": "stderr",
     "output_type": "stream",
     "text": [
      "\r    11.11365         -5.00    10.00%     2.86%     0:00:07     0:00:06\r\r"
     ]
    },
    {
     "name": "stderr",
     "output_type": "stream",
     "text": [
      "\r    10.00154         -5.00    14.29%     7.14%     0:00:08     0:00:06\r\r"
     ]
    },
    {
     "name": "stderr",
     "output_type": "stream",
     "text": [
      "\r     9.00071         -4.00    17.14%     7.14%     0:00:08     0:00:06\r\r"
     ]
    },
    {
     "name": "stderr",
     "output_type": "stream",
     "text": [
      "\r     8.10004         -4.00    21.43%     5.71%     0:00:08     0:00:06\r\r"
     ]
    },
    {
     "name": "stderr",
     "output_type": "stream",
     "text": [
      "\r     7.28949         -5.00    11.43%     2.86%     0:00:08     0:00:06\r\r"
     ]
    },
    {
     "name": "stderr",
     "output_type": "stream",
     "text": [
      "\r     6.56005         -6.00    10.00%     4.29%     0:00:08     0:00:06\r\r"
     ]
    },
    {
     "name": "stderr",
     "output_type": "stream",
     "text": [
      "\r     5.90360         -5.00    12.86%     4.29%     0:00:08     0:00:06\r\r"
     ]
    },
    {
     "name": "stderr",
     "output_type": "stream",
     "text": [
      "\r     5.31285         -6.00     5.71%     2.86%     0:00:08     0:00:05\r\r"
     ]
    },
    {
     "name": "stderr",
     "output_type": "stream",
     "text": [
      "\r     4.78120         -5.00    10.00%     1.43%     0:00:09     0:00:05\r\r"
     ]
    },
    {
     "name": "stderr",
     "output_type": "stream",
     "text": [
      "\r     4.30276         -5.00    11.43%     2.86%     0:00:09     0:00:05\r\r"
     ]
    },
    {
     "name": "stderr",
     "output_type": "stream",
     "text": [
      "\r     3.87220         -5.00    15.71%     2.86%     0:00:09     0:00:05\r\r"
     ]
    },
    {
     "name": "stderr",
     "output_type": "stream",
     "text": [
      "\r     3.48472         -5.00    21.43%     4.29%     0:00:09     0:00:05\r\r"
     ]
    },
    {
     "name": "stderr",
     "output_type": "stream",
     "text": [
      "\r     3.13601         -4.00    17.14%     2.86%     0:00:09     0:00:05\r\r"
     ]
    },
    {
     "name": "stderr",
     "output_type": "stream",
     "text": [
      "\r     2.82220         -5.00    11.43%     2.86%     0:00:09     0:00:05\r\r"
     ]
    },
    {
     "name": "stderr",
     "output_type": "stream",
     "text": [
      "\r     2.53979         -6.00    14.29%     5.71%     0:00:09     0:00:04\r\r"
     ]
    },
    {
     "name": "stderr",
     "output_type": "stream",
     "text": [
      "\r     2.28564         -4.00    10.00%     2.86%     0:00:09     0:00:04\r\r"
     ]
    },
    {
     "name": "stderr",
     "output_type": "stream",
     "text": [
      "\r     2.05692         -3.00     8.57%     1.43%     0:00:10     0:00:04\r\r"
     ]
    },
    {
     "name": "stderr",
     "output_type": "stream",
     "text": [
      "\r     1.85109         -5.00    20.00%     4.29%     0:00:10     0:00:04\r\r"
     ]
    },
    {
     "name": "stderr",
     "output_type": "stream",
     "text": [
      "\r     1.66586         -5.00    15.71%     2.86%     0:00:10     0:00:04\r\r"
     ]
    },
    {
     "name": "stderr",
     "output_type": "stream",
     "text": [
      "\r     1.49916         -4.00    21.43%     1.43%     0:00:10     0:00:04\r\r"
     ]
    },
    {
     "name": "stderr",
     "output_type": "stream",
     "text": [
      "\r     1.34914         -4.00     7.14%     1.43%     0:00:10     0:00:04\r\r"
     ]
    },
    {
     "name": "stderr",
     "output_type": "stream",
     "text": [
      "\r     1.21414         -6.00    14.29%     2.86%     0:00:10     0:00:03\r\r"
     ]
    },
    {
     "name": "stderr",
     "output_type": "stream",
     "text": [
      "\r     1.09264         -6.00     7.14%     1.43%     0:00:10     0:00:03\r\r"
     ]
    },
    {
     "name": "stderr",
     "output_type": "stream",
     "text": [
      "\r     0.98330         -4.00    10.00%     2.86%     0:00:10     0:00:03\r\r"
     ]
    },
    {
     "name": "stderr",
     "output_type": "stream",
     "text": [
      "\r     0.88491         -5.00    10.00%     2.86%     0:00:11     0:00:03\r\r"
     ]
    },
    {
     "name": "stderr",
     "output_type": "stream",
     "text": [
      "\r     0.79636         -6.00    11.43%     1.43%     0:00:11     0:00:03\r\r"
     ]
    },
    {
     "name": "stderr",
     "output_type": "stream",
     "text": [
      "\r     0.71667         -5.00    20.00%     2.86%     0:00:11     0:00:03\r\r"
     ]
    },
    {
     "name": "stderr",
     "output_type": "stream",
     "text": [
      "\r     0.64495         -6.00    11.43%     1.43%     0:00:11     0:00:03\r\r"
     ]
    },
    {
     "name": "stderr",
     "output_type": "stream",
     "text": [
      "\r     0.58041         -5.00    12.86%     1.43%     0:00:11     0:00:02\r\r"
     ]
    },
    {
     "name": "stderr",
     "output_type": "stream",
     "text": [
      "\r     0.52233         -6.00    10.00%     2.86%     0:00:11     0:00:02\r\r"
     ]
    },
    {
     "name": "stderr",
     "output_type": "stream",
     "text": [
      "\r     0.47007         -8.00    12.86%     4.29%     0:00:11     0:00:02\r\r"
     ]
    },
    {
     "name": "stderr",
     "output_type": "stream",
     "text": [
      "\r     0.42303         -7.00     7.14%     0.00%     0:00:12     0:00:02\r\r"
     ]
    },
    {
     "name": "stderr",
     "output_type": "stream",
     "text": [
      "\r     0.38070         -7.00    10.00%     1.43%     0:00:12     0:00:02\r\r"
     ]
    },
    {
     "name": "stderr",
     "output_type": "stream",
     "text": [
      "\r     0.34260         -6.00    10.00%     0.00%     0:00:12     0:00:02\r\r"
     ]
    },
    {
     "name": "stderr",
     "output_type": "stream",
     "text": [
      "\r     0.30832         -7.00     4.29%     1.43%     0:00:12     0:00:02\r\r"
     ]
    },
    {
     "name": "stderr",
     "output_type": "stream",
     "text": [
      "\r     0.27747         -7.00    11.43%     1.43%     0:00:12     0:00:01\r\r"
     ]
    },
    {
     "name": "stderr",
     "output_type": "stream",
     "text": [
      "\r     0.24970         -7.00     5.71%     0.00%     0:00:12     0:00:01\r\r"
     ]
    },
    {
     "name": "stderr",
     "output_type": "stream",
     "text": [
      "\r     0.22471         -7.00     2.86%     0.00%     0:00:12     0:00:01\r\r"
     ]
    },
    {
     "name": "stderr",
     "output_type": "stream",
     "text": [
      "\r     0.20223         -7.00     7.14%     0.00%     0:00:13     0:00:01\r\r"
     ]
    },
    {
     "name": "stderr",
     "output_type": "stream",
     "text": [
      "\r     0.18199         -8.00    11.43%     1.43%     0:00:13     0:00:01\r\r"
     ]
    },
    {
     "name": "stderr",
     "output_type": "stream",
     "text": [
      "\r     0.16378         -8.00     1.43%     0.00%     0:00:13     0:00:01\r\r"
     ]
    },
    {
     "name": "stderr",
     "output_type": "stream",
     "text": [
      "\r     0.14739         -8.00     2.86%     0.00%     0:00:13     0:00:01\r\r"
     ]
    },
    {
     "name": "stderr",
     "output_type": "stream",
     "text": [
      "\r     0.13264         -8.00     5.71%     0.00%     0:00:13     0:00:01\r\r"
     ]
    },
    {
     "name": "stderr",
     "output_type": "stream",
     "text": [
      "\r     0.11937         -8.00     0.00%     0.00%     0:00:13     0:00:00\r\r"
     ]
    },
    {
     "name": "stderr",
     "output_type": "stream",
     "text": [
      "\r     0.10742         -8.00     2.86%     0.00%     0:00:13     0:00:00\r\r"
     ]
    },
    {
     "name": "stderr",
     "output_type": "stream",
     "text": [
      "\r     0.09667         -8.00     7.14%     0.00%     0:00:14     0:00:00\r\r"
     ]
    },
    {
     "name": "stderr",
     "output_type": "stream",
     "text": [
      "\r     0.08700         -8.00     4.29%     0.00%     0:00:14     0:00:00\r\r"
     ]
    },
    {
     "data": {
      "text/html": [
       "<div>\n",
       "<style scoped>\n",
       "    .dataframe tbody tr th:only-of-type {\n",
       "        vertical-align: middle;\n",
       "    }\n",
       "\n",
       "    .dataframe tbody tr th {\n",
       "        vertical-align: top;\n",
       "    }\n",
       "\n",
       "    .dataframe thead th {\n",
       "        text-align: right;\n",
       "    }\n",
       "</style>\n",
       "<table border=\"1\" class=\"dataframe\">\n",
       "  <thead>\n",
       "    <tr style=\"text-align: right;\">\n",
       "      <th></th>\n",
       "      <th>reps</th>\n",
       "      <th>dems</th>\n",
       "      <th>total</th>\n",
       "      <th>rep_win</th>\n",
       "    </tr>\n",
       "  </thead>\n",
       "  <tbody>\n",
       "    <tr>\n",
       "      <th>0</th>\n",
       "      <td>136</td>\n",
       "      <td>112</td>\n",
       "      <td>248</td>\n",
       "      <td>True</td>\n",
       "    </tr>\n",
       "    <tr>\n",
       "      <th>1</th>\n",
       "      <td>162</td>\n",
       "      <td>145</td>\n",
       "      <td>307</td>\n",
       "      <td>True</td>\n",
       "    </tr>\n",
       "    <tr>\n",
       "      <th>2</th>\n",
       "      <td>154</td>\n",
       "      <td>152</td>\n",
       "      <td>306</td>\n",
       "      <td>True</td>\n",
       "    </tr>\n",
       "    <tr>\n",
       "      <th>3</th>\n",
       "      <td>167</td>\n",
       "      <td>160</td>\n",
       "      <td>327</td>\n",
       "      <td>True</td>\n",
       "    </tr>\n",
       "    <tr>\n",
       "      <th>4</th>\n",
       "      <td>83</td>\n",
       "      <td>72</td>\n",
       "      <td>155</td>\n",
       "      <td>True</td>\n",
       "    </tr>\n",
       "    <tr>\n",
       "      <th>5</th>\n",
       "      <td>167</td>\n",
       "      <td>160</td>\n",
       "      <td>327</td>\n",
       "      <td>True</td>\n",
       "    </tr>\n",
       "    <tr>\n",
       "      <th>6</th>\n",
       "      <td>150</td>\n",
       "      <td>138</td>\n",
       "      <td>288</td>\n",
       "      <td>True</td>\n",
       "    </tr>\n",
       "    <tr>\n",
       "      <th>7</th>\n",
       "      <td>157</td>\n",
       "      <td>153</td>\n",
       "      <td>310</td>\n",
       "      <td>True</td>\n",
       "    </tr>\n",
       "    <tr>\n",
       "      <th>8</th>\n",
       "      <td>62</td>\n",
       "      <td>152</td>\n",
       "      <td>214</td>\n",
       "      <td>False</td>\n",
       "    </tr>\n",
       "    <tr>\n",
       "      <th>9</th>\n",
       "      <td>83</td>\n",
       "      <td>75</td>\n",
       "      <td>158</td>\n",
       "      <td>True</td>\n",
       "    </tr>\n",
       "  </tbody>\n",
       "</table>\n",
       "</div>"
      ],
      "text/plain": [
       "   reps  dems  total  rep_win\n",
       "0   136   112    248     True\n",
       "1   162   145    307     True\n",
       "2   154   152    306     True\n",
       "3   167   160    327     True\n",
       "4    83    72    155     True\n",
       "5   167   160    327     True\n",
       "6   150   138    288     True\n",
       "7   157   153    310     True\n",
       "8    62   152    214    False\n",
       "9    83    75    158     True"
      ]
     },
     "execution_count": 8,
     "metadata": {
     },
     "output_type": "execute_result"
    }
   ],
   "source": [
    "# must execute the cell labeled \"load problem data and define objective and move functions\"\n",
    "# in the previous self-assessment\n",
    "\n",
    "from simanneal import Annealer\n",
    "\n",
    "class GerrymanderingProblem(Annealer):\n",
    "\n",
    "    # pass extra data (the distance matrix) into the constructor\n",
    "    def __init__(self, state, cities_df, num_districts):\n",
    "        self.cities = cities_df\n",
    "        self.num_dist = num_districts\n",
    "        super(GerrymanderingProblem, self).__init__(state)  # important!\n",
    "\n",
    "    def move(self):\n",
    "        \"\"\"Move one city to another district\"\"\"\n",
    "        self.state = move_one_city( self.state, self.num_dist)\n",
    "    \n",
    "    def energy(self):\n",
    "        \"\"\"Compute number of districts - penalty for too small or too large.  Note that \n",
    "        the negation is included in the fitness_districts() function\"\"\"\n",
    "        return fitness_districts(self.state, self.cities)\n",
    "\n",
    "initial_assign = np.random.randint(low=0,high=num_districts,size = num_cities)\n",
    "gerrymander = GerrymanderingProblem(initial_assign, cities, num_districts)\n",
    "\n",
    "# the auto schedule takes far longer than .2 minutes, about 100 seconds on CoCalc\n",
    "gerrymander.set_schedule(gerrymander.auto(minutes=.2)) #set approximate time to find results\n",
    "\n",
    "# uncomment the following 3 lines to manually control the temperature\n",
    "# gerrymander.Tmax = 25000.0  # Max (starting) temperature\n",
    "# gerrymander.Tmin = 2.5      # Min (ending) temperature\n",
    "# gerrymander.steps = 5000   # Number of iterations\n",
    "\n",
    "best_assign, best_fitness = gerrymander.anneal()\n",
    "\n",
    "summarize_districts(best_assign, cities, num_districts)"
   ]
  },
  {
   "cell_type": "markdown",
   "metadata": {
    "collapsed": false,
    "hidden": true
   },
   "source": [
    "When using the manually selected temperature, this usually returns a result of 7 or 8 districts.\n",
    "\n",
    "Using the auto schedule functionality takes longer but seems to be able to find solutions with 9 districts which is the global maximum."
   ]
  },
  {
   "cell_type": "markdown",
   "metadata": {
    "collapsed": false
   },
   "source": [
    "# *Self-Assessment for Simulated Annealing with Continuous Variables*"
   ]
  },
  {
   "cell_type": "code",
   "execution_count": 9,
   "metadata": {
    "collapsed": false,
    "heading_collapsed": true
   },
   "outputs": [
    {
     "name": "stderr",
     "output_type": "stream",
     "text": [
      " Temperature        Energy    Accept   Improve     Elapsed   Remaining\n",
      "\r     0.00000          1.51                         0:00:00            \r"
     ]
    },
    {
     "name": "stderr",
     "output_type": "stream",
     "text": [
      "\r     0.01500          0.01     0.85%     0.35%     0:00:00     0:00:02\r\r"
     ]
    },
    {
     "name": "stderr",
     "output_type": "stream",
     "text": [
      "\r     0.02200          0.01     1.70%     0.85%     0:00:00     0:00:02\r\r"
     ]
    },
    {
     "name": "stderr",
     "output_type": "stream",
     "text": [
      "\r     0.03300          0.04     4.50%     2.30%     0:00:00     0:00:02\r\r"
     ]
    },
    {
     "name": "stderr",
     "output_type": "stream",
     "text": [
      "\r     0.05000          0.01    10.50%     5.75%     0:00:00     0:00:02\r\r"
     ]
    },
    {
     "name": "stderr",
     "output_type": "stream",
     "text": [
      "\r     0.07500          0.31    17.95%     8.60%     0:00:00     0:00:01\r\r"
     ]
    },
    {
     "name": "stderr",
     "output_type": "stream",
     "text": [
      "\r     0.11000          0.22    27.60%    14.25%     0:00:01     0:00:01\r\r"
     ]
    },
    {
     "name": "stderr",
     "output_type": "stream",
     "text": [
      "\r     0.16000          0.20    42.10%    20.85%     0:00:01     0:00:01\r\r"
     ]
    },
    {
     "name": "stderr",
     "output_type": "stream",
     "text": [
      "\r     0.24000          0.60    49.70%    24.40%     0:00:01     0:00:01\r\r"
     ]
    },
    {
     "name": "stderr",
     "output_type": "stream",
     "text": [
      "\r     0.36000          0.32    62.75%    31.95%     0:00:01     0:00:01\r\r"
     ]
    },
    {
     "name": "stderr",
     "output_type": "stream",
     "text": [
      "\r     0.54000          0.38    73.25%    35.70%     0:00:01     0:00:01\r\r"
     ]
    },
    {
     "name": "stderr",
     "output_type": "stream",
     "text": [
      "\r     0.81000          0.63    81.80%    40.70%     0:00:01     0:00:01\r\r"
     ]
    },
    {
     "name": "stderr",
     "output_type": "stream",
     "text": [
      "\r     1.20000          1.07    85.55%    42.60%     0:00:01     0:00:01\r\r"
     ]
    },
    {
     "name": "stderr",
     "output_type": "stream",
     "text": [
      "\r     1.80000          1.14    91.55%    45.90%     0:00:01     0:00:01\r\r"
     ]
    },
    {
     "name": "stderr",
     "output_type": "stream",
     "text": [
      "\r     2.70000          0.89    95.25%    45.40%     0:00:01     0:00:01\r\r"
     ]
    },
    {
     "name": "stderr",
     "output_type": "stream",
     "text": [
      "\r     4.10000          0.28    96.00%    47.45%     0:00:01     0:00:01\r\r"
     ]
    },
    {
     "name": "stderr",
     "output_type": "stream",
     "text": [
      "\r     6.10000          0.35    98.00%    48.75%     0:00:01     0:00:01\r\r"
     ]
    },
    {
     "name": "stderr",
     "output_type": "stream",
     "text": [
      "\r     4.10000          0.36    95.75%    47.50%     0:00:01     0:00:00\r\r"
     ]
    },
    {
     "name": "stderr",
     "output_type": "stream",
     "text": [
      "\r     2.70000          0.46    94.75%    45.85%     0:00:01     0:00:00\r\r"
     ]
    },
    {
     "name": "stderr",
     "output_type": "stream",
     "text": [
      "\r     1.80000          1.11    91.25%    44.65%     0:00:01     0:00:00\r\r"
     ]
    },
    {
     "name": "stderr",
     "output_type": "stream",
     "text": [
      "\r     1.20000          0.47    86.50%    43.95%     0:00:01     0:00:00\r\r"
     ]
    },
    {
     "name": "stderr",
     "output_type": "stream",
     "text": [
      "\r     0.80000          0.16    80.90%    39.15%     0:00:02     0:00:00\r\r"
     ]
    },
    {
     "name": "stderr",
     "output_type": "stream",
     "text": [
      "\r     0.53000          0.84    73.15%    36.25%     0:00:02     0:00:00\r\r"
     ]
    },
    {
     "name": "stderr",
     "output_type": "stream",
     "text": [
      "\r     0.35000          0.39    60.90%    30.80%     0:00:02     0:00:00\r\r"
     ]
    },
    {
     "name": "stderr",
     "output_type": "stream",
     "text": [
      "\r     0.23000          0.47    49.75%    23.90%     0:00:02     0:00:00\r\r"
     ]
    },
    {
     "name": "stderr",
     "output_type": "stream",
     "text": [
      "\r     0.15000          0.53    39.00%    19.30%     0:00:02     0:00:00\r\r"
     ]
    },
    {
     "name": "stderr",
     "output_type": "stream",
     "text": [
      "\r     0.10000          0.12    24.90%    13.00%     0:00:02     0:00:00\r\r"
     ]
    },
    {
     "name": "stderr",
     "output_type": "stream",
     "text": [
      "\r     0.06700          0.29    16.05%     8.20%     0:00:02     0:00:00\r\r"
     ]
    },
    {
     "name": "stderr",
     "output_type": "stream",
     "text": [
      "\r     0.04500          0.06     8.50%     4.30%     0:00:02     0:00:00\r\r"
     ]
    },
    {
     "name": "stderr",
     "output_type": "stream",
     "text": [
      "\r     0.03000          0.11     2.75%     1.35%     0:00:02     0:00:00\r\r"
     ]
    },
    {
     "name": "stderr",
     "output_type": "stream",
     "text": [
      "\r     0.02000          0.01     1.25%     0.70%     0:00:02     0:00:00\r\r"
     ]
    },
    {
     "name": "stderr",
     "output_type": "stream",
     "text": [
      "\r     0.01300          0.00     0.60%     0.30%     0:00:02     0:00:00\r\r"
     ]
    },
    {
     "name": "stderr",
     "output_type": "stream",
     "text": [
      "\r     0.00870          0.01     0.70%     0.35%     0:00:02    -1:59:59\r\r"
     ]
    },
    {
     "name": "stderr",
     "output_type": "stream",
     "text": [
      "\r     0.00580          0.00     0.25%     0.20%     0:00:02    -1:59:59\r\r"
     ]
    },
    {
     "name": "stderr",
     "output_type": "stream",
     "text": [
      "\r     0.00390          0.02     0.40%     0.15%     0:00:02    -1:59:59\r\r"
     ]
    },
    {
     "name": "stderr",
     "output_type": "stream",
     "text": [
      "\r     0.00260          0.01     0.25%     0.10%     0:00:03    -1:59:59\r\r"
     ]
    },
    {
     "name": "stderr",
     "output_type": "stream",
     "text": [
      "\r     0.00170          0.00     0.10%     0.10%     0:00:03    -1:59:59\r\r"
     ]
    },
    {
     "name": "stderr",
     "output_type": "stream",
     "text": [
      "\r     0.00110          0.00     0.20%     0.10%     0:00:03    -1:59:59\r\r"
     ]
    },
    {
     "name": "stderr",
     "output_type": "stream",
     "text": [
      "\r     0.00073          0.00     0.05%     0.05%     0:00:03    -1:59:59\r\r"
     ]
    },
    {
     "name": "stderr",
     "output_type": "stream",
     "text": [
      "\r     0.00049          0.00     0.00%     0.00%     0:00:03    -1:59:59\r\r"
     ]
    },
    {
     "name": "stderr",
     "output_type": "stream",
     "text": [
      " Temperature        Energy    Accept   Improve     Elapsed   Remaining\n",
      "\r     6.10000          0.00                         0:00:00            \r"
     ]
    },
    {
     "name": "stderr",
     "output_type": "stream",
     "text": [
      "\r     5.55109          1.47    97.36%    48.52%     0:00:00     0:00:15\r\r"
     ]
    },
    {
     "name": "stderr",
     "output_type": "stream",
     "text": [
      "\r     5.05158          1.99    96.58%    47.36%     0:00:00     0:00:15\r\r"
     ]
    },
    {
     "name": "stderr",
     "output_type": "stream",
     "text": [
      "\r     4.59701          0.63    96.79%    47.94%     0:00:00     0:00:14\r\r"
     ]
    },
    {
     "name": "stderr",
     "output_type": "stream",
     "text": [
      "\r     4.18335          1.27    96.21%    47.15%     0:00:01     0:00:13\r\r"
     ]
    },
    {
     "name": "stderr",
     "output_type": "stream",
     "text": [
      "\r     3.80691          0.83    96.24%    46.94%     0:00:01     0:00:13\r\r"
     ]
    },
    {
     "name": "stderr",
     "output_type": "stream",
     "text": [
      "\r     3.46435          0.67    94.97%    47.85%     0:00:01     0:00:12\r\r"
     ]
    },
    {
     "name": "stderr",
     "output_type": "stream",
     "text": [
      "\r     3.15261          0.85    94.67%    46.39%     0:00:01     0:00:12\r\r"
     ]
    },
    {
     "name": "stderr",
     "output_type": "stream",
     "text": [
      "\r     2.86892          0.47    95.36%    47.55%     0:00:01     0:00:12\r\r"
     ]
    },
    {
     "name": "stderr",
     "output_type": "stream",
     "text": [
      "\r     2.61077          1.17    94.00%    45.85%     0:00:01     0:00:12\r\r"
     ]
    },
    {
     "name": "stderr",
     "output_type": "stream",
     "text": [
      "\r     2.37584          0.69    93.91%    46.12%     0:00:01     0:00:11\r\r"
     ]
    },
    {
     "name": "stderr",
     "output_type": "stream",
     "text": [
      "\r     2.16205          0.74    93.45%    46.30%     0:00:01     0:00:11\r\r"
     ]
    },
    {
     "name": "stderr",
     "output_type": "stream",
     "text": [
      "\r     1.96750          0.64    92.70%    46.42%     0:00:02     0:00:11\r\r"
     ]
    },
    {
     "name": "stderr",
     "output_type": "stream",
     "text": [
      "\r     1.79045          1.20    92.09%    44.88%     0:00:02     0:00:11\r\r"
     ]
    },
    {
     "name": "stderr",
     "output_type": "stream",
     "text": [
      "\r     1.62934          1.29    91.61%    44.91%     0:00:02     0:00:11\r\r"
     ]
    },
    {
     "name": "stderr",
     "output_type": "stream",
     "text": [
      "\r     1.48272          0.78    89.24%    44.24%     0:00:02     0:00:11\r\r"
     ]
    },
    {
     "name": "stderr",
     "output_type": "stream",
     "text": [
      "\r     1.34930          1.38    88.36%    42.88%     0:00:02     0:00:10\r\r"
     ]
    },
    {
     "name": "stderr",
     "output_type": "stream",
     "text": [
      "\r     1.22788          0.67    87.42%    43.21%     0:00:02     0:00:10\r\r"
     ]
    },
    {
     "name": "stderr",
     "output_type": "stream",
     "text": [
      "\r     1.11739          1.05    85.06%    42.09%     0:00:02     0:00:11\r\r"
     ]
    },
    {
     "name": "stderr",
     "output_type": "stream",
     "text": [
      "\r     1.01684          0.85    85.27%    42.45%     0:00:02     0:00:11\r\r"
     ]
    },
    {
     "name": "stderr",
     "output_type": "stream",
     "text": [
      "\r     0.92534          1.61    85.15%    41.15%     0:00:03     0:00:10\r\r"
     ]
    },
    {
     "name": "stderr",
     "output_type": "stream",
     "text": [
      "\r     0.84208          1.01    83.36%    41.55%     0:00:03     0:00:10\r\r"
     ]
    },
    {
     "name": "stderr",
     "output_type": "stream",
     "text": [
      "\r     0.76630          0.52    80.79%    39.79%     0:00:03     0:00:10\r\r"
     ]
    },
    {
     "name": "stderr",
     "output_type": "stream",
     "text": [
      "\r     0.69735          0.28    78.70%    39.39%     0:00:03     0:00:10\r\r"
     ]
    },
    {
     "name": "stderr",
     "output_type": "stream",
     "text": [
      "\r     0.63460          1.36    78.03%    39.03%     0:00:03     0:00:10\r\r"
     ]
    },
    {
     "name": "stderr",
     "output_type": "stream",
     "text": [
      "\r     0.57749          0.21    76.18%    38.09%     0:00:03     0:00:09\r\r"
     ]
    },
    {
     "name": "stderr",
     "output_type": "stream",
     "text": [
      "\r     0.52553          0.68    73.45%    36.88%     0:00:03     0:00:09\r\r"
     ]
    },
    {
     "name": "stderr",
     "output_type": "stream",
     "text": [
      "\r     0.47824          1.09    72.09%    35.85%     0:00:03     0:00:09\r\r"
     ]
    },
    {
     "name": "stderr",
     "output_type": "stream",
     "text": [
      "\r     0.43520          0.74    70.12%    34.30%     0:00:04     0:00:09\r\r"
     ]
    },
    {
     "name": "stderr",
     "output_type": "stream",
     "text": [
      "\r     0.39604          0.57    68.64%    34.55%     0:00:04     0:00:09\r\r"
     ]
    },
    {
     "name": "stderr",
     "output_type": "stream",
     "text": [
      "\r     0.36040          0.58    64.36%    32.03%     0:00:04     0:00:09\r\r"
     ]
    },
    {
     "name": "stderr",
     "output_type": "stream",
     "text": [
      "\r     0.32797          0.35    62.15%    30.27%     0:00:04     0:00:09\r\r"
     ]
    },
    {
     "name": "stderr",
     "output_type": "stream",
     "text": [
      "\r     0.29846          0.39    58.85%    29.70%     0:00:04     0:00:09\r\r"
     ]
    },
    {
     "name": "stderr",
     "output_type": "stream",
     "text": [
      "\r     0.27160          0.37    57.00%    28.52%     0:00:04     0:00:09\r\r"
     ]
    },
    {
     "name": "stderr",
     "output_type": "stream",
     "text": [
      "\r     0.24716          1.16    54.03%    27.55%     0:00:04     0:00:08\r\r"
     ]
    },
    {
     "name": "stderr",
     "output_type": "stream",
     "text": [
      "\r     0.22492          0.88    50.12%    25.15%     0:00:04     0:00:08\r\r"
     ]
    },
    {
     "name": "stderr",
     "output_type": "stream",
     "text": [
      "\r     0.20468          0.01    46.94%    23.21%     0:00:05     0:00:08\r\r"
     ]
    },
    {
     "name": "stderr",
     "output_type": "stream",
     "text": [
      "\r     0.18626          0.22    46.42%    23.97%     0:00:05     0:00:08\r\r"
     ]
    },
    {
     "name": "stderr",
     "output_type": "stream",
     "text": [
      "\r     0.16950          0.04    41.76%    20.82%     0:00:05     0:00:08\r\r"
     ]
    },
    {
     "name": "stderr",
     "output_type": "stream",
     "text": [
      "\r     0.15425          0.35    40.09%    20.00%     0:00:05     0:00:08\r\r"
     ]
    },
    {
     "name": "stderr",
     "output_type": "stream",
     "text": [
      "\r     0.14037          0.64    38.30%    18.61%     0:00:05     0:00:08\r\r"
     ]
    },
    {
     "name": "stderr",
     "output_type": "stream",
     "text": [
      "\r     0.12774          0.31    34.48%    16.97%     0:00:05     0:00:07\r\r"
     ]
    },
    {
     "name": "stderr",
     "output_type": "stream",
     "text": [
      "\r     0.11624          0.03    32.61%    16.24%     0:00:05     0:00:07\r\r"
     ]
    },
    {
     "name": "stderr",
     "output_type": "stream",
     "text": [
      "\r     0.10578          0.11    30.45%    15.30%     0:00:05     0:00:07\r\r"
     ]
    },
    {
     "name": "stderr",
     "output_type": "stream",
     "text": [
      "\r     0.09627          0.06    28.06%    13.76%     0:00:05     0:00:07\r\r"
     ]
    },
    {
     "name": "stderr",
     "output_type": "stream",
     "text": [
      "\r     0.08760          0.22    24.48%    12.36%     0:00:06     0:00:07\r\r"
     ]
    },
    {
     "name": "stderr",
     "output_type": "stream",
     "text": [
      "\r     0.07972          0.23    21.09%    10.52%     0:00:06     0:00:07\r\r"
     ]
    },
    {
     "name": "stderr",
     "output_type": "stream",
     "text": [
      "\r     0.07255          0.19    18.36%     9.45%     0:00:06     0:00:07\r\r"
     ]
    },
    {
     "name": "stderr",
     "output_type": "stream",
     "text": [
      "\r     0.06602          0.21    15.82%     7.76%     0:00:06     0:00:06\r\r"
     ]
    },
    {
     "name": "stderr",
     "output_type": "stream",
     "text": [
      "\r     0.06008          0.03    13.27%     6.82%     0:00:06     0:00:06\r\r"
     ]
    },
    {
     "name": "stderr",
     "output_type": "stream",
     "text": [
      "\r     0.05467          0.02    11.70%     5.97%     0:00:06     0:00:06\r\r"
     ]
    },
    {
     "name": "stderr",
     "output_type": "stream",
     "text": [
      "\r     0.04975          0.01    11.36%     5.79%     0:00:06     0:00:06\r\r"
     ]
    },
    {
     "name": "stderr",
     "output_type": "stream",
     "text": [
      "\r     0.04528          0.01     8.33%     4.00%     0:00:06     0:00:06\r\r"
     ]
    },
    {
     "name": "stderr",
     "output_type": "stream",
     "text": [
      "\r     0.04120          0.03     6.24%     3.00%     0:00:07     0:00:06\r\r"
     ]
    },
    {
     "name": "stderr",
     "output_type": "stream",
     "text": [
      "\r     0.03749          0.06     4.79%     2.24%     0:00:07     0:00:06\r\r"
     ]
    },
    {
     "name": "stderr",
     "output_type": "stream",
     "text": [
      "\r     0.03412          0.05     4.03%     2.00%     0:00:07     0:00:06\r\r"
     ]
    },
    {
     "name": "stderr",
     "output_type": "stream",
     "text": [
      "\r     0.03105          0.02     3.00%     1.58%     0:00:07     0:00:05\r\r"
     ]
    },
    {
     "name": "stderr",
     "output_type": "stream",
     "text": [
      "\r     0.02826          0.01     2.36%     1.18%     0:00:07     0:00:05\r\r"
     ]
    },
    {
     "name": "stderr",
     "output_type": "stream",
     "text": [
      "\r     0.02571          0.03     2.73%     1.33%     0:00:07     0:00:05\r\r"
     ]
    },
    {
     "name": "stderr",
     "output_type": "stream",
     "text": [
      "\r     0.02340          0.05     1.94%     0.94%     0:00:07     0:00:05\r\r"
     ]
    },
    {
     "name": "stderr",
     "output_type": "stream",
     "text": [
      "\r     0.02129          0.01     1.09%     0.52%     0:00:07     0:00:05\r\r"
     ]
    },
    {
     "name": "stderr",
     "output_type": "stream",
     "text": [
      "\r     0.01938          0.01     0.94%     0.48%     0:00:08     0:00:05\r\r"
     ]
    },
    {
     "name": "stderr",
     "output_type": "stream",
     "text": [
      "\r     0.01763          0.00     1.21%     0.64%     0:00:08     0:00:05\r\r"
     ]
    },
    {
     "name": "stderr",
     "output_type": "stream",
     "text": [
      "\r     0.01605          0.04     0.94%     0.42%     0:00:08     0:00:05\r\r"
     ]
    },
    {
     "name": "stderr",
     "output_type": "stream",
     "text": [
      "\r     0.01460          0.00     0.97%     0.58%     0:00:08     0:00:04\r\r"
     ]
    },
    {
     "name": "stderr",
     "output_type": "stream",
     "text": [
      "\r     0.01329          0.01     0.33%     0.15%     0:00:08     0:00:04\r\r"
     ]
    },
    {
     "name": "stderr",
     "output_type": "stream",
     "text": [
      "\r     0.01209          0.01     0.64%     0.30%     0:00:08     0:00:04\r\r"
     ]
    },
    {
     "name": "stderr",
     "output_type": "stream",
     "text": [
      "\r     0.01101          0.01     0.45%     0.21%     0:00:08     0:00:04\r\r"
     ]
    },
    {
     "name": "stderr",
     "output_type": "stream",
     "text": [
      "\r     0.01001          0.00     0.27%     0.15%     0:00:08     0:00:04\r\r"
     ]
    },
    {
     "name": "stderr",
     "output_type": "stream",
     "text": [
      "\r     0.00911          0.00     0.58%     0.30%     0:00:09     0:00:04\r\r"
     ]
    },
    {
     "name": "stderr",
     "output_type": "stream",
     "text": [
      "\r     0.00829          0.00     0.42%     0.18%     0:00:09     0:00:04\r\r"
     ]
    },
    {
     "name": "stderr",
     "output_type": "stream",
     "text": [
      "\r     0.00755          0.04     0.36%     0.12%     0:00:09     0:00:04\r\r"
     ]
    },
    {
     "name": "stderr",
     "output_type": "stream",
     "text": [
      "\r     0.00687          0.00     0.67%     0.39%     0:00:09     0:00:04\r\r"
     ]
    },
    {
     "name": "stderr",
     "output_type": "stream",
     "text": [
      "\r     0.00625          0.00     0.24%     0.09%     0:00:09     0:00:03\r\r"
     ]
    },
    {
     "name": "stderr",
     "output_type": "stream",
     "text": [
      "\r     0.00569          0.00     0.24%     0.12%     0:00:09     0:00:03\r\r"
     ]
    },
    {
     "name": "stderr",
     "output_type": "stream",
     "text": [
      "\r     0.00518          0.00     0.24%     0.12%     0:00:09     0:00:03\r\r"
     ]
    },
    {
     "name": "stderr",
     "output_type": "stream",
     "text": [
      "\r     0.00471          0.00     0.12%     0.06%     0:00:10     0:00:03\r\r"
     ]
    },
    {
     "name": "stderr",
     "output_type": "stream",
     "text": [
      "\r     0.00429          0.01     0.12%     0.06%     0:00:10     0:00:03\r\r"
     ]
    },
    {
     "name": "stderr",
     "output_type": "stream",
     "text": [
      "\r     0.00390          0.00     0.24%     0.12%     0:00:10     0:00:03\r\r"
     ]
    },
    {
     "name": "stderr",
     "output_type": "stream",
     "text": [
      "\r     0.00355          0.00     0.21%     0.09%     0:00:10     0:00:03\r\r"
     ]
    },
    {
     "name": "stderr",
     "output_type": "stream",
     "text": [
      "\r     0.00323          0.00     0.15%     0.12%     0:00:10     0:00:03\r\r"
     ]
    },
    {
     "name": "stderr",
     "output_type": "stream",
     "text": [
      "\r     0.00294          0.00     0.06%     0.03%     0:00:10     0:00:02\r\r"
     ]
    },
    {
     "name": "stderr",
     "output_type": "stream",
     "text": [
      "\r     0.00267          0.00     0.15%     0.09%     0:00:10     0:00:02\r\r"
     ]
    },
    {
     "name": "stderr",
     "output_type": "stream",
     "text": [
      "\r     0.00243          0.00     0.06%     0.00%     0:00:10     0:00:02\r\r"
     ]
    },
    {
     "name": "stderr",
     "output_type": "stream",
     "text": [
      "\r     0.00222          0.00     0.21%     0.09%     0:00:11     0:00:02\r\r"
     ]
    },
    {
     "name": "stderr",
     "output_type": "stream",
     "text": [
      "\r     0.00202          0.00     0.09%     0.00%     0:00:11     0:00:02\r\r"
     ]
    },
    {
     "name": "stderr",
     "output_type": "stream",
     "text": [
      "\r     0.00183          0.00     0.06%     0.03%     0:00:11     0:00:02\r\r"
     ]
    },
    {
     "name": "stderr",
     "output_type": "stream",
     "text": [
      "\r     0.00167          0.00     0.06%     0.03%     0:00:11     0:00:02\r\r"
     ]
    },
    {
     "name": "stderr",
     "output_type": "stream",
     "text": [
      "\r     0.00152          0.00     0.00%     0.00%     0:00:11     0:00:02\r\r"
     ]
    },
    {
     "name": "stderr",
     "output_type": "stream",
     "text": [
      "\r     0.00138          0.00     0.06%     0.00%     0:00:11     0:00:01\r\r"
     ]
    },
    {
     "name": "stderr",
     "output_type": "stream",
     "text": [
      "\r     0.00126          0.00     0.09%     0.06%     0:00:11     0:00:01\r\r"
     ]
    },
    {
     "name": "stderr",
     "output_type": "stream",
     "text": [
      "\r     0.00114          0.00     0.06%     0.00%     0:00:11     0:00:01\r\r"
     ]
    },
    {
     "name": "stderr",
     "output_type": "stream",
     "text": [
      "\r     0.00104          0.00     0.00%     0.00%     0:00:12     0:00:01\r\r"
     ]
    },
    {
     "name": "stderr",
     "output_type": "stream",
     "text": [
      "\r     0.00095          0.00     0.00%     0.00%     0:00:12     0:00:01\r\r"
     ]
    },
    {
     "name": "stderr",
     "output_type": "stream",
     "text": [
      "\r     0.00086          0.00     0.09%     0.03%     0:00:12     0:00:01\r\r"
     ]
    },
    {
     "name": "stderr",
     "output_type": "stream",
     "text": [
      "\r     0.00079          0.00     0.06%     0.00%     0:00:12     0:00:01\r\r"
     ]
    },
    {
     "name": "stderr",
     "output_type": "stream",
     "text": [
      "\r     0.00071          0.00     0.09%     0.06%     0:00:12     0:00:01\r\r"
     ]
    },
    {
     "name": "stderr",
     "output_type": "stream",
     "text": [
      "\r     0.00065          0.00     0.12%     0.06%     0:00:12     0:00:00\r\r"
     ]
    },
    {
     "name": "stderr",
     "output_type": "stream",
     "text": [
      "\r     0.00059          0.00     0.03%     0.03%     0:00:12     0:00:00\r\r"
     ]
    },
    {
     "name": "stderr",
     "output_type": "stream",
     "text": [
      "\r     0.00054          0.00     0.03%     0.03%     0:00:12     0:00:00\r\r"
     ]
    },
    {
     "name": "stderr",
     "output_type": "stream",
     "text": [
      "\r     0.00049          0.00     0.00%     0.00%     0:00:12     0:00:00\r\r"
     ]
    },
    {
     "name": "stdout",
     "output_type": "stream",
     "text": [
      "Notice that the results below are displayed using scientific notation.\n",
      "\n",
      "The lowest function value found by simulated annealing is 1.710e-05\n",
      "That value is achieved when x = 5.372e-04 and y = -7.892e-04\n",
      "\n",
      "After refining the result from simulated annealing with local search.\n",
      "The lowest function value found by local search is 1.701e-12\n",
      "That value is achieved when x = 2.497e-07 and y = 1.682e-07\n"
     ]
    }
   ],
   "source": [
    "# Self-Assessment Solution for Simulated Annealing with Continuous Variables\n",
    "\n",
    "def f(xy):\n",
    "    obj = 0.2 + sum(xy**2 - 0.1*np.cos(6*np.pi*xy))\n",
    "    return obj\n",
    "\n",
    "def gauss_move(xy,sigma):\n",
    "    # xy is a 1 by dim numpy array\n",
    "    # sigma is the standard deviation for the normal distribution\n",
    "    dim = len(xy)\n",
    "    return xy + np.random.normal(loc = 0, scale = sigma, size=dim)\n",
    "\n",
    "def clip_to_bounds(xy,low,high):\n",
    "    # xy is a 1 by dim numpy array\n",
    "    # low is the lower bound for clipping variables\n",
    "    # high is the upper bound for clipping variables\n",
    "    return np.array( [min(high,max(low,v)) for v in xy])\n",
    "\n",
    "class NonConvex2D(Annealer):\n",
    "\n",
    "    # no extra data so just initialize with state\n",
    "    def __init__(self, state, sigma, low, high):\n",
    "        self.sigma = sigma\n",
    "        self.low = low\n",
    "        self.high = high\n",
    "        super(NonConvex2D, self).__init__(state)  # important!\n",
    "\n",
    "    def move(self):\n",
    "        self.state = gauss_move(self.state, self.sigma)\n",
    "        self.state = clip_to_bounds(self.state, self.low, self.high)\n",
    "\n",
    "    def energy(self):\n",
    "        return f(self.state)\n",
    "\n",
    "init_state = np.random.uniform(low=-1,high=1,size=2)\n",
    "sigma = 1/3\n",
    "low = -1\n",
    "high = 1\n",
    "\n",
    "problem2D = NonConvex2D( init_state, sigma, low, high )\n",
    "problem2D.set_schedule(problem2D.auto(minutes=.2))\n",
    "best_x, best_fun = problem2D.anneal()\n",
    "\n",
    "print(\"Notice that the results below are displayed using scientific notation.\\n\")\n",
    "print(f\"The lowest function value found by simulated annealing is {best_fun:.3e}\")\n",
    "print(f\"That value is achieved when x = {best_x[0]:.3e} and y = {best_x[1]:.3e}\")\n",
    "# refine with local search\n",
    "from scipy.optimize import minimize\n",
    "\n",
    "result = minimize(f,best_x)\n",
    "print(\"\\nAfter refining the result from simulated annealing with local search.\")\n",
    "print(f\"The lowest function value found by local search is {result.fun:.3e}\")\n",
    "print(f\"That value is achieved when x = {result.x[0]:.3e} and y = {result.x[1]:.3e}\")"
   ]
  },
  {
   "cell_type": "markdown",
   "metadata": {
    "collapsed": false
   },
   "source": [
    "Notice that we get close to the optimal solution, but only to within 5 or so decimal places.  Simulated annealing is very good at exploring the entire space of solutions but is not so efficient at converging to a nearby minimum value.  Most practical simulated annealing type search algorithms for continuous optimization combine a gradient based local search with the annealing process to promote faster convergence."
   ]
  },
  {
   "cell_type": "markdown",
   "metadata": {
    "collapsed": false,
    "heading_collapsed": true
   },
   "source": [
    "# *Self-Assessment:  Genetic Algorithm for the Gerrymandering Problem*"
   ]
  },
  {
   "cell_type": "code",
   "execution_count": 13,
   "metadata": {
    "code_folding": [
     0
    ],
    "collapsed": false,
    "hidden": true
   },
   "outputs": [
   ],
   "source": [
    "# load the data + random assignment\n",
    "num_districts = 10\n",
    "min_voters_in_district = 150\n",
    "max_voters_in_district = 350\n",
    "\n",
    "dems = [152,81,75,34,62,38,48,74,98,66,83,86,72,28,112,45,93,72]\n",
    "reps = [62,59,83,52,87,87,69,49,62,72,75,82,83,53,98,82,68,98]\n",
    "cities = pd.DataFrame( data = {'dems':dems, 'reps':reps})\n",
    "num_cities = len(dems)\n",
    "\n",
    "# uses penalty to 'discourage' out of bounds solutions\n",
    "def fitness_districts(assign, cities, num_districts):\n",
    "    df = cities.groupby(assign).sum()\n",
    "    fitness = sum( df['reps'] > df['dems'] )\n",
    "    total_voters = np.zeros(num_districts,dtype=np.int32)\n",
    "    total_voters[df.index] = df.sum(axis=1)\n",
    "    fitness -= np.abs(np.minimum(np.maximum(total_voters,150),350)-total_voters).sum()\n",
    "    return (-fitness)\n",
    "\n",
    "def move_cities(assign,num_districts,ind_prob):\n",
    "    num_cities = assign.shape[0] # or len(assign)\n",
    "    new_assign = assign.copy()\n",
    "    for j in range(num_cities):\n",
    "        if np.random.uniform() < ind_prob:\n",
    "            while new_assign[j] == assign[j]: # loops until new and old are different\n",
    "                new_assign[j] = np.random.randint(num_districts)\n",
    "    return new_assign\n",
    "\n",
    "# for printing out an assignment of cities to districts\n",
    "def summarize_districts(assign, cities, num_districts):\n",
    "    reps = np.zeros(num_districts, dtype=np.int32)\n",
    "    dems = np.zeros(num_districts, dtype=np.int32)\n",
    "    df = cities.groupby(assign).sum()\n",
    "    reps[df.index] = df['reps']\n",
    "    dems[df.index] = df['dems']\n",
    "    total = reps + dems\n",
    "    delta = np.minimum(np.maximum(total, 150), 350) - total\n",
    "    rep_win = reps > dems\n",
    "    dict = {\n",
    "        'reps': reps,\n",
    "        'dems': dems,\n",
    "        'total': total,\n",
    "        'rep_win': rep_win\n",
    "    }\n",
    "    return (pd.DataFrame(data=dict))"
   ]
  },
  {
   "cell_type": "code",
   "execution_count": 11,
   "metadata": {
    "code_folding": [
    ],
    "collapsed": false,
    "hidden": true
   },
   "outputs": [
    {
     "name": "stdout",
     "output_type": "stream",
     "text": [
      "Iteration | Best this iter |    Best ever\n"
     ]
    },
    {
     "name": "stdout",
     "output_type": "stream",
     "text": [
      "      100 |     -6.000e+00 |   -6.000e+00\n"
     ]
    },
    {
     "name": "stdout",
     "output_type": "stream",
     "text": [
      "      200 |     -7.000e+00 |   -7.000e+00\n"
     ]
    },
    {
     "name": "stdout",
     "output_type": "stream",
     "text": [
      "      300 |     -7.000e+00 |   -7.000e+00\n"
     ]
    },
    {
     "name": "stdout",
     "output_type": "stream",
     "text": [
      "      400 |     -7.000e+00 |   -7.000e+00\n"
     ]
    },
    {
     "name": "stdout",
     "output_type": "stream",
     "text": [
      "      500 |     -7.000e+00 |   -7.000e+00\n"
     ]
    },
    {
     "name": "stdout",
     "output_type": "stream",
     "text": [
      "      600 |     -7.000e+00 |   -7.000e+00\n"
     ]
    },
    {
     "name": "stdout",
     "output_type": "stream",
     "text": [
      "      700 |     -7.000e+00 |   -7.000e+00\n"
     ]
    },
    {
     "name": "stdout",
     "output_type": "stream",
     "text": [
      "      800 |     -7.000e+00 |   -7.000e+00\n"
     ]
    },
    {
     "name": "stdout",
     "output_type": "stream",
     "text": [
      "      900 |     -7.000e+00 |   -7.000e+00\n"
     ]
    },
    {
     "name": "stdout",
     "output_type": "stream",
     "text": [
      "     1000 |     -7.000e+00 |   -7.000e+00\n",
      "The maximum number of districts won by Republicans is 7\n",
      "The location of that maximum  is:\n",
      "( 8, 0, 7, 5, 5, 9, 3, 9, 7, 3, 4, 6, 1, 4, 0, 6, 2, 2 )\n"
     ]
    }
   ],
   "source": [
    "pop_size = 20 # should be even due to the way we'll implement crossover\n",
    "ind_size = num_cities # determines number of input variables for Rastrigin and each individual\n",
    "# bounds are included in the fitness function so we don't need these\n",
    "#lower = -5.12 # lower and upper bounds on the real variables\n",
    "#upper = 5.12\n",
    "tourn_size = 3 # tournament size for selection\n",
    "cx_prob = 0.7 # probability a pair of parents crossover to produce two children\n",
    "mut_prob = 0.3 # probability an individual mutates\n",
    "ind_prob = 0.1 # probability each variable in an individual mutates\n",
    "# sigma is only needed for gaussian mutation\n",
    "#sigma = (upper-lower)/6 # standard deviation (scale) for gaussian mutations\n",
    "num_iter = 1000 # number of genetic algorithm mutations\n",
    "update_iter = 100 # how often to display output\n",
    "\n",
    "stats = np.zeros((num_iter+1,3)) # for collecting statistics\n",
    "\n",
    "# objective or fitness function\n",
    "\n",
    "#initialize population and fitness\n",
    "pop = np.random.randint(low=0, high=num_districts, size = (ind_size,pop_size))\n",
    "fitness = np.empty(pop_size)\n",
    "for j in range(pop_size):\n",
    "    fitness[j] = fitness_districts(pop[:,j],cities,num_districts)\n",
    "best_fitness = min(fitness)\n",
    "stats[0,:] = np.array([0,best_fitness, best_fitness])\n",
    "print('Iteration | Best this iter |    Best ever')\n",
    "\n",
    "for iter in range(num_iter):\n",
    "    # tournament selection\n",
    "    sorted_pos = fitness.argsort() # sort pop by increasing fitness\n",
    "    fitness = fitness[sorted_pos]\n",
    "    pop = pop[:,sorted_pos]\n",
    "    select_pop = np.zeros((ind_size,pop_size)) # initialize selected population\n",
    "    for j in range(pop_size):\n",
    "        subset_pos = np.random.choice(pop_size,tourn_size,replace=False) # select without replacement\n",
    "        smallest_pos = np.min(subset_pos) # choose index corresponding to lowest fitness\n",
    "        select_pop[:,j] = pop[:,smallest_pos]\n",
    "\n",
    "    # one-point crossover (mating)\n",
    "    cx_pop = np.zeros((ind_size,pop_size)) # initialize crossover population\n",
    "    for j in range(int(pop_size/2)):  # pop_size must be even\n",
    "        child1 = select_pop[:,2*j] # these are the parents, but we'll swap pieces in place\n",
    "        child2 = select_pop[:,2*j+1]\n",
    "        if np.random.uniform() < cx_prob: # crossover occurs\n",
    "            cx_point = np.random.randint(0,ind_size-1) # crossover point between 0 and ind_size-2\n",
    "            child1[0:cx_point+1], child2[0:cx_point+1] = child2[0:cx_point+1], child1[0:cx_point+1]\n",
    "        cx_pop[:,2*j] = child1\n",
    "        cx_pop[:,2*j+1] = child2\n",
    "\n",
    "    # mutuation\n",
    "    mut_pop = cx_pop.copy()\n",
    "    for j in range(pop_size):\n",
    "        if np.random.uniform()<mut_prob:\n",
    "            mut_pop[:,j] = move_cities(mut_pop[:,j], num_districts, ind_prob)\n",
    "\n",
    "    # fitness evaluation\n",
    "    pop = mut_pop.copy().astype(int)\n",
    "    for j in range(pop_size):\n",
    "        fitness[j] = fitness_districts(pop[:,j],cities,num_districts)\n",
    "\n",
    "    # collect stats and output to screen\n",
    "    min_fitness = min(fitness) # best for this iteration\n",
    "    if min_fitness < best_fitness: # best for all iterations\n",
    "        best_fitness = min_fitness\n",
    "        index = np.argmin(fitness)\n",
    "        best_x = pop[:,index]\n",
    "\n",
    "    stats[iter+1,:] = np.array([iter+1,min_fitness, best_fitness])\n",
    "    if (iter+1) % update_iter == 0:\n",
    "        print(f\"{stats[iter+1,0]:9.0f} | {stats[iter+1,1]:14.3e} | {stats[iter+1,2]:12.3e}\")\n",
    "        \n",
    "print(f\"The maximum number of districts won by Republicans is {-best_fitness:.0f}\")\n",
    "print(\"The location of that maximum  is:\")\n",
    "print('(',', '.join(f\"{x:.0f}\" for x in best_x),')')"
   ]
  },
  {
   "cell_type": "code",
   "execution_count": 14,
   "metadata": {
    "collapsed": false,
    "hidden": true
   },
   "outputs": [
    {
     "data": {
      "text/html": [
       "<div>\n",
       "<style scoped>\n",
       "    .dataframe tbody tr th:only-of-type {\n",
       "        vertical-align: middle;\n",
       "    }\n",
       "\n",
       "    .dataframe tbody tr th {\n",
       "        vertical-align: top;\n",
       "    }\n",
       "\n",
       "    .dataframe thead th {\n",
       "        text-align: right;\n",
       "    }\n",
       "</style>\n",
       "<table border=\"1\" class=\"dataframe\">\n",
       "  <thead>\n",
       "    <tr style=\"text-align: right;\">\n",
       "      <th></th>\n",
       "      <th>reps</th>\n",
       "      <th>dems</th>\n",
       "      <th>total</th>\n",
       "      <th>rep_win</th>\n",
       "    </tr>\n",
       "  </thead>\n",
       "  <tbody>\n",
       "    <tr>\n",
       "      <th>0</th>\n",
       "      <td>157</td>\n",
       "      <td>193</td>\n",
       "      <td>350</td>\n",
       "      <td>False</td>\n",
       "    </tr>\n",
       "    <tr>\n",
       "      <th>1</th>\n",
       "      <td>83</td>\n",
       "      <td>72</td>\n",
       "      <td>155</td>\n",
       "      <td>True</td>\n",
       "    </tr>\n",
       "    <tr>\n",
       "      <th>2</th>\n",
       "      <td>166</td>\n",
       "      <td>165</td>\n",
       "      <td>331</td>\n",
       "      <td>True</td>\n",
       "    </tr>\n",
       "    <tr>\n",
       "      <th>3</th>\n",
       "      <td>141</td>\n",
       "      <td>114</td>\n",
       "      <td>255</td>\n",
       "      <td>True</td>\n",
       "    </tr>\n",
       "    <tr>\n",
       "      <th>4</th>\n",
       "      <td>128</td>\n",
       "      <td>111</td>\n",
       "      <td>239</td>\n",
       "      <td>True</td>\n",
       "    </tr>\n",
       "    <tr>\n",
       "      <th>5</th>\n",
       "      <td>139</td>\n",
       "      <td>96</td>\n",
       "      <td>235</td>\n",
       "      <td>True</td>\n",
       "    </tr>\n",
       "    <tr>\n",
       "      <th>6</th>\n",
       "      <td>164</td>\n",
       "      <td>131</td>\n",
       "      <td>295</td>\n",
       "      <td>True</td>\n",
       "    </tr>\n",
       "    <tr>\n",
       "      <th>7</th>\n",
       "      <td>145</td>\n",
       "      <td>173</td>\n",
       "      <td>318</td>\n",
       "      <td>False</td>\n",
       "    </tr>\n",
       "    <tr>\n",
       "      <th>8</th>\n",
       "      <td>62</td>\n",
       "      <td>152</td>\n",
       "      <td>214</td>\n",
       "      <td>False</td>\n",
       "    </tr>\n",
       "    <tr>\n",
       "      <th>9</th>\n",
       "      <td>136</td>\n",
       "      <td>112</td>\n",
       "      <td>248</td>\n",
       "      <td>True</td>\n",
       "    </tr>\n",
       "  </tbody>\n",
       "</table>\n",
       "</div>"
      ],
      "text/plain": [
       "   reps  dems  total  rep_win\n",
       "0   157   193    350    False\n",
       "1    83    72    155     True\n",
       "2   166   165    331     True\n",
       "3   141   114    255     True\n",
       "4   128   111    239     True\n",
       "5   139    96    235     True\n",
       "6   164   131    295     True\n",
       "7   145   173    318    False\n",
       "8    62   152    214    False\n",
       "9   136   112    248     True"
      ]
     },
     "execution_count": 14,
     "metadata": {
     },
     "output_type": "execute_result"
    }
   ],
   "source": [
    "summarize_districts(best_x,cities,num_districts)"
   ]
  }
 ],
 "metadata": {
  "kernelspec": {
   "display_name": "Python 3 (system-wide)",
   "language": "python",
   "metadata": {
    "cocalc": {
     "description": "Python 3 programming language",
     "priority": 100,
     "url": "https://www.python.org/"
    }
   },
   "name": "python3"
  },
  "language_info": {
   "codemirror_mode": {
    "name": "ipython",
    "version": 3
   },
   "file_extension": ".py",
   "mimetype": "text/x-python",
   "name": "python",
   "nbconvert_exporter": "python",
   "pygments_lexer": "ipython3",
   "version": "3.8.2"
  },
  "toc": {
   "base_numbering": 1,
   "nav_menu": {
   },
   "number_sections": true,
   "sideBar": true,
   "skip_h1_title": false,
   "title_cell": "Table of Contents",
   "title_sidebar": "Contents",
   "toc_cell": false,
   "toc_position": {
   },
   "toc_section_display": true,
   "toc_window_display": true
  }
 },
 "nbformat": 4,
 "nbformat_minor": 4
}