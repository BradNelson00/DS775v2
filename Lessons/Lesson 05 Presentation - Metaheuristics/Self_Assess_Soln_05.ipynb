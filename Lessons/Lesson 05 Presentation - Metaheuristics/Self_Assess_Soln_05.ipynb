{
 "cells": [
  {
   "cell_type": "code",
   "execution_count": 1,
   "metadata": {
    "code_folding": [
     0
    ],
    "collapsed": false
   },
   "outputs": [
   ],
   "source": [
    "# imports\n",
    "import numpy as np\n",
    "import pandas as pd\n",
    "from simanneal import Annealer\n",
    "import matplotlib.pyplot as plt\n",
    "import seaborn as sns\n",
    "sns.set_style(\"darkgrid\")\n",
    "from scipy.optimize import minimize\n",
    "import random\n",
    "import warnings\n",
    "warnings.filterwarnings('ignore')"
   ]
  },
  {
   "cell_type": "markdown",
   "metadata": {
    "collapsed": false,
    "heading_collapsed": true
   },
   "source": [
    "# *Self Assessment: Simulated Annealing for Gerrymandering*"
   ]
  },
  {
   "cell_type": "code",
   "execution_count": 2,
   "metadata": {
    "code_folding": [
     0
    ],
    "collapsed": false,
    "hidden": true
   },
   "outputs": [
   ],
   "source": [
    "# load problem data and define objective and move functions\n",
    "\n",
    "import numpy as np\n",
    "import pandas as pd\n",
    "\n",
    "# set the data and define the objective function\n",
    "num_districts = 10\n",
    "num_cities = 18\n",
    "\n",
    "dems = [152,81,75,34,62,38,48,74,98,66,83,86,72,28,112,45,93,72]\n",
    "reps = [62,59,83,52,87,87,69,49,62,72,75,82,83,53,98,82,68,98]\n",
    "cities = pd.DataFrame( data = {'dems':dems, 'reps':reps})\n",
    "\n",
    "# almost the same as in Lesson 4, but we return -fitness so that our minimization annealing can find max\n",
    "def fitness_districts(assign, cities):\n",
    "    df = cities.groupby(assign).sum()\n",
    "    fitness = sum( df['reps'] > df['dems'] )\n",
    "    total_voters = np.zeros(num_districts,dtype=np.int32)\n",
    "    total_voters[df.index] = df.sum(axis=1)\n",
    "    fitness-= np.abs(np.minimum(np.maximum(total_voters,150),350)-total_voters).sum()\n",
    "    return -fitness # we return a tuple with the fitness ###\n",
    "\n",
    "def move_one_city(assign, num_districts):\n",
    "    num_cities = assign.shape[0] # or len(assign)\n",
    "    new_assign = assign.copy()\n",
    "    switch_city = np.random.randint(num_cities) # which city to assign new random district\n",
    "    while new_assign[switch_city] == assign[switch_city]: # loops until new and old are different\n",
    "        new_assign[ switch_city] = np.random.randint(num_districts)\n",
    "    return new_assign\n",
    "\n",
    "# for printing out an assignment of cities to districts\n",
    "def summarize_districts(assign, cities, num_districts):\n",
    "    reps = np.zeros(num_districts, dtype=np.int32)\n",
    "    dems = np.zeros(num_districts, dtype=np.int32)\n",
    "    df = cities.groupby(assign).sum()\n",
    "    reps[df.index] = df['reps']\n",
    "    dems[df.index] = df['dems']\n",
    "    total = reps + dems\n",
    "    delta = np.minimum(np.maximum(total, 150), 350) - total\n",
    "    rep_win = reps > dems\n",
    "    dict = {\n",
    "        'reps': reps,\n",
    "        'dems': dems,\n",
    "        'total': total,\n",
    "        'rep_win': rep_win\n",
    "    }\n",
    "    return (pd.DataFrame(data=dict))"
   ]
  },
  {
   "cell_type": "code",
   "execution_count": 3,
   "metadata": {
    "code_folding": [
    ],
    "collapsed": false,
    "hidden": true,
    "scrolled": true
   },
   "outputs": [
    {
     "name": "stdout",
     "output_type": "stream",
     "text": [
      "Republicans won 8 districts.\n"
     ]
    },
    {
     "data": {
      "text/html": [
       "<div>\n",
       "<style scoped>\n",
       "    .dataframe tbody tr th:only-of-type {\n",
       "        vertical-align: middle;\n",
       "    }\n",
       "\n",
       "    .dataframe tbody tr th {\n",
       "        vertical-align: top;\n",
       "    }\n",
       "\n",
       "    .dataframe thead th {\n",
       "        text-align: right;\n",
       "    }\n",
       "</style>\n",
       "<table border=\"1\" class=\"dataframe\">\n",
       "  <thead>\n",
       "    <tr style=\"text-align: right;\">\n",
       "      <th></th>\n",
       "      <th>reps</th>\n",
       "      <th>dems</th>\n",
       "      <th>total</th>\n",
       "      <th>rep_win</th>\n",
       "    </tr>\n",
       "  </thead>\n",
       "  <tbody>\n",
       "    <tr>\n",
       "      <th>0</th>\n",
       "      <td>111</td>\n",
       "      <td>226</td>\n",
       "      <td>337</td>\n",
       "      <td>False</td>\n",
       "    </tr>\n",
       "    <tr>\n",
       "      <th>1</th>\n",
       "      <td>155</td>\n",
       "      <td>131</td>\n",
       "      <td>286</td>\n",
       "      <td>True</td>\n",
       "    </tr>\n",
       "    <tr>\n",
       "      <th>2</th>\n",
       "      <td>154</td>\n",
       "      <td>152</td>\n",
       "      <td>306</td>\n",
       "      <td>True</td>\n",
       "    </tr>\n",
       "    <tr>\n",
       "      <th>3</th>\n",
       "      <td>150</td>\n",
       "      <td>146</td>\n",
       "      <td>296</td>\n",
       "      <td>True</td>\n",
       "    </tr>\n",
       "    <tr>\n",
       "      <th>4</th>\n",
       "      <td>170</td>\n",
       "      <td>134</td>\n",
       "      <td>304</td>\n",
       "      <td>True</td>\n",
       "    </tr>\n",
       "    <tr>\n",
       "      <th>5</th>\n",
       "      <td>194</td>\n",
       "      <td>154</td>\n",
       "      <td>348</td>\n",
       "      <td>True</td>\n",
       "    </tr>\n",
       "    <tr>\n",
       "      <th>6</th>\n",
       "      <td>144</td>\n",
       "      <td>131</td>\n",
       "      <td>275</td>\n",
       "      <td>True</td>\n",
       "    </tr>\n",
       "    <tr>\n",
       "      <th>7</th>\n",
       "      <td>83</td>\n",
       "      <td>75</td>\n",
       "      <td>158</td>\n",
       "      <td>True</td>\n",
       "    </tr>\n",
       "    <tr>\n",
       "      <th>8</th>\n",
       "      <td>98</td>\n",
       "      <td>72</td>\n",
       "      <td>170</td>\n",
       "      <td>True</td>\n",
       "    </tr>\n",
       "    <tr>\n",
       "      <th>9</th>\n",
       "      <td>62</td>\n",
       "      <td>98</td>\n",
       "      <td>160</td>\n",
       "      <td>False</td>\n",
       "    </tr>\n",
       "  </tbody>\n",
       "</table>\n",
       "</div>"
      ],
      "text/plain": [
       "   reps  dems  total  rep_win\n",
       "0   111   226    337    False\n",
       "1   155   131    286     True\n",
       "2   154   152    306     True\n",
       "3   150   146    296     True\n",
       "4   170   134    304     True\n",
       "5   194   154    348     True\n",
       "6   144   131    275     True\n",
       "7    83    75    158     True\n",
       "8    98    72    170     True\n",
       "9    62    98    160    False"
      ]
     },
     "execution_count": 3,
     "metadata": {
     },
     "output_type": "execute_result"
    }
   ],
   "source": [
    "# main loop for annealing\n",
    "\n",
    "# note we change dist_mat to two arguments: cities and num_districts\n",
    "# only lines with ### had changes from simanneal_tsp\n",
    "def simanneal_gerry(init_state, cities, num_districts, max_no_improve, init_temp, alpha): ###\n",
    "\n",
    "    curr_state = init_state\n",
    "    curr_obj = fitness_districts(curr_state, cities) ###\n",
    "    best_state = curr_state\n",
    "    best_obj = curr_obj\n",
    "\n",
    "    # stop search if no better state is found within max_no_improve iterations\n",
    "    num_moves_no_improve = 0\n",
    "    iterations = 0\n",
    "    temp = init_temp\n",
    "\n",
    "    # save history for plotting after optimization\n",
    "    history = np.array([[iterations, curr_obj, best_obj]])\n",
    "\n",
    "    while (num_moves_no_improve < max_no_improve):\n",
    "        num_moves_no_improve += 1\n",
    "        iterations += 1  # just for tracking\n",
    "        new_state = move_one_city(curr_state, num_districts) ###\n",
    "        new_obj = fitness_districts(new_state, cities) ###\n",
    "        delta = curr_obj - new_obj\n",
    "        prob = np.exp(min(delta, 0) / temp) ### # compute prob accept uphill move\n",
    "\n",
    "        if new_obj < curr_obj or np.random.uniform() < prob : ### # accept if decrease or rand < prob\n",
    "            curr_state = new_state\n",
    "            curr_obj = new_obj\n",
    "            if curr_obj < best_obj: # keep track of best ever\n",
    "                best_state = curr_state\n",
    "                best_obj = curr_obj\n",
    "                num_moves_no_improve = 0\n",
    "                \n",
    "        temp *= alpha\n",
    "\n",
    "        history = np.vstack( (history, np.array([[iterations,curr_obj,best_obj]]) ) )\n",
    "\n",
    "    return best_state, best_obj, iterations, history\n",
    "\n",
    "# apply simanneal_gerry() to the gerrymandering problem\n",
    "# you might have to experiment with the parameters here\n",
    "max_no_improve = 2000\n",
    "init_temp = 1000\n",
    "alpha = 0.997\n",
    "\n",
    "# uncomment the next line to see a solution where republicans win 9 districts\n",
    "# must have 2000, 1000, 0.997 as the parameters above\n",
    "# np.random.seed(16)\n",
    "\n",
    "init_assign = np.random.randint(low=0,high=num_districts,size = num_cities)\n",
    "\n",
    "best_assign, best_fitness, iterations, history = simanneal_gerry(init_assign, cities, num_districts, max_no_improve, init_temp, alpha)\n",
    "\n",
    "print(f\"Republicans won {-best_fitness} districts.\")\n",
    "summarize_districts(best_assign, cities, num_districts)"
   ]
  },
  {
   "cell_type": "markdown",
   "metadata": {
    "collapsed": false,
    "hidden": true
   },
   "source": [
    "This seems to find good solutions with Republicans winning 7 or 8 districts (it does rarely find 9).  However, the optimum is 9 districts, we'll see if the simanneal package does better.  While not required we plot the search performance in the cell below:"
   ]
  },
  {
   "cell_type": "code",
   "execution_count": 4,
   "metadata": {
    "collapsed": false
   },
   "outputs": [
    {
     "data": {
      "image/png": "[encoded data removed]",
      "text/plain": [
       "<Figure size 576x432 with 1 Axes>"
      ]
     },
     "execution_count": 4,
     "metadata": {
      "image/png": {
       "height": 386,
       "width": 515
      }
     },
     "output_type": "execute_result"
    }
   ],
   "source": [
    "import matplotlib.pyplot as plt\n",
    "import seaborn as sns\n",
    "sns.set_style(\"darkgrid\")\n",
    "\n",
    "fig = plt.figure(figsize=(8, 6))\n",
    "line_min, = plt.plot(history[:,0], -history[:,1], label='Curr. Districts.',color='red')\n",
    "line_curr, = plt.plot(history[:,0],-history[:,2], label='Best. Districts.')\n",
    "plt.xlabel('Generation')\n",
    "plt.ylabel('Num Districts')\n",
    "plt.legend(handles=[line_curr, line_min])\n",
    "plt.title('Largest Number of Districts Found: {:d}'.format(int(-best_fitness)));"
   ]
  },
  {
   "cell_type": "code",
   "execution_count": 5,
   "metadata": {
    "collapsed": false,
    "scrolled": true
   },
   "outputs": [
    {
     "data": {
      "image/png": "[encoded data removed]",
      "text/plain": [
       "<Figure size 576x432 with 1 Axes>"
      ]
     },
     "execution_count": 5,
     "metadata": {
      "image/png": {
       "height": 386,
       "width": 502
      }
     },
     "output_type": "execute_result"
    }
   ],
   "source": [
    "# here is the same graph, but we change the y-axis to -30 to 10 so we can see how the number of districts improves\n",
    "import matplotlib.pyplot as plt\n",
    "import seaborn as sns\n",
    "sns.set_style(\"darkgrid\")\n",
    "\n",
    "fig = plt.figure(figsize=(8, 6))\n",
    "line_min, = plt.plot(history[:,0], -history[:,1], label='Curr. Districts.',color='red')\n",
    "line_curr, = plt.plot(history[:,0],-history[:,2], label='Best. Districts.')\n",
    "plt.ylim(-30,10)\n",
    "plt.xlabel('Generation')\n",
    "plt.ylabel('Num Districts')\n",
    "plt.legend(handles=[line_curr, line_min])\n",
    "plt.title('Largest Number of Districts Found: {:d}'.format(int(-best_fitness)));"
   ]
  },
  {
   "cell_type": "markdown",
   "metadata": {
    "collapsed": false,
    "heading_collapsed": true
   },
   "source": [
    "# *Self Assessment: Simulated Annealing for Gerrymandering with `simanneal`*"
   ]
  },
  {
   "cell_type": "code",
   "execution_count": 6,
   "metadata": {
    "code_folding": [
     0
    ],
    "collapsed": false,
    "hidden": true
   },
   "outputs": [
    {
     "name": "stderr",
     "output_type": "stream",
     "text": [
      " Temperature        Energy    Accept   Improve     Elapsed   Remaining\n",
      "\r     0.00000        658.00                         0:00:00            \r"
     ]
    },
    {
     "name": "stderr",
     "output_type": "stream",
     "text": [
      "\r   250.00000         89.00    78.85%    36.20%     0:00:08     0:01:27\r\r"
     ]
    },
    {
     "name": "stderr",
     "output_type": "stream",
     "text": [
      "\r   380.00000        345.00    86.35%    40.00%     0:00:12     0:01:25\r\r"
     ]
    },
    {
     "name": "stderr",
     "output_type": "stream",
     "text": [
      "\r   570.00000        309.00    89.90%    41.20%     0:00:15     0:01:21\r\r"
     ]
    },
    {
     "name": "stderr",
     "output_type": "stream",
     "text": [
      "\r   860.00000        336.00    94.55%    43.40%     0:00:20     0:01:19\r\r"
     ]
    },
    {
     "name": "stderr",
     "output_type": "stream",
     "text": [
      "\r  1300.00000        315.00    95.55%    43.60%     0:00:23     0:01:14\r\r"
     ]
    },
    {
     "name": "stderr",
     "output_type": "stream",
     "text": [
      "\r  2000.00000        655.00    97.80%    44.95%     0:00:27     0:01:10\r\r"
     ]
    },
    {
     "name": "stderr",
     "output_type": "stream",
     "text": [
      "\r  3000.00000        590.00    98.65%    45.10%     0:00:31     0:01:06\r\r"
     ]
    },
    {
     "name": "stderr",
     "output_type": "stream",
     "text": [
      "\r  2000.00000       1073.00    97.30%    44.70%     0:00:35     0:01:02\r\r"
     ]
    },
    {
     "name": "stderr",
     "output_type": "stream",
     "text": [
      "\r  1300.00000         83.00    95.60%    43.75%     0:00:39     0:00:58\r\r"
     ]
    },
    {
     "name": "stderr",
     "output_type": "stream",
     "text": [
      "\r   870.00000        593.00    93.05%    42.80%     0:00:42     0:00:54\r\r"
     ]
    },
    {
     "name": "stderr",
     "output_type": "stream",
     "text": [
      "\r   580.00000        104.00    91.35%    41.55%     0:00:46     0:00:50\r\r"
     ]
    },
    {
     "name": "stderr",
     "output_type": "stream",
     "text": [
      "\r   390.00000        381.00    85.25%    38.40%     0:00:50     0:00:46\r\r"
     ]
    },
    {
     "name": "stderr",
     "output_type": "stream",
     "text": [
      "\r   260.00000         77.00    78.90%    36.45%     0:00:54     0:00:42\r\r"
     ]
    },
    {
     "name": "stderr",
     "output_type": "stream",
     "text": [
      "\r   170.00000        413.00    70.60%    32.75%     0:00:58     0:00:39\r\r"
     ]
    },
    {
     "name": "stderr",
     "output_type": "stream",
     "text": [
      "\r   110.00000         98.00    60.90%    28.85%     0:01:02     0:00:35\r\r"
     ]
    },
    {
     "name": "stderr",
     "output_type": "stream",
     "text": [
      "\r    73.00000         90.00    47.70%    21.30%     0:01:05     0:00:31\r\r"
     ]
    },
    {
     "name": "stderr",
     "output_type": "stream",
     "text": [
      "\r    49.00000         -3.00    39.75%    18.20%     0:01:09     0:00:27\r\r"
     ]
    },
    {
     "name": "stderr",
     "output_type": "stream",
     "text": [
      "\r    33.00000         29.00    29.95%    11.75%     0:01:13     0:00:23\r\r"
     ]
    },
    {
     "name": "stderr",
     "output_type": "stream",
     "text": [
      "\r    22.00000         11.00    24.90%     9.85%     0:01:16     0:00:19\r\r"
     ]
    },
    {
     "name": "stderr",
     "output_type": "stream",
     "text": [
      "\r    15.00000         33.00    20.25%     7.55%     0:01:21     0:00:15\r\r"
     ]
    },
    {
     "name": "stderr",
     "output_type": "stream",
     "text": [
      "\r    10.00000          8.00    15.65%     5.15%     0:01:25     0:00:12\r\r"
     ]
    },
    {
     "name": "stderr",
     "output_type": "stream",
     "text": [
      "\r     6.70000         -5.00    16.05%     5.15%     0:01:31     0:00:08\r\r"
     ]
    },
    {
     "name": "stderr",
     "output_type": "stream",
     "text": [
      "\r     4.50000         -6.00    13.55%     3.20%     0:01:35     0:00:04\r\r"
     ]
    },
    {
     "name": "stderr",
     "output_type": "stream",
     "text": [
      "\r     3.00000         -6.00    12.55%     3.30%     0:01:39     0:00:00\r\r"
     ]
    },
    {
     "name": "stderr",
     "output_type": "stream",
     "text": [
      "\r     2.00000         -5.00    12.50%     2.80%     0:01:43    -1:59:56\r\r"
     ]
    },
    {
     "name": "stderr",
     "output_type": "stream",
     "text": [
      "\r     1.30000         -6.00    10.55%     2.15%     0:01:46    -1:59:52\r\r"
     ]
    },
    {
     "name": "stderr",
     "output_type": "stream",
     "text": [
      "\r     0.87000         -5.00    11.25%     1.80%     0:01:50    -1:59:48\r\r"
     ]
    },
    {
     "name": "stderr",
     "output_type": "stream",
     "text": [
      "\r     0.58000         -6.00     8.05%     1.15%     0:01:54    -1:59:44\r\r"
     ]
    },
    {
     "name": "stderr",
     "output_type": "stream",
     "text": [
      "\r     0.39000         -5.00     6.20%     0.55%     0:01:58    -1:59:40\r\r"
     ]
    },
    {
     "name": "stderr",
     "output_type": "stream",
     "text": [
      "\r     0.26000         -8.00     3.20%     0.20%     0:02:01    -1:59:37\r\r"
     ]
    },
    {
     "name": "stderr",
     "output_type": "stream",
     "text": [
      "\r     0.17000         -9.00     4.00%     0.10%     0:02:05    -1:59:33\r\r"
     ]
    },
    {
     "name": "stderr",
     "output_type": "stream",
     "text": [
      "\r     0.11000         -9.00     0.00%     0.00%     0:02:08    -1:59:29\r\r"
     ]
    },
    {
     "name": "stderr",
     "output_type": "stream",
     "text": [
      " Temperature        Energy    Accept   Improve     Elapsed   Remaining\n",
      "\r  3000.00000         -9.00                         0:00:00            \r"
     ]
    },
    {
     "name": "stderr",
     "output_type": "stream",
     "text": [
      "\r  2708.71909        510.00    95.16%    41.94%     0:00:00     0:00:19\r\r"
     ]
    },
    {
     "name": "stderr",
     "output_type": "stream",
     "text": [
      "\r  2445.71971        539.00   100.00%    41.94%     0:00:00     0:00:16\r\r"
     ]
    },
    {
     "name": "stderr",
     "output_type": "stream",
     "text": [
      "\r  2208.25589        539.00    98.39%    45.16%     0:00:00     0:00:14\r\r"
     ]
    },
    {
     "name": "stderr",
     "output_type": "stream",
     "text": [
      "\r  1993.84830        408.00    91.94%    41.94%     0:00:01     0:00:13\r\r"
     ]
    },
    {
     "name": "stderr",
     "output_type": "stream",
     "text": [
      "\r  1800.25832        311.00    96.77%    45.16%     0:00:01     0:00:13\r\r"
     ]
    },
    {
     "name": "stderr",
     "output_type": "stream",
     "text": [
      "\r  1625.46469       1010.00    96.77%    40.32%     0:00:01     0:00:13\r\r"
     ]
    },
    {
     "name": "stderr",
     "output_type": "stream",
     "text": [
      "\r  1467.64242        519.00    93.55%    46.77%     0:00:01     0:00:13\r\r"
     ]
    },
    {
     "name": "stderr",
     "output_type": "stream",
     "text": [
      "\r  1325.14368        759.00    95.16%    41.94%     0:00:01     0:00:13\r\r"
     ]
    },
    {
     "name": "stderr",
     "output_type": "stream",
     "text": [
      "\r  1196.48066        407.00    98.39%    46.77%     0:00:01     0:00:12\r\r"
     ]
    },
    {
     "name": "stderr",
     "output_type": "stream",
     "text": [
      "\r  1080.31000        615.00    95.16%    43.55%     0:00:01     0:00:12\r\r"
     ]
    },
    {
     "name": "stderr",
     "output_type": "stream",
     "text": [
      "\r   975.41878        530.00    93.55%    53.23%     0:00:01     0:00:12\r\r"
     ]
    },
    {
     "name": "stderr",
     "output_type": "stream",
     "text": [
      "\r   880.71182        740.00    98.39%    45.16%     0:00:02     0:00:15\r\r"
     ]
    },
    {
     "name": "stderr",
     "output_type": "stream",
     "text": [
      "\r   795.20031        344.00    95.16%    46.77%     0:00:02     0:00:15\r\r"
     ]
    },
    {
     "name": "stderr",
     "output_type": "stream",
     "text": [
      "\r   717.99142        541.00    85.48%    37.10%     0:00:02     0:00:15\r\r"
     ]
    },
    {
     "name": "stderr",
     "output_type": "stream",
     "text": [
      "\r   648.27902        428.00    93.55%    46.77%     0:00:02     0:00:14\r\r"
     ]
    },
    {
     "name": "stderr",
     "output_type": "stream",
     "text": [
      "\r   585.33526        184.00    90.32%    40.32%     0:00:03     0:00:14\r\r"
     ]
    },
    {
     "name": "stderr",
     "output_type": "stream",
     "text": [
      "\r   528.50293        802.00    87.10%    40.32%     0:00:03     0:00:13\r\r"
     ]
    },
    {
     "name": "stderr",
     "output_type": "stream",
     "text": [
      "\r   477.18866        560.00    87.10%    41.94%     0:00:03     0:00:13\r\r"
     ]
    },
    {
     "name": "stderr",
     "output_type": "stream",
     "text": [
      "\r   430.85668        521.00    88.71%    40.32%     0:00:03     0:00:13\r\r"
     ]
    },
    {
     "name": "stderr",
     "output_type": "stream",
     "text": [
      "\r   389.02323        545.00    95.16%    41.94%     0:00:03     0:00:13\r\r"
     ]
    },
    {
     "name": "stderr",
     "output_type": "stream",
     "text": [
      "\r   351.25155        610.00    83.87%    41.94%     0:00:03     0:00:13\r\r"
     ]
    },
    {
     "name": "stderr",
     "output_type": "stream",
     "text": [
      "\r   317.14726        400.00    83.87%    38.71%     0:00:04     0:00:13\r\r"
     ]
    },
    {
     "name": "stderr",
     "output_type": "stream",
     "text": [
      "\r   286.35428        808.00    74.19%    27.42%     0:00:04     0:00:12\r\r"
     ]
    },
    {
     "name": "stderr",
     "output_type": "stream",
     "text": [
      "\r   258.55110        561.00    91.94%    37.10%     0:00:04     0:00:12\r\r"
     ]
    },
    {
     "name": "stderr",
     "output_type": "stream",
     "text": [
      "\r   233.44744        191.00    77.42%    41.94%     0:00:04     0:00:12\r\r"
     ]
    },
    {
     "name": "stderr",
     "output_type": "stream",
     "text": [
      "\r   210.78118        325.00    70.97%    33.87%     0:00:04     0:00:12\r\r"
     ]
    },
    {
     "name": "stderr",
     "output_type": "stream",
     "text": [
      "\r   190.31567        178.00    74.19%    35.48%     0:00:04     0:00:12\r\r"
     ]
    },
    {
     "name": "stderr",
     "output_type": "stream",
     "text": [
      "\r   171.83723        169.00    75.81%    29.03%     0:00:04     0:00:12\r\r"
     ]
    },
    {
     "name": "stderr",
     "output_type": "stream",
     "text": [
      "\r   155.15293        320.00    62.90%    25.81%     0:00:05     0:00:11\r\r"
     ]
    },
    {
     "name": "stderr",
     "output_type": "stream",
     "text": [
      "\r   140.08856        197.00    67.74%    32.26%     0:00:05     0:00:11\r\r"
     ]
    },
    {
     "name": "stderr",
     "output_type": "stream",
     "text": [
      "\r   126.48686        297.00    61.29%    29.03%     0:00:05     0:00:11\r\r"
     ]
    },
    {
     "name": "stderr",
     "output_type": "stream",
     "text": [
      "\r   114.20579        245.00    69.35%    33.87%     0:00:05     0:00:11\r\r"
     ]
    },
    {
     "name": "stderr",
     "output_type": "stream",
     "text": [
      "\r   103.11713        307.00    58.06%    25.81%     0:00:05     0:00:11\r\r"
     ]
    },
    {
     "name": "stderr",
     "output_type": "stream",
     "text": [
      "\r    93.10512        188.00    70.97%    32.26%     0:00:05     0:00:10\r\r"
     ]
    },
    {
     "name": "stderr",
     "output_type": "stream",
     "text": [
      "\r    84.06520        110.00    48.39%    22.58%     0:00:05     0:00:10\r\r"
     ]
    },
    {
     "name": "stderr",
     "output_type": "stream",
     "text": [
      "\r    75.90300        472.00    53.23%    20.97%     0:00:06     0:00:10\r\r"
     ]
    },
    {
     "name": "stderr",
     "output_type": "stream",
     "text": [
      "\r    68.53331         33.00    50.00%    27.42%     0:00:06     0:00:10\r\r"
     ]
    },
    {
     "name": "stderr",
     "output_type": "stream",
     "text": [
      "\r    61.87916        247.00    48.39%    22.58%     0:00:06     0:00:10\r\r"
     ]
    },
    {
     "name": "stderr",
     "output_type": "stream",
     "text": [
      "\r    55.87109         29.00    43.55%    22.58%     0:00:06     0:00:09\r\r"
     ]
    },
    {
     "name": "stderr",
     "output_type": "stream",
     "text": [
      "\r    50.44636         69.00    41.94%    14.52%     0:00:06     0:00:09\r\r"
     ]
    },
    {
     "name": "stderr",
     "output_type": "stream",
     "text": [
      "\r    45.54834         24.00    32.26%    12.90%     0:00:06     0:00:09\r\r"
     ]
    },
    {
     "name": "stderr",
     "output_type": "stream",
     "text": [
      "\r    41.12588         47.00    27.42%    14.52%     0:00:06     0:00:09\r\r"
     ]
    },
    {
     "name": "stderr",
     "output_type": "stream",
     "text": [
      "\r    37.13282         41.00    41.94%    14.52%     0:00:07     0:00:09\r\r"
     ]
    },
    {
     "name": "stderr",
     "output_type": "stream",
     "text": [
      "\r    33.52746         86.00    27.42%    12.90%     0:00:07     0:00:09\r\r"
     ]
    },
    {
     "name": "stderr",
     "output_type": "stream",
     "text": [
      "\r    30.27216         75.00    27.42%    12.90%     0:00:07     0:00:09\r\r"
     ]
    },
    {
     "name": "stderr",
     "output_type": "stream",
     "text": [
      "\r    27.33293        117.00    24.19%    12.90%     0:00:07     0:00:09\r\r"
     ]
    },
    {
     "name": "stderr",
     "output_type": "stream",
     "text": [
      "\r    24.67907         27.00    37.10%    19.35%     0:00:08     0:00:09\r\r"
     ]
    },
    {
     "name": "stderr",
     "output_type": "stream",
     "text": [
      "\r    22.28289         79.00    27.42%    12.90%     0:00:08     0:00:08\r\r"
     ]
    },
    {
     "name": "stderr",
     "output_type": "stream",
     "text": [
      "\r    20.11936         24.00    35.48%    16.13%     0:00:08     0:00:08\r\r"
     ]
    },
    {
     "name": "stderr",
     "output_type": "stream",
     "text": [
      "\r    18.16590         -6.00    22.58%     9.68%     0:00:08     0:00:08\r\r"
     ]
    },
    {
     "name": "stderr",
     "output_type": "stream",
     "text": [
      "\r    16.40211         16.00    27.42%     8.06%     0:00:08     0:00:08\r\r"
     ]
    },
    {
     "name": "stderr",
     "output_type": "stream",
     "text": [
      "\r    14.80957         12.00    22.58%     3.23%     0:00:08     0:00:08\r\r"
     ]
    },
    {
     "name": "stderr",
     "output_type": "stream",
     "text": [
      "\r    13.37165         -4.00    27.42%     9.68%     0:00:08     0:00:07\r\r"
     ]
    },
    {
     "name": "stderr",
     "output_type": "stream",
     "text": [
      "\r    12.07335         -5.00    16.13%     8.06%     0:00:09     0:00:07\r\r"
     ]
    },
    {
     "name": "stderr",
     "output_type": "stream",
     "text": [
      "\r    10.90111         17.00    20.97%     4.84%     0:00:09     0:00:07\r\r"
     ]
    },
    {
     "name": "stderr",
     "output_type": "stream",
     "text": [
      "\r     9.84268         -5.00    17.74%     4.84%     0:00:09     0:00:07\r\r"
     ]
    },
    {
     "name": "stderr",
     "output_type": "stream",
     "text": [
      "\r     8.88702          6.00    14.52%     3.23%     0:00:09     0:00:07\r\r"
     ]
    },
    {
     "name": "stderr",
     "output_type": "stream",
     "text": [
      "\r     8.02414         15.00    14.52%     6.45%     0:00:09     0:00:07\r\r"
     ]
    },
    {
     "name": "stderr",
     "output_type": "stream",
     "text": [
      "\r     7.24505         -5.00    16.13%     4.84%     0:00:09     0:00:07\r\r"
     ]
    },
    {
     "name": "stderr",
     "output_type": "stream",
     "text": [
      "\r     6.54160         -4.00    17.74%     3.23%     0:00:10     0:00:06\r\r"
     ]
    },
    {
     "name": "stderr",
     "output_type": "stream",
     "text": [
      "\r     5.90645         -6.00    16.13%     4.84%     0:00:10     0:00:06\r\r"
     ]
    },
    {
     "name": "stderr",
     "output_type": "stream",
     "text": [
      "\r     5.33297         -6.00    14.52%     4.84%     0:00:10     0:00:06\r\r"
     ]
    },
    {
     "name": "stderr",
     "output_type": "stream",
     "text": [
      "\r     4.81518         -4.00    11.29%     0.00%     0:00:10     0:00:06\r\r"
     ]
    },
    {
     "name": "stderr",
     "output_type": "stream",
     "text": [
      "\r     4.34765          7.00    19.35%     1.61%     0:00:10     0:00:06\r\r"
     ]
    },
    {
     "name": "stderr",
     "output_type": "stream",
     "text": [
      "\r     3.92552         -6.00    19.35%     8.06%     0:00:10     0:00:06\r\r"
     ]
    },
    {
     "name": "stderr",
     "output_type": "stream",
     "text": [
      "\r     3.54438         -5.00    11.29%     3.23%     0:00:10     0:00:05\r\r"
     ]
    },
    {
     "name": "stderr",
     "output_type": "stream",
     "text": [
      "\r     3.20024         -6.00     9.68%     3.23%     0:00:11     0:00:05\r\r"
     ]
    },
    {
     "name": "stderr",
     "output_type": "stream",
     "text": [
      "\r     2.88952         -6.00     6.45%     0.00%     0:00:11     0:00:05\r\r"
     ]
    },
    {
     "name": "stderr",
     "output_type": "stream",
     "text": [
      "\r     2.60897         -5.00    17.74%     4.84%     0:00:11     0:00:05\r\r"
     ]
    },
    {
     "name": "stderr",
     "output_type": "stream",
     "text": [
      "\r     2.35565         -5.00    11.29%     1.61%     0:00:11     0:00:05\r\r"
     ]
    },
    {
     "name": "stderr",
     "output_type": "stream",
     "text": [
      "\r     2.12693         -5.00     9.68%     3.23%     0:00:11     0:00:05\r\r"
     ]
    },
    {
     "name": "stderr",
     "output_type": "stream",
     "text": [
      "\r     1.92042         -6.00    12.90%     3.23%     0:00:11     0:00:04\r\r"
     ]
    },
    {
     "name": "stderr",
     "output_type": "stream",
     "text": [
      "\r     1.73396         -5.00     8.06%     1.61%     0:00:12     0:00:04\r\r"
     ]
    },
    {
     "name": "stderr",
     "output_type": "stream",
     "text": [
      "\r     1.56560         -5.00     8.06%     1.61%     0:00:12     0:00:04\r\r"
     ]
    },
    {
     "name": "stderr",
     "output_type": "stream",
     "text": [
      "\r     1.41359         -4.00     9.68%     1.61%     0:00:12     0:00:04\r\r"
     ]
    },
    {
     "name": "stderr",
     "output_type": "stream",
     "text": [
      "\r     1.27634         -5.00    11.29%     1.61%     0:00:12     0:00:04\r\r"
     ]
    },
    {
     "name": "stderr",
     "output_type": "stream",
     "text": [
      "\r     1.15242         -5.00    19.35%     4.84%     0:00:12     0:00:04\r\r"
     ]
    },
    {
     "name": "stderr",
     "output_type": "stream",
     "text": [
      "\r     1.04053         -6.00     6.45%     1.61%     0:00:12     0:00:03\r\r"
     ]
    },
    {
     "name": "stderr",
     "output_type": "stream",
     "text": [
      "\r     0.93950         -6.00     1.61%     0.00%     0:00:12     0:00:03\r\r"
     ]
    },
    {
     "name": "stderr",
     "output_type": "stream",
     "text": [
      "\r     0.84828         -4.00     8.06%     0.00%     0:00:13     0:00:03\r\r"
     ]
    },
    {
     "name": "stderr",
     "output_type": "stream",
     "text": [
      "\r     0.76592         -5.00     8.06%     3.23%     0:00:13     0:00:03\r\r"
     ]
    },
    {
     "name": "stderr",
     "output_type": "stream",
     "text": [
      "\r     0.69155         -5.00    12.90%     3.23%     0:00:13     0:00:03\r\r"
     ]
    },
    {
     "name": "stderr",
     "output_type": "stream",
     "text": [
      "\r     0.62441         -6.00     9.68%     1.61%     0:00:13     0:00:03\r\r"
     ]
    },
    {
     "name": "stderr",
     "output_type": "stream",
     "text": [
      "\r     0.56378         -6.00    14.52%     1.61%     0:00:13     0:00:02\r\r"
     ]
    },
    {
     "name": "stderr",
     "output_type": "stream",
     "text": [
      "\r     0.50904         -6.00    12.90%     0.00%     0:00:13     0:00:02\r\r"
     ]
    },
    {
     "name": "stderr",
     "output_type": "stream",
     "text": [
      "\r     0.45962         -6.00     3.23%     0.00%     0:00:13     0:00:02\r\r"
     ]
    },
    {
     "name": "stderr",
     "output_type": "stream",
     "text": [
      "\r     0.41499         -5.00    19.35%     1.61%     0:00:13     0:00:02\r\r"
     ]
    },
    {
     "name": "stderr",
     "output_type": "stream",
     "text": [
      "\r     0.37470         -6.00     3.23%     1.61%     0:00:14     0:00:02\r\r"
     ]
    },
    {
     "name": "stderr",
     "output_type": "stream",
     "text": [
      "\r     0.33832         -6.00    11.29%     1.61%     0:00:14     0:00:02\r\r"
     ]
    },
    {
     "name": "stderr",
     "output_type": "stream",
     "text": [
      "\r     0.30547         -6.00     9.68%     0.00%     0:00:14     0:00:02\r\r"
     ]
    },
    {
     "name": "stderr",
     "output_type": "stream",
     "text": [
      "\r     0.27581         -8.00     9.68%     3.23%     0:00:14     0:00:01\r\r"
     ]
    },
    {
     "name": "stderr",
     "output_type": "stream",
     "text": [
      "\r     0.24903         -8.00     6.45%     0.00%     0:00:14     0:00:01\r\r"
     ]
    },
    {
     "name": "stderr",
     "output_type": "stream",
     "text": [
      "\r     0.22485         -8.00     3.23%     0.00%     0:00:15     0:00:01\r\r"
     ]
    },
    {
     "name": "stderr",
     "output_type": "stream",
     "text": [
      "\r     0.20302         -8.00     4.84%     0.00%     0:00:15     0:00:01\r\r"
     ]
    },
    {
     "name": "stderr",
     "output_type": "stream",
     "text": [
      "\r     0.18331         -8.00     4.84%     0.00%     0:00:15     0:00:01\r\r"
     ]
    },
    {
     "name": "stderr",
     "output_type": "stream",
     "text": [
      "\r     0.16551         -8.00     9.68%     0.00%     0:00:15     0:00:01\r\r"
     ]
    },
    {
     "name": "stderr",
     "output_type": "stream",
     "text": [
      "\r     0.14944         -8.00     4.84%     0.00%     0:00:15     0:00:00\r\r"
     ]
    },
    {
     "name": "stderr",
     "output_type": "stream",
     "text": [
      "\r     0.13493         -8.00     1.61%     0.00%     0:00:15     0:00:00\r\r"
     ]
    },
    {
     "name": "stderr",
     "output_type": "stream",
     "text": [
      "\r     0.12183         -8.00     8.06%     0.00%     0:00:15     0:00:00\r\r"
     ]
    },
    {
     "name": "stderr",
     "output_type": "stream",
     "text": [
      "\r     0.11000         -8.00     6.45%     0.00%     0:00:16     0:00:00\r\r"
     ]
    },
    {
     "data": {
      "text/html": [
       "<div>\n",
       "<style scoped>\n",
       "    .dataframe tbody tr th:only-of-type {\n",
       "        vertical-align: middle;\n",
       "    }\n",
       "\n",
       "    .dataframe tbody tr th {\n",
       "        vertical-align: top;\n",
       "    }\n",
       "\n",
       "    .dataframe thead th {\n",
       "        text-align: right;\n",
       "    }\n",
       "</style>\n",
       "<table border=\"1\" class=\"dataframe\">\n",
       "  <thead>\n",
       "    <tr style=\"text-align: right;\">\n",
       "      <th></th>\n",
       "      <th>reps</th>\n",
       "      <th>dems</th>\n",
       "      <th>total</th>\n",
       "      <th>rep_win</th>\n",
       "    </tr>\n",
       "  </thead>\n",
       "  <tbody>\n",
       "    <tr>\n",
       "      <th>0</th>\n",
       "      <td>141</td>\n",
       "      <td>126</td>\n",
       "      <td>267</td>\n",
       "      <td>True</td>\n",
       "    </tr>\n",
       "    <tr>\n",
       "      <th>1</th>\n",
       "      <td>111</td>\n",
       "      <td>226</td>\n",
       "      <td>337</td>\n",
       "      <td>False</td>\n",
       "    </tr>\n",
       "    <tr>\n",
       "      <th>2</th>\n",
       "      <td>166</td>\n",
       "      <td>165</td>\n",
       "      <td>331</td>\n",
       "      <td>True</td>\n",
       "    </tr>\n",
       "    <tr>\n",
       "      <th>3</th>\n",
       "      <td>83</td>\n",
       "      <td>75</td>\n",
       "      <td>158</td>\n",
       "      <td>True</td>\n",
       "    </tr>\n",
       "    <tr>\n",
       "      <th>4</th>\n",
       "      <td>141</td>\n",
       "      <td>114</td>\n",
       "      <td>255</td>\n",
       "      <td>True</td>\n",
       "    </tr>\n",
       "    <tr>\n",
       "      <th>5</th>\n",
       "      <td>151</td>\n",
       "      <td>140</td>\n",
       "      <td>291</td>\n",
       "      <td>True</td>\n",
       "    </tr>\n",
       "    <tr>\n",
       "      <th>6</th>\n",
       "      <td>169</td>\n",
       "      <td>148</td>\n",
       "      <td>317</td>\n",
       "      <td>True</td>\n",
       "    </tr>\n",
       "    <tr>\n",
       "      <th>7</th>\n",
       "      <td>149</td>\n",
       "      <td>136</td>\n",
       "      <td>285</td>\n",
       "      <td>True</td>\n",
       "    </tr>\n",
       "    <tr>\n",
       "      <th>8</th>\n",
       "      <td>127</td>\n",
       "      <td>117</td>\n",
       "      <td>244</td>\n",
       "      <td>True</td>\n",
       "    </tr>\n",
       "    <tr>\n",
       "      <th>9</th>\n",
       "      <td>83</td>\n",
       "      <td>72</td>\n",
       "      <td>155</td>\n",
       "      <td>True</td>\n",
       "    </tr>\n",
       "  </tbody>\n",
       "</table>\n",
       "</div>"
      ],
      "text/plain": [
       "   reps  dems  total  rep_win\n",
       "0   141   126    267     True\n",
       "1   111   226    337    False\n",
       "2   166   165    331     True\n",
       "3    83    75    158     True\n",
       "4   141   114    255     True\n",
       "5   151   140    291     True\n",
       "6   169   148    317     True\n",
       "7   149   136    285     True\n",
       "8   127   117    244     True\n",
       "9    83    72    155     True"
      ]
     },
     "execution_count": 6,
     "metadata": {
     },
     "output_type": "execute_result"
    }
   ],
   "source": [
    "# must execute the cell labeled \"load problem data and define objective and move functions\"\n",
    "# in the previous self-assessment\n",
    "\n",
    "from simanneal import Annealer\n",
    "\n",
    "class GerrymanderingProblem(Annealer):\n",
    "\n",
    "    # pass extra data (the distance matrix) into the constructor\n",
    "    def __init__(self, state, cities_df, num_districts):\n",
    "        self.cities = cities_df\n",
    "        self.num_dist = num_districts\n",
    "        super(GerrymanderingProblem, self).__init__(state)  # important!\n",
    "\n",
    "    def move(self):\n",
    "        \"\"\"Move one city to another district\"\"\"\n",
    "        self.state = move_one_city( self.state, self.num_dist)\n",
    "    \n",
    "    def energy(self):\n",
    "        \"\"\"Compute number of districts - penalty for too small or too large.  Note that \n",
    "        the negation is included in the fitness_districts() function\"\"\"\n",
    "        return fitness_districts(self.state, self.cities)\n",
    "\n",
    "initial_assign = np.random.randint(low=0,high=num_districts,size = num_cities)\n",
    "gerrymander = GerrymanderingProblem(initial_assign, cities, num_districts)\n",
    "\n",
    "# the auto schedule takes far longer than .2 minutes, about 100 seconds on CoCalc\n",
    "gerrymander.set_schedule(gerrymander.auto(minutes=.2)) #set approximate time to find results\n",
    "\n",
    "# uncomment the following 3 lines to manually control the temperature\n",
    "# gerrymander.Tmax = 25000.0  # Max (starting) temperature\n",
    "# gerrymander.Tmin = 2.5      # Min (ending) temperature\n",
    "# gerrymander.steps = 5000   # Number of iterations\n",
    "\n",
    "best_assign, best_fitness = gerrymander.anneal()\n",
    "\n",
    "summarize_districts(best_assign, cities, num_districts)"
   ]
  },
  {
   "cell_type": "markdown",
   "metadata": {
    "collapsed": false,
    "hidden": true
   },
   "source": [
    "When using the manually selected temperature, this usually returns a result of 7 or 8 districts.\n",
    "\n",
    "Using the auto schedule functionality takes longer but seems to be able to find solutions with 9 districts which is the global maximum."
   ]
  },
  {
   "cell_type": "markdown",
   "metadata": {
    "collapsed": false
   },
   "source": [
    "# *Self-Assessment for Simulated Annealing with Continuous Variables*"
   ]
  },
  {
   "cell_type": "code",
   "execution_count": 7,
   "metadata": {
    "collapsed": false,
    "heading_collapsed": true
   },
   "outputs": [
    {
     "name": "stderr",
     "output_type": "stream",
     "text": [
      " Temperature        Energy    Accept   Improve     Elapsed   Remaining\n",
      "\r     0.00000          1.07                         0:00:00            \r"
     ]
    },
    {
     "name": "stderr",
     "output_type": "stream",
     "text": [
      "\r     1.30000          1.08    87.10%    42.90%     0:00:00     0:00:02\r\r"
     ]
    },
    {
     "name": "stderr",
     "output_type": "stream",
     "text": [
      "\r     2.00000          0.91    91.65%    44.90%     0:00:00     0:00:02\r\r"
     ]
    },
    {
     "name": "stderr",
     "output_type": "stream",
     "text": [
      "\r     3.00000          0.56    94.80%    44.55%     0:00:00     0:00:02\r\r"
     ]
    },
    {
     "name": "stderr",
     "output_type": "stream",
     "text": [
      "\r     4.50000          0.69    96.50%    46.60%     0:00:00     0:00:02\r\r"
     ]
    },
    {
     "name": "stderr",
     "output_type": "stream",
     "text": [
      "\r     6.80000          1.12    97.80%    47.40%     0:00:00     0:00:02\r\r"
     ]
    },
    {
     "name": "stderr",
     "output_type": "stream",
     "text": [
      "\r    10.00000          1.35    98.10%    48.30%     0:00:01     0:00:01\r\r"
     ]
    },
    {
     "name": "stderr",
     "output_type": "stream",
     "text": [
      "\r     6.70000          0.91    97.95%    46.30%     0:00:01     0:00:01\r\r"
     ]
    },
    {
     "name": "stderr",
     "output_type": "stream",
     "text": [
      "\r     4.50000          0.94    96.50%    48.15%     0:00:01     0:00:01\r\r"
     ]
    },
    {
     "name": "stderr",
     "output_type": "stream",
     "text": [
      "\r     3.00000          0.66    94.50%    46.00%     0:00:01     0:00:01\r\r"
     ]
    },
    {
     "name": "stderr",
     "output_type": "stream",
     "text": [
      "\r     2.00000          0.30    91.60%    46.00%     0:00:01     0:00:01\r\r"
     ]
    },
    {
     "name": "stderr",
     "output_type": "stream",
     "text": [
      "\r     1.30000          0.44    88.90%    44.10%     0:00:01     0:00:01\r\r"
     ]
    },
    {
     "name": "stderr",
     "output_type": "stream",
     "text": [
      "\r     0.87000          1.18    82.85%    41.10%     0:00:01     0:00:01\r\r"
     ]
    },
    {
     "name": "stderr",
     "output_type": "stream",
     "text": [
      "\r     0.58000          0.48    73.40%    37.00%     0:00:01     0:00:01\r\r"
     ]
    },
    {
     "name": "stderr",
     "output_type": "stream",
     "text": [
      "\r     0.39000          0.14    63.90%    31.15%     0:00:02     0:00:01\r\r"
     ]
    },
    {
     "name": "stderr",
     "output_type": "stream",
     "text": [
      "\r     0.26000          0.22    57.70%    29.20%     0:00:02     0:00:01\r\r"
     ]
    },
    {
     "name": "stderr",
     "output_type": "stream",
     "text": [
      "\r     0.17000          0.19    40.70%    20.30%     0:00:02     0:00:01\r\r"
     ]
    },
    {
     "name": "stderr",
     "output_type": "stream",
     "text": [
      "\r     0.11000          0.24    28.50%    14.05%     0:00:02     0:00:01\r\r"
     ]
    },
    {
     "name": "stderr",
     "output_type": "stream",
     "text": [
      "\r     0.07300          0.13    16.05%     8.65%     0:00:02     0:00:01\r\r"
     ]
    },
    {
     "name": "stderr",
     "output_type": "stream",
     "text": [
      "\r     0.04900          0.21     8.10%     3.65%     0:00:02     0:00:00\r\r"
     ]
    },
    {
     "name": "stderr",
     "output_type": "stream",
     "text": [
      "\r     0.03300          0.01     3.70%     2.05%     0:00:02     0:00:00\r\r"
     ]
    },
    {
     "name": "stderr",
     "output_type": "stream",
     "text": [
      "\r     0.02200          0.03     0.95%     0.50%     0:00:02     0:00:00\r\r"
     ]
    },
    {
     "name": "stderr",
     "output_type": "stream",
     "text": [
      "\r     0.01500          0.00     0.75%     0.30%     0:00:02     0:00:00\r\r"
     ]
    },
    {
     "name": "stderr",
     "output_type": "stream",
     "text": [
      "\r     0.01000          0.00     0.55%     0.35%     0:00:02     0:00:00\r\r"
     ]
    },
    {
     "name": "stderr",
     "output_type": "stream",
     "text": [
      "\r     0.00670          0.01     0.20%     0.10%     0:00:02     0:00:00\r\r"
     ]
    },
    {
     "name": "stderr",
     "output_type": "stream",
     "text": [
      "\r     0.00450          0.00     0.10%     0.10%     0:00:02     0:00:00\r\r"
     ]
    },
    {
     "name": "stderr",
     "output_type": "stream",
     "text": [
      "\r     0.00300          0.00     0.15%     0.05%     0:00:03     0:00:00\r\r"
     ]
    },
    {
     "name": "stderr",
     "output_type": "stream",
     "text": [
      "\r     0.00200          0.00     0.05%     0.05%     0:00:03     0:00:00\r\r"
     ]
    },
    {
     "name": "stderr",
     "output_type": "stream",
     "text": [
      "\r     0.00130          0.00     0.15%     0.10%     0:00:03     0:00:00\r\r"
     ]
    },
    {
     "name": "stderr",
     "output_type": "stream",
     "text": [
      "\r     0.00087          0.00     0.10%     0.05%     0:00:03     0:00:00\r\r"
     ]
    },
    {
     "name": "stderr",
     "output_type": "stream",
     "text": [
      "\r     0.00058          0.00     0.05%     0.05%     0:00:03    -1:59:59\r\r"
     ]
    },
    {
     "name": "stderr",
     "output_type": "stream",
     "text": [
      "\r     0.00039          0.00     0.00%     0.00%     0:00:03    -1:59:59\r\r"
     ]
    },
    {
     "name": "stderr",
     "output_type": "stream",
     "text": [
      " Temperature        Energy    Accept   Improve     Elapsed   Remaining\n",
      "\r    10.00000          0.00                         0:00:00            \r"
     ]
    },
    {
     "name": "stderr",
     "output_type": "stream",
     "text": [
      "\r     9.03464          1.84    98.31%    48.00%     0:00:00     0:00:12\r\r"
     ]
    },
    {
     "name": "stderr",
     "output_type": "stream",
     "text": [
      "\r     8.16246          1.46    98.58%    48.46%     0:00:00     0:00:12\r\r"
     ]
    },
    {
     "name": "stderr",
     "output_type": "stream",
     "text": [
      "\r     7.37449          0.55    97.92%    47.31%     0:00:00     0:00:11\r\r"
     ]
    },
    {
     "name": "stderr",
     "output_type": "stream",
     "text": [
      "\r     6.66258          0.55    97.85%    47.19%     0:00:00     0:00:11\r\r"
     ]
    },
    {
     "name": "stderr",
     "output_type": "stream",
     "text": [
      "\r     6.01940          0.32    97.23%    48.08%     0:00:01     0:00:11\r\r"
     ]
    },
    {
     "name": "stderr",
     "output_type": "stream",
     "text": [
      "\r     5.43831          0.30    96.96%    47.62%     0:00:01     0:00:11\r\r"
     ]
    },
    {
     "name": "stderr",
     "output_type": "stream",
     "text": [
      "\r     4.91331          0.72    97.19%    47.85%     0:00:01     0:00:11\r\r"
     ]
    },
    {
     "name": "stderr",
     "output_type": "stream",
     "text": [
      "\r     4.43900          1.94    96.65%    48.12%     0:00:01     0:00:11\r\r"
     ]
    },
    {
     "name": "stderr",
     "output_type": "stream",
     "text": [
      "\r     4.01048          0.22    96.12%    46.27%     0:00:01     0:00:11\r\r"
     ]
    },
    {
     "name": "stderr",
     "output_type": "stream",
     "text": [
      "\r     3.62332          0.21    96.15%    47.46%     0:00:01     0:00:11\r\r"
     ]
    },
    {
     "name": "stderr",
     "output_type": "stream",
     "text": [
      "\r     3.27354          0.25    94.35%    47.08%     0:00:01     0:00:11\r\r"
     ]
    },
    {
     "name": "stderr",
     "output_type": "stream",
     "text": [
      "\r     2.95752          1.13    95.27%    47.00%     0:00:01     0:00:10\r\r"
     ]
    },
    {
     "name": "stderr",
     "output_type": "stream",
     "text": [
      "\r     2.67201          1.01    94.85%    46.19%     0:00:02     0:00:10\r\r"
     ]
    },
    {
     "name": "stderr",
     "output_type": "stream",
     "text": [
      "\r     2.41407          1.94    93.88%    46.15%     0:00:02     0:00:10\r\r"
     ]
    },
    {
     "name": "stderr",
     "output_type": "stream",
     "text": [
      "\r     2.18102          0.76    93.08%    46.23%     0:00:02     0:00:10\r\r"
     ]
    },
    {
     "name": "stderr",
     "output_type": "stream",
     "text": [
      "\r     1.97047          0.55    91.00%    44.35%     0:00:02     0:00:10\r\r"
     ]
    },
    {
     "name": "stderr",
     "output_type": "stream",
     "text": [
      "\r     1.78025          0.61    91.38%    43.85%     0:00:02     0:00:10\r\r"
     ]
    },
    {
     "name": "stderr",
     "output_type": "stream",
     "text": [
      "\r     1.60839          1.72    91.42%    44.62%     0:00:02     0:00:11\r\r"
     ]
    },
    {
     "name": "stderr",
     "output_type": "stream",
     "text": [
      "\r     1.45312          1.16    90.77%    45.31%     0:00:02     0:00:10\r\r"
     ]
    },
    {
     "name": "stderr",
     "output_type": "stream",
     "text": [
      "\r     1.31284          1.09    89.54%    44.04%     0:00:03     0:00:10\r\r"
     ]
    },
    {
     "name": "stderr",
     "output_type": "stream",
     "text": [
      "\r     1.18611          1.38    87.04%    42.58%     0:00:03     0:00:10\r\r"
     ]
    },
    {
     "name": "stderr",
     "output_type": "stream",
     "text": [
      "\r     1.07160          1.35    85.69%    42.85%     0:00:03     0:00:10\r\r"
     ]
    },
    {
     "name": "stderr",
     "output_type": "stream",
     "text": [
      "\r     0.96815          1.13    84.73%    41.46%     0:00:03     0:00:10\r\r"
     ]
    },
    {
     "name": "stderr",
     "output_type": "stream",
     "text": [
      "\r     0.87469          0.43    83.31%    40.88%     0:00:03     0:00:10\r\r"
     ]
    },
    {
     "name": "stderr",
     "output_type": "stream",
     "text": [
      "\r     0.79025          1.08    80.50%    39.54%     0:00:03     0:00:10\r\r"
     ]
    },
    {
     "name": "stderr",
     "output_type": "stream",
     "text": [
      "\r     0.71396          1.25    79.65%    39.31%     0:00:03     0:00:09\r\r"
     ]
    },
    {
     "name": "stderr",
     "output_type": "stream",
     "text": [
      "\r     0.64504          0.60    78.50%    39.15%     0:00:03     0:00:09\r\r"
     ]
    },
    {
     "name": "stderr",
     "output_type": "stream",
     "text": [
      "\r     0.58277          0.90    76.58%    38.35%     0:00:04     0:00:09\r\r"
     ]
    },
    {
     "name": "stderr",
     "output_type": "stream",
     "text": [
      "\r     0.52651          1.09    75.19%    37.00%     0:00:04     0:00:09\r\r"
     ]
    },
    {
     "name": "stderr",
     "output_type": "stream",
     "text": [
      "\r     0.47568          0.33    71.54%    35.81%     0:00:04     0:00:09\r\r"
     ]
    },
    {
     "name": "stderr",
     "output_type": "stream",
     "text": [
      "\r     0.42976          0.34    69.58%    34.58%     0:00:04     0:00:09\r\r"
     ]
    },
    {
     "name": "stderr",
     "output_type": "stream",
     "text": [
      "\r     0.38828          1.01    64.65%    31.46%     0:00:04     0:00:08\r\r"
     ]
    },
    {
     "name": "stderr",
     "output_type": "stream",
     "text": [
      "\r     0.35079          0.52    64.31%    32.42%     0:00:04     0:00:08\r\r"
     ]
    },
    {
     "name": "stderr",
     "output_type": "stream",
     "text": [
      "\r     0.31693          0.31    61.62%    30.54%     0:00:04     0:00:09\r\r"
     ]
    },
    {
     "name": "stderr",
     "output_type": "stream",
     "text": [
      "\r     0.28633          0.31    58.46%    29.85%     0:00:05     0:00:09\r\r"
     ]
    },
    {
     "name": "stderr",
     "output_type": "stream",
     "text": [
      "\r     0.25869          0.45    54.69%    27.15%     0:00:05     0:00:08\r\r"
     ]
    },
    {
     "name": "stderr",
     "output_type": "stream",
     "text": [
      "\r     0.23372          0.18    52.08%    25.31%     0:00:05     0:00:08\r\r"
     ]
    },
    {
     "name": "stderr",
     "output_type": "stream",
     "text": [
      "\r     0.21116          0.22    48.77%    24.15%     0:00:05     0:00:08\r\r"
     ]
    },
    {
     "name": "stderr",
     "output_type": "stream",
     "text": [
      "\r     0.19077          0.95    46.12%    22.58%     0:00:05     0:00:08\r\r"
     ]
    },
    {
     "name": "stderr",
     "output_type": "stream",
     "text": [
      "\r     0.17236          0.21    45.38%    22.96%     0:00:05     0:00:08\r\r"
     ]
    },
    {
     "name": "stderr",
     "output_type": "stream",
     "text": [
      "\r     0.15572          0.69    42.08%    21.31%     0:00:05     0:00:08\r\r"
     ]
    },
    {
     "name": "stderr",
     "output_type": "stream",
     "text": [
      "\r     0.14068          0.44    37.42%    19.23%     0:00:05     0:00:07\r\r"
     ]
    },
    {
     "name": "stderr",
     "output_type": "stream",
     "text": [
      "\r     0.12710          0.28    33.62%    17.19%     0:00:05     0:00:07\r\r"
     ]
    },
    {
     "name": "stderr",
     "output_type": "stream",
     "text": [
      "\r     0.11483          0.20    32.38%    16.23%     0:00:06     0:00:07\r\r"
     ]
    },
    {
     "name": "stderr",
     "output_type": "stream",
     "text": [
      "\r     0.10375          0.04    30.04%    15.08%     0:00:06     0:00:07\r\r"
     ]
    },
    {
     "name": "stderr",
     "output_type": "stream",
     "text": [
      "\r     0.09373          0.33    28.04%    13.69%     0:00:06     0:00:07\r\r"
     ]
    },
    {
     "name": "stderr",
     "output_type": "stream",
     "text": [
      "\r     0.08468          0.06    23.46%    11.38%     0:00:06     0:00:07\r\r"
     ]
    },
    {
     "name": "stderr",
     "output_type": "stream",
     "text": [
      "\r     0.07651          0.22    18.96%     9.58%     0:00:06     0:00:06\r\r"
     ]
    },
    {
     "name": "stderr",
     "output_type": "stream",
     "text": [
      "\r     0.06912          0.14    17.85%     9.04%     0:00:06     0:00:06\r\r"
     ]
    },
    {
     "name": "stderr",
     "output_type": "stream",
     "text": [
      "\r     0.06245          0.00    14.81%     7.85%     0:00:06     0:00:06\r\r"
     ]
    },
    {
     "name": "stderr",
     "output_type": "stream",
     "text": [
      "\r     0.05642          0.02    11.35%     5.62%     0:00:06     0:00:06\r\r"
     ]
    },
    {
     "name": "stderr",
     "output_type": "stream",
     "text": [
      "\r     0.05097          0.01     7.00%     3.42%     0:00:06     0:00:06\r\r"
     ]
    },
    {
     "name": "stderr",
     "output_type": "stream",
     "text": [
      "\r     0.04605          0.23     8.50%     3.96%     0:00:07     0:00:06\r\r"
     ]
    },
    {
     "name": "stderr",
     "output_type": "stream",
     "text": [
      "\r     0.04161          0.05     9.04%     4.35%     0:00:07     0:00:06\r\r"
     ]
    },
    {
     "name": "stderr",
     "output_type": "stream",
     "text": [
      "\r     0.03759          0.01     5.15%     2.35%     0:00:07     0:00:06\r\r"
     ]
    },
    {
     "name": "stderr",
     "output_type": "stream",
     "text": [
      "\r     0.03396          0.00     4.19%     1.96%     0:00:07     0:00:05\r\r"
     ]
    },
    {
     "name": "stderr",
     "output_type": "stream",
     "text": [
      "\r     0.03068          0.02     3.88%     1.85%     0:00:07     0:00:05\r\r"
     ]
    },
    {
     "name": "stderr",
     "output_type": "stream",
     "text": [
      "\r     0.02772          0.02     2.81%     1.27%     0:00:07     0:00:05\r\r"
     ]
    },
    {
     "name": "stderr",
     "output_type": "stream",
     "text": [
      "\r     0.02505          0.03     1.81%     0.85%     0:00:07     0:00:05\r\r"
     ]
    },
    {
     "name": "stderr",
     "output_type": "stream",
     "text": [
      "\r     0.02263          0.05     1.12%     0.65%     0:00:07     0:00:05\r\r"
     ]
    },
    {
     "name": "stderr",
     "output_type": "stream",
     "text": [
      "\r     0.02044          0.11     1.35%     0.77%     0:00:07     0:00:05\r\r"
     ]
    },
    {
     "name": "stderr",
     "output_type": "stream",
     "text": [
      "\r     0.01847          0.00     0.73%     0.42%     0:00:07     0:00:05\r\r"
     ]
    },
    {
     "name": "stderr",
     "output_type": "stream",
     "text": [
      "\r     0.01669          0.01     0.54%     0.27%     0:00:08     0:00:04\r\r"
     ]
    },
    {
     "name": "stderr",
     "output_type": "stream",
     "text": [
      "\r     0.01508          0.02     1.00%     0.58%     0:00:08     0:00:04\r\r"
     ]
    },
    {
     "name": "stderr",
     "output_type": "stream",
     "text": [
      "\r     0.01362          0.01     0.85%     0.46%     0:00:08     0:00:04\r\r"
     ]
    },
    {
     "name": "stderr",
     "output_type": "stream",
     "text": [
      "\r     0.01231          0.01     0.31%     0.15%     0:00:08     0:00:04\r\r"
     ]
    },
    {
     "name": "stderr",
     "output_type": "stream",
     "text": [
      "\r     0.01112          0.01     0.62%     0.27%     0:00:08     0:00:04\r\r"
     ]
    },
    {
     "name": "stderr",
     "output_type": "stream",
     "text": [
      "\r     0.01004          0.01     0.69%     0.23%     0:00:08     0:00:04\r\r"
     ]
    },
    {
     "name": "stderr",
     "output_type": "stream",
     "text": [
      "\r     0.00907          0.01     0.42%     0.23%     0:00:08     0:00:04\r\r"
     ]
    },
    {
     "name": "stderr",
     "output_type": "stream",
     "text": [
      "\r     0.00820          0.02     0.27%     0.15%     0:00:08     0:00:04\r\r"
     ]
    },
    {
     "name": "stderr",
     "output_type": "stream",
     "text": [
      "\r     0.00741          0.02     0.46%     0.23%     0:00:08     0:00:03\r\r"
     ]
    },
    {
     "name": "stderr",
     "output_type": "stream",
     "text": [
      "\r     0.00669          0.00     0.27%     0.19%     0:00:08     0:00:03\r\r"
     ]
    },
    {
     "name": "stderr",
     "output_type": "stream",
     "text": [
      "\r     0.00605          0.00     0.35%     0.19%     0:00:09     0:00:03\r\r"
     ]
    },
    {
     "name": "stderr",
     "output_type": "stream",
     "text": [
      "\r     0.00546          0.01     0.42%     0.23%     0:00:09     0:00:03\r\r"
     ]
    },
    {
     "name": "stderr",
     "output_type": "stream",
     "text": [
      "\r     0.00494          0.00     0.31%     0.27%     0:00:09     0:00:03\r\r"
     ]
    },
    {
     "name": "stderr",
     "output_type": "stream",
     "text": [
      "\r     0.00446          0.00     0.08%     0.04%     0:00:09     0:00:03\r\r"
     ]
    },
    {
     "name": "stderr",
     "output_type": "stream",
     "text": [
      "\r     0.00403          0.00     0.46%     0.23%     0:00:09     0:00:03\r\r"
     ]
    },
    {
     "name": "stderr",
     "output_type": "stream",
     "text": [
      "\r     0.00364          0.00     0.12%     0.04%     0:00:09     0:00:03\r\r"
     ]
    },
    {
     "name": "stderr",
     "output_type": "stream",
     "text": [
      "\r     0.00329          0.00     0.15%     0.12%     0:00:09     0:00:02\r\r"
     ]
    },
    {
     "name": "stderr",
     "output_type": "stream",
     "text": [
      "\r     0.00297          0.01     0.08%     0.04%     0:00:09     0:00:02\r\r"
     ]
    },
    {
     "name": "stderr",
     "output_type": "stream",
     "text": [
      "\r     0.00268          0.00     0.19%     0.15%     0:00:09     0:00:02\r\r"
     ]
    },
    {
     "name": "stderr",
     "output_type": "stream",
     "text": [
      "\r     0.00242          0.00     0.08%     0.04%     0:00:10     0:00:02\r\r"
     ]
    },
    {
     "name": "stderr",
     "output_type": "stream",
     "text": [
      "\r     0.00219          0.00     0.04%     0.00%     0:00:10     0:00:02\r\r"
     ]
    },
    {
     "name": "stderr",
     "output_type": "stream",
     "text": [
      "\r     0.00198          0.00     0.08%     0.04%     0:00:10     0:00:02\r\r"
     ]
    },
    {
     "name": "stderr",
     "output_type": "stream",
     "text": [
      "\r     0.00179          0.00     0.04%     0.00%     0:00:10     0:00:02\r\r"
     ]
    },
    {
     "name": "stderr",
     "output_type": "stream",
     "text": [
      "\r     0.00162          0.00     0.00%     0.00%     0:00:10     0:00:02\r\r"
     ]
    },
    {
     "name": "stderr",
     "output_type": "stream",
     "text": [
      "\r     0.00146          0.00     0.08%     0.04%     0:00:10     0:00:02\r\r"
     ]
    },
    {
     "name": "stderr",
     "output_type": "stream",
     "text": [
      "\r     0.00132          0.00     0.08%     0.00%     0:00:10     0:00:01\r\r"
     ]
    },
    {
     "name": "stderr",
     "output_type": "stream",
     "text": [
      "\r     0.00119          0.00     0.12%     0.04%     0:00:11     0:00:01\r\r"
     ]
    },
    {
     "name": "stderr",
     "output_type": "stream",
     "text": [
      "\r     0.00108          0.00     0.12%     0.08%     0:00:11     0:00:01\r\r"
     ]
    },
    {
     "name": "stderr",
     "output_type": "stream",
     "text": [
      "\r     0.00097          0.00     0.08%     0.04%     0:00:11     0:00:01\r\r"
     ]
    },
    {
     "name": "stderr",
     "output_type": "stream",
     "text": [
      "\r     0.00088          0.00     0.08%     0.04%     0:00:11     0:00:01\r\r"
     ]
    },
    {
     "name": "stderr",
     "output_type": "stream",
     "text": [
      "\r     0.00079          0.00     0.00%     0.00%     0:00:11     0:00:01\r\r"
     ]
    },
    {
     "name": "stderr",
     "output_type": "stream",
     "text": [
      "\r     0.00072          0.00     0.00%     0.00%     0:00:11     0:00:01\r\r"
     ]
    },
    {
     "name": "stderr",
     "output_type": "stream",
     "text": [
      "\r     0.00065          0.00     0.04%     0.04%     0:00:11     0:00:01\r\r"
     ]
    },
    {
     "name": "stderr",
     "output_type": "stream",
     "text": [
      "\r     0.00059          0.00     0.00%     0.00%     0:00:11     0:00:00\r\r"
     ]
    },
    {
     "name": "stderr",
     "output_type": "stream",
     "text": [
      "\r     0.00053          0.00     0.00%     0.00%     0:00:11     0:00:00\r\r"
     ]
    },
    {
     "name": "stderr",
     "output_type": "stream",
     "text": [
      "\r     0.00048          0.00     0.00%     0.00%     0:00:11     0:00:00\r\r"
     ]
    },
    {
     "name": "stderr",
     "output_type": "stream",
     "text": [
      "\r     0.00043          0.00     0.00%     0.00%     0:00:12     0:00:00\r\r"
     ]
    },
    {
     "name": "stderr",
     "output_type": "stream",
     "text": [
      "\r     0.00039          0.00     0.04%     0.00%     0:00:12     0:00:00\r\r"
     ]
    },
    {
     "name": "stdout",
     "output_type": "stream",
     "text": [
      "Notice that the results below are displayed using scientific notation.\n",
      "\n",
      "The lowest function value found by simulated annealing is 4.774e-06\n",
      "That value is achieved when x = 4.410e-04 and y = -2.448e-04\n",
      "\n",
      "After refining the result from simulated annealing with local search.\n",
      "The lowest function value found by local search is 8.404e-14\n",
      "That value is achieved when x = -3.500e-08 and y = -5.704e-08\n"
     ]
    }
   ],
   "source": [
    "# Self-Assessment Solution for Simulated Annealing with Continuous Variables\n",
    "\n",
    "def f(xy):\n",
    "    obj = 0.2 + sum(xy**2 - 0.1*np.cos(6*np.pi*xy))\n",
    "    return obj\n",
    "\n",
    "def gauss_move(xy,sigma):\n",
    "    # xy is a 1 by dim numpy array\n",
    "    # sigma is the standard deviation for the normal distribution\n",
    "    dim = len(xy)\n",
    "    return xy + np.random.normal(loc = 0, scale = sigma, size=dim)\n",
    "\n",
    "def clip_to_bounds(xy,low,high):\n",
    "    # xy is a 1 by dim numpy array\n",
    "    # low is the lower bound for clipping variables\n",
    "    # high is the upper bound for clipping variables\n",
    "    return np.array( [min(high,max(low,v)) for v in xy])\n",
    "\n",
    "class NonConvex2D(Annealer):\n",
    "\n",
    "    # no extra data so just initialize with state\n",
    "    def __init__(self, state, sigma, low, high):\n",
    "        self.sigma = sigma\n",
    "        self.low = low\n",
    "        self.high = high\n",
    "        super(NonConvex2D, self).__init__(state)  # important!\n",
    "\n",
    "    def move(self):\n",
    "        self.state = gauss_move(self.state, self.sigma)\n",
    "        self.state = clip_to_bounds(self.state, self.low, self.high)\n",
    "\n",
    "    def energy(self):\n",
    "        return f(self.state)\n",
    "\n",
    "init_state = np.random.uniform(low=-1,high=1,size=2)\n",
    "sigma = 1/3\n",
    "low = -1\n",
    "high = 1\n",
    "\n",
    "problem2D = NonConvex2D( init_state, sigma, low, high )\n",
    "problem2D.set_schedule(problem2D.auto(minutes=.2))\n",
    "best_x, best_fun = problem2D.anneal()\n",
    "\n",
    "print(\"Notice that the results below are displayed using scientific notation.\\n\")\n",
    "print(f\"The lowest function value found by simulated annealing is {best_fun:.3e}\")\n",
    "print(f\"That value is achieved when x = {best_x[0]:.3e} and y = {best_x[1]:.3e}\")\n",
    "# refine with local search\n",
    "from scipy.optimize import minimize\n",
    "\n",
    "result = minimize(f,best_x)\n",
    "print(\"\\nAfter refining the result from simulated annealing with local search.\")\n",
    "print(f\"The lowest function value found by local search is {result.fun:.3e}\")\n",
    "print(f\"That value is achieved when x = {result.x[0]:.3e} and y = {result.x[1]:.3e}\")"
   ]
  },
  {
   "cell_type": "markdown",
   "metadata": {
    "collapsed": false
   },
   "source": [
    "Notice that we get close to the optimal solution, but only to within 5 or so decimal places.  Simulated annealing is very good at exploring the entire space of solutions but is not so efficient at converging to a nearby minimum value.  Most practical simulated annealing type search algorithms for continuous optimization combine a gradient based local search with the annealing process to promote faster convergence."
   ]
  },
  {
   "cell_type": "markdown",
   "metadata": {
    "collapsed": false
   },
   "source": [
    "# *Self-Assessment:  Exploring Tournament Selection*\n",
    "\n",
    "*What happens for smaller tournament sizes?*  You should notice that there is more diversity in the selected population and more high value fitness values get selected.  There are fewer repeats in the selected population.\n",
    "\n",
    "*For larger tournament sizes?* There is less diversity in the selected population and mostly low value fitness values get selected.  There are more repeats in the selected population.\n",
    "\n",
    "*For tournament size 1?* This yields the most diverse population with fewest repeats.\n",
    "\n",
    "*For tournament size the same as the population size?* The selected population contains only the individual with the lowest fitness value.  This means crossover will have no effect since all the individuals are the same.  Only the mutation operator will have an effect.\n",
    "\n",
    "*How does tournament size affect the exploration versus exploitation tradeoff?*. Small tournament sizes encourage more exploration and less exploitation while larger tournament sizes have the opposite effect."
   ]
  },
  {
   "cell_type": "markdown",
   "metadata": {
    "collapsed": false
   },
   "source": [
    "# *Self-Assessment:  Crossover probability*\n",
    "\n",
    "* *What happens if `cx_prob = 0`?* No mating occurs so there is no sharing of information between individuals.  This would result in a population of parallel random local searches.\n",
    "\n",
    "* *What happens if `cx_prob=1`?*  Every pair of individuals mates, this means that there is no chance that a very good solution survives more than one generation unless it happens to mate with a copy of itself."
   ]
  },
  {
   "cell_type": "markdown",
   "metadata": {
    "collapsed": false
   },
   "source": [
    "# *Self-Assessment: Mutation Parameters:*\n",
    "\n",
    "* *What is the effect of `mut_prob = 1`?*  Every individual is mutated.\n",
    "* *What is the effect of `mut_prob = 0`?*  No individuals are mutated so the genetic algorithm uses only mating to improve the population.\n",
    "* *What is the effect of increasing `ind_prob`?*  Larger values mean more changes in the individual.\n",
    "* *What would happen if you made `sigma` really large?*  The mutations could result in very large steps which could make the search behave erratically.  Mutated individuals might have very little in common with their parents.  Large exploration and small exploitation.\n",
    "* *What would happen if you made `sigma` really small?*  The steps would be very small so the search remains very local.  Small exploration and large exploitation."
   ]
  },
  {
   "cell_type": "markdown",
   "metadata": {
    "collapsed": false
   },
   "source": [
    "# *Self-Assessment:  Refine the best solution with local search*"
   ]
  },
  {
   "cell_type": "code",
   "execution_count": 8,
   "metadata": {
    "collapsed": false
   },
   "outputs": [
    {
     "name": "stdout",
     "output_type": "stream",
     "text": [
      "Iteration | Best this iter |    Best ever\n"
     ]
    },
    {
     "name": "stdout",
     "output_type": "stream",
     "text": [
      "      100 |      2.495e+00 |    2.495e+00\n"
     ]
    },
    {
     "name": "stdout",
     "output_type": "stream",
     "text": [
      "      200 |      5.365e-01 |    5.365e-01\n"
     ]
    },
    {
     "name": "stdout",
     "output_type": "stream",
     "text": [
      "      300 |      1.244e-01 |    1.244e-01\n"
     ]
    },
    {
     "name": "stdout",
     "output_type": "stream",
     "text": [
      "      400 |      1.003e-01 |    1.003e-01\n"
     ]
    },
    {
     "name": "stdout",
     "output_type": "stream",
     "text": [
      "      500 |      8.236e-02 |    8.236e-02\n"
     ]
    },
    {
     "name": "stdout",
     "output_type": "stream",
     "text": [
      "      600 |      3.770e-02 |    3.770e-02\n"
     ]
    },
    {
     "name": "stdout",
     "output_type": "stream",
     "text": [
      "      700 |      1.344e-02 |    1.344e-02\n"
     ]
    },
    {
     "name": "stdout",
     "output_type": "stream",
     "text": [
      "      800 |      1.344e-02 |    1.344e-02\n"
     ]
    },
    {
     "name": "stdout",
     "output_type": "stream",
     "text": [
      "      900 |      1.197e-02 |    1.197e-02\n"
     ]
    },
    {
     "name": "stdout",
     "output_type": "stream",
     "text": [
      "     1000 |      1.145e-02 |    1.145e-02\n"
     ]
    },
    {
     "name": "stdout",
     "output_type": "stream",
     "text": [
      "     1100 |      1.145e-02 |    1.145e-02\n"
     ]
    },
    {
     "name": "stdout",
     "output_type": "stream",
     "text": [
      "     1200 |      8.304e-03 |    8.304e-03\n"
     ]
    },
    {
     "name": "stdout",
     "output_type": "stream",
     "text": [
      "     1300 |      8.304e-03 |    8.304e-03\n"
     ]
    },
    {
     "name": "stdout",
     "output_type": "stream",
     "text": [
      "     1400 |      8.304e-03 |    8.304e-03\n"
     ]
    },
    {
     "name": "stdout",
     "output_type": "stream",
     "text": [
      "     1500 |      8.304e-03 |    8.304e-03\n"
     ]
    },
    {
     "name": "stdout",
     "output_type": "stream",
     "text": [
      "     1600 |      4.635e-03 |    4.635e-03\n"
     ]
    },
    {
     "name": "stdout",
     "output_type": "stream",
     "text": [
      "     1700 |      4.635e-03 |    4.635e-03\n"
     ]
    },
    {
     "name": "stdout",
     "output_type": "stream",
     "text": [
      "     1800 |      4.064e-03 |    4.064e-03\n"
     ]
    },
    {
     "name": "stdout",
     "output_type": "stream",
     "text": [
      "     1900 |      4.064e-03 |    4.064e-03\n"
     ]
    },
    {
     "name": "stdout",
     "output_type": "stream",
     "text": [
      "     2000 |      2.790e-03 |    2.790e-03\n",
      "Before additional local search:\n",
      "The minimum value found of the Rastrigin function is 0.0028\n",
      "The location of that minimum is:\n",
      "( -0.0001, 0.0011, -0.0008, 0.0014, 0.0004, 0.0005, 0.0028, -0.0011, -0.0007, -0.0005 )\n",
      "Total function evaluations for Genetic Algorithm: 200100\n",
      "\n",
      "After additional local search:\n",
      "The minimum value found of the Rastrigin function is 0.0000\n",
      "The location of that minimum is:\n",
      "( -0.0000, -0.0000, -0.0000, -0.0000, -0.0000, -0.0000, -0.0000, -0.0000, -0.0000, -0.0000 )\n",
      "Total function evaluations for Genetic Algorithm + Local Search: 200155\n"
     ]
    }
   ],
   "source": [
    "pop_size = 100 # should be even due to the way we'll implement crossover\n",
    "ind_size = 10 # determines number of input variables for Rastrigin and each individual\n",
    "lower = -5.12 # lower and upper bounds on the real variables\n",
    "upper = 5.12\n",
    "tourn_size = 3 # tournament size for selection\n",
    "cx_prob = 0.8 # probability a pair of parents crossover to produce two children\n",
    "mut_prob = 0.2 # probability an individual mutates\n",
    "ind_prob = 0.1 # probability each variable in an individual mutates\n",
    "sigma = (upper-lower)/6 # standard deviation (scale) for gaussian mutations\n",
    "num_iter = 2000 # number of genetic algorithm mutations\n",
    "update_iter = 100 # how often to display output\n",
    "\n",
    "stats = np.zeros((num_iter+1,3)) # for collecting statistics\n",
    "\n",
    "# objective or fitness function\n",
    "COUNT = 0 # for counting function evaluations\n",
    "def rastrigin(x):\n",
    "    global COUNT\n",
    "    COUNT += 1\n",
    "    x = np.array(x) # force a numpy arrray here so that the math below works\n",
    "    return np.sum(x**2 + 10 - 10 * np.cos(2 * np.pi * x) )\n",
    "\n",
    "#initialize population and fitness\n",
    "pop = np.random.uniform(low=lower, high=upper, size = (ind_size,pop_size))\n",
    "fitness = np.zeros(pop_size)\n",
    "for j in range(pop_size):\n",
    "    fitness[j] = rastrigin(pop[:,j])\n",
    "\n",
    "# initialize stats and output\n",
    "best_fitness = min(fitness)\n",
    "stats[0,:] = np.array([0,best_fitness, best_fitness])\n",
    "print('Iteration | Best this iter |    Best ever')\n",
    "\n",
    "for iter in range(num_iter):\n",
    "    # tournament selection\n",
    "    sorted_pos = fitness.argsort() # sort pop by increasing fitness\n",
    "    fitness = fitness[sorted_pos]\n",
    "    pop = pop[:,sorted_pos]\n",
    "    select_pop = np.zeros((ind_size,pop_size)) # initialize selected population\n",
    "    for j in range(pop_size):\n",
    "        subset_pos = np.random.choice(pop_size,tourn_size,replace=False) # select without replacement\n",
    "        smallest_pos = np.min(subset_pos) # choose index corresponding to lowest fitness\n",
    "        select_pop[:,j] = pop[:,smallest_pos]\n",
    "\n",
    "    # one-point crossover (mating)\n",
    "    cx_pop = np.zeros((ind_size,pop_size)) # initialize crossover population\n",
    "    for j in range(int(pop_size/2)):  # pop_size must be even\n",
    "        parent1, parent2 = select_pop[:,2*j], select_pop[:,2*j+1]\n",
    "        child1, child2 = parent1.copy(), parent2.copy()\n",
    "        if np.random.uniform() < cx_prob: # crossover occurs\n",
    "            cx_point = np.random.randint(1,ind_size) # crossover point between 0 and ind_size-2\n",
    "            child1[0:cx_point], child2[0:cx_point] = parent2[0:cx_point], parent1[0:cx_point]\n",
    "        cx_pop[:,2*j] = child1\n",
    "        cx_pop[:,2*j+1] = child2\n",
    "\n",
    "    # gaussian mutation (rewritten to remove nested loop for speed)\n",
    "    mut_pop = np.zeros((ind_size,pop_size)) # initialize mutation population\n",
    "    for j in range(pop_size):\n",
    "        individual = cx_pop[:,j].copy() # copy is necessary to avoid conflicts in memory\n",
    "        if np.random.uniform()<mut_prob:\n",
    "            individual = individual + np.random.normal(0,sigma,ind_size)*(np.random.uniform(size=ind_size)<ind_prob)\n",
    "            individual = np.maximum(individual,lower) # clip to lower bound\n",
    "            individual = np.minimum(individual,upper) # clip to upper bound\n",
    "        mut_pop[:,j] = individual.copy() # copy is necessary to avoid conflicts in memory\n",
    "\n",
    "    # fitness evaluation with local search\n",
    "    pop = mut_pop.copy()\n",
    "    for j in range(pop_size):\n",
    "        fitness[j] = rastrigin(pop[:,j])\n",
    "\n",
    "    # collect stats and output to screen\n",
    "    min_fitness = min(fitness) # best for this iteration\n",
    "    if min_fitness < best_fitness: # best for all iterations\n",
    "        best_fitness = min_fitness\n",
    "        index = np.argmin(fitness)\n",
    "        best_x = pop[:,index]\n",
    "\n",
    "    stats[iter+1,:] = np.array([iter+1,min_fitness, best_fitness])\n",
    "    if (iter+1) % update_iter == 0:\n",
    "        print(f\"{stats[iter+1,0]:9.0f} | {stats[iter+1,1]:14.3e} | {stats[iter+1,2]:12.3e}\")\n",
    "\n",
    "print(\"Before additional local search:\")\n",
    "print(f\"The minimum value found of the Rastrigin function is {best_fitness:.4f}\")\n",
    "print(\"The location of that minimum is:\")\n",
    "print('(',', '.join(f\"{x:.4f}\" for x in best_x),')')\n",
    "print(f\"Total function evaluations for Genetic Algorithm: {COUNT}\")\n",
    "\n",
    "\n",
    "# local search to improve fitness of best individual found\n",
    "dim = ind_size\n",
    "bounds = [(-5.12,5.12) for i in range(dim)]\n",
    "\n",
    "x_initial = best_x\n",
    "result = minimize(rastrigin,x_initial,bounds=bounds)\n",
    "best_x = result.x\n",
    "best_fitness = result.fun\n",
    "\n",
    "print(\"\\nAfter additional local search:\")\n",
    "print(f\"The minimum value found of the Rastrigin function is {best_fitness:.4f}\")\n",
    "print(\"The location of that minimum is:\")\n",
    "print('(',', '.join(f\"{x:.4f}\" for x in best_x),')')\n",
    "print(f\"Total function evaluations for Genetic Algorithm + Local Search: {COUNT}\")"
   ]
  },
  {
   "cell_type": "markdown",
   "metadata": {
    "collapsed": false
   },
   "source": [
    "Now we'll do the multistart strategy and track the function evaluations (code copied from Lesson 4):"
   ]
  },
  {
   "cell_type": "code",
   "execution_count": 9,
   "metadata": {
    "collapsed": false
   },
   "outputs": [
    {
     "name": "stdout",
     "output_type": "stream",
     "text": [
      "New best value is 120.389\n",
      "New best value is 76.611\n",
      "New best value is 60.692\n",
      "New best value is 56.712\n",
      "New best value is 42.783\n"
     ]
    },
    {
     "name": "stdout",
     "output_type": "stream",
     "text": [
      "New best value is 29.849\n"
     ]
    },
    {
     "name": "stdout",
     "output_type": "stream",
     "text": [
      "New best value is 26.864\n"
     ]
    },
    {
     "name": "stdout",
     "output_type": "stream",
     "text": [
      "New best value is 22.884\n"
     ]
    },
    {
     "name": "stdout",
     "output_type": "stream",
     "text": [
      "\n",
      "The smallest value found is 22.884\n",
      "The location where the smallest values occurs is:\n",
      "    x0 = -0.995\n",
      "    x1 = 1.990\n",
      "    x2 = 0.995\n",
      "    x3 = 0.995\n",
      "    x4 = -0.995\n",
      "    x5 = 0.995\n",
      "    x6 = -0.000\n",
      "    x7 = 1.990\n",
      "    x8 = -0.995\n",
      "    x9 = 2.985\n",
      "The total number of function evaluations for Multistart is: 211618\n"
     ]
    }
   ],
   "source": [
    "COUNT = 0\n",
    "dim = 10 # this determines the number of inputs to the Rastrigin function, there are 10 inputs or variables with dim=10\n",
    "num_local_searches = 1000\n",
    "best_value = 1.e10\n",
    "bounds = [(-5.12,5.12) for i in range(dim)] # make a list of tuples to give bounds for each of the dim = 10 variables\n",
    "\n",
    "for i in range(num_local_searches):\n",
    "    x_initial = np.random.uniform(-5.12, 5.12, dim)\n",
    "    result = minimize(rastrigin,x_initial,bounds=bounds)\n",
    "    if result.fun < best_value:\n",
    "        best_value = result.fun\n",
    "        best_x = result.x\n",
    "        print(f\"New best value is {best_value:1.3f}\")\n",
    "\n",
    "print(f\"\\nThe smallest value found is {best_value:4.3f}\")\n",
    "print(f\"The location where the smallest values occurs is:\")\n",
    "for i in range(dim):\n",
    "    print(f\"    x{i} = {best_x[i]:1.3f}\")\n",
    "print(f\"The total number of function evaluations for Multistart is: {COUNT}\")"
   ]
  },
  {
   "cell_type": "markdown",
   "metadata": {
    "collapsed": false
   },
   "source": [
    "Genetic Algorithm + Local Search is better and more efficient than Multistart.  GA+LS found the global min in about 200,000 function evaluations.  After about 200,000 function evaluations Multistart has still not come close to the global minimum.  While this result is problem dependent it should be noted that Genetic Algorithms can be very good at exploring large search spaces."
   ]
  },
  {
   "cell_type": "markdown",
   "metadata": {
    "collapsed": false,
    "heading_collapsed": true
   },
   "source": [
    "# *Self-Assessment:  Genetic Algorithm for the Gerrymandering Problem*"
   ]
  },
  {
   "cell_type": "code",
   "execution_count": 10,
   "metadata": {
    "code_folding": [
     0
    ],
    "collapsed": false,
    "hidden": true
   },
   "outputs": [
   ],
   "source": [
    "# load the data + random assignment\n",
    "num_districts = 10\n",
    "min_voters_in_district = 150\n",
    "max_voters_in_district = 350\n",
    "\n",
    "dems = [152,81,75,34,62,38,48,74,98,66,83,86,72,28,112,45,93,72]\n",
    "reps = [62,59,83,52,87,87,69,49,62,72,75,82,83,53,98,82,68,98]\n",
    "cities = pd.DataFrame( data = {'dems':dems, 'reps':reps})\n",
    "num_cities = len(dems)\n",
    "\n",
    "# uses penalty to 'discourage' out of bounds solutions\n",
    "def fitness_districts(assign, cities, num_districts):\n",
    "    df = cities.groupby(assign).sum()\n",
    "    fitness = sum( df['reps'] > df['dems'] )\n",
    "    total_voters = np.zeros(num_districts,dtype=np.int32)\n",
    "    total_voters[df.index] = df.sum(axis=1)\n",
    "    fitness -= np.abs(np.minimum(np.maximum(total_voters,150),350)-total_voters).sum()\n",
    "    return (-fitness)\n",
    "\n",
    "def move_cities(assign,num_districts,ind_prob):\n",
    "    num_cities = assign.shape[0] # or len(assign)\n",
    "    new_assign = assign.copy()\n",
    "    for j in range(num_cities):\n",
    "        if np.random.uniform() < ind_prob:\n",
    "            while new_assign[j] == assign[j]: # loops until new and old are different\n",
    "                new_assign[j] = np.random.randint(num_districts)\n",
    "    return new_assign\n",
    "\n",
    "# for printing out an assignment of cities to districts\n",
    "def summarize_districts(assign, cities, num_districts):\n",
    "    reps = np.zeros(num_districts, dtype=np.int32)\n",
    "    dems = np.zeros(num_districts, dtype=np.int32)\n",
    "    df = cities.groupby(assign).sum()\n",
    "    reps[df.index] = df['reps']\n",
    "    dems[df.index] = df['dems']\n",
    "    total = reps + dems\n",
    "    delta = np.minimum(np.maximum(total, 150), 350) - total\n",
    "    rep_win = reps > dems\n",
    "    dict = {\n",
    "        'reps': reps,\n",
    "        'dems': dems,\n",
    "        'total': total,\n",
    "        'rep_win': rep_win\n",
    "    }\n",
    "    return (pd.DataFrame(data=dict))"
   ]
  },
  {
   "cell_type": "code",
   "execution_count": 11,
   "metadata": {
    "code_folding": [
    ],
    "collapsed": false,
    "hidden": true
   },
   "outputs": [
    {
     "name": "stdout",
     "output_type": "stream",
     "text": [
      "Iteration | Best this iter |    Best ever\n"
     ]
    },
    {
     "name": "stdout",
     "output_type": "stream",
     "text": [
      "      100 |     -7.000e+00 |   -7.000e+00\n"
     ]
    },
    {
     "name": "stdout",
     "output_type": "stream",
     "text": [
      "      200 |     -7.000e+00 |   -7.000e+00\n"
     ]
    },
    {
     "name": "stdout",
     "output_type": "stream",
     "text": [
      "      300 |     -7.000e+00 |   -7.000e+00\n"
     ]
    },
    {
     "name": "stdout",
     "output_type": "stream",
     "text": [
      "      400 |     -7.000e+00 |   -7.000e+00\n"
     ]
    },
    {
     "name": "stdout",
     "output_type": "stream",
     "text": [
      "      500 |     -8.000e+00 |   -8.000e+00\n"
     ]
    },
    {
     "name": "stdout",
     "output_type": "stream",
     "text": [
      "      600 |     -8.000e+00 |   -8.000e+00\n"
     ]
    },
    {
     "name": "stdout",
     "output_type": "stream",
     "text": [
      "      700 |     -8.000e+00 |   -8.000e+00\n"
     ]
    },
    {
     "name": "stdout",
     "output_type": "stream",
     "text": [
      "      800 |     -8.000e+00 |   -8.000e+00\n"
     ]
    },
    {
     "name": "stdout",
     "output_type": "stream",
     "text": [
      "      900 |     -8.000e+00 |   -8.000e+00\n"
     ]
    },
    {
     "name": "stdout",
     "output_type": "stream",
     "text": [
      "     1000 |     -8.000e+00 |   -8.000e+00\n",
      "The maximum number of districts won by Republicans is 8\n",
      "The location of that maximum  is:\n",
      "( 9, 1, 4, 3, 8, 0, 1, 9, 6, 7, 8, 7, 2, 1, 0, 3, 6, 5 )\n"
     ]
    }
   ],
   "source": [
    "pop_size = 20 # should be even due to the way we'll implement crossover\n",
    "ind_size = num_cities # determines number of input variables for Rastrigin and each individual\n",
    "# bounds are included in the fitness function so we don't need these\n",
    "#lower = -5.12 # lower and upper bounds on the real variables\n",
    "#upper = 5.12\n",
    "tourn_size = 3 # tournament size for selection\n",
    "cx_prob = 0.7 # probability a pair of parents crossover to produce two children\n",
    "mut_prob = 0.3 # probability an individual mutates\n",
    "ind_prob = 0.1 # probability each variable in an individual mutates\n",
    "# sigma is only needed for gaussian mutation\n",
    "#sigma = (upper-lower)/6 # standard deviation (scale) for gaussian mutations\n",
    "num_iter = 1000 # number of genetic algorithm mutations\n",
    "update_iter = 100 # how often to display output\n",
    "\n",
    "stats = np.zeros((num_iter+1,3)) # for collecting statistics\n",
    "\n",
    "# objective or fitness function\n",
    "\n",
    "#initialize population and fitness\n",
    "pop = np.random.randint(low=0, high=num_districts, size = (ind_size,pop_size))\n",
    "fitness = np.empty(pop_size)\n",
    "for j in range(pop_size):\n",
    "    fitness[j] = fitness_districts(pop[:,j],cities,num_districts)\n",
    "best_fitness = min(fitness)\n",
    "stats[0,:] = np.array([0,best_fitness, best_fitness])\n",
    "print('Iteration | Best this iter |    Best ever')\n",
    "\n",
    "for iter in range(num_iter):\n",
    "    # tournament selection\n",
    "    sorted_pos = fitness.argsort() # sort pop by increasing fitness\n",
    "    fitness = fitness[sorted_pos]\n",
    "    pop = pop[:,sorted_pos]\n",
    "    select_pop = np.zeros((ind_size,pop_size)) # initialize selected population\n",
    "    for j in range(pop_size):\n",
    "        subset_pos = np.random.choice(pop_size,tourn_size,replace=False) # select without replacement\n",
    "        smallest_pos = np.min(subset_pos) # choose index corresponding to lowest fitness\n",
    "        select_pop[:,j] = pop[:,smallest_pos]\n",
    "\n",
    "    # one-point crossover (mating)\n",
    "    cx_pop = np.zeros((ind_size,pop_size)) # initialize crossover population\n",
    "    for j in range(int(pop_size/2)):  # pop_size must be even\n",
    "        child1 = select_pop[:,2*j] # these are the parents, but we'll swap pieces in place\n",
    "        child2 = select_pop[:,2*j+1]\n",
    "        if np.random.uniform() < cx_prob: # crossover occurs\n",
    "            cx_point = np.random.randint(0,ind_size-1) # crossover point between 0 and ind_size-2\n",
    "            child1[0:cx_point+1], child2[0:cx_point+1] = child2[0:cx_point+1], child1[0:cx_point+1]\n",
    "        cx_pop[:,2*j] = child1\n",
    "        cx_pop[:,2*j+1] = child2\n",
    "\n",
    "    # mutuation\n",
    "    mut_pop = cx_pop.copy()\n",
    "    for j in range(pop_size):\n",
    "        if np.random.uniform()<mut_prob:\n",
    "            mut_pop[:,j] = move_cities(mut_pop[:,j], num_districts, ind_prob)\n",
    "\n",
    "    # fitness evaluation\n",
    "    pop = mut_pop.copy().astype(int)\n",
    "    for j in range(pop_size):\n",
    "        fitness[j] = fitness_districts(pop[:,j],cities,num_districts)\n",
    "\n",
    "    # collect stats and output to screen\n",
    "    min_fitness = min(fitness) # best for this iteration\n",
    "    if min_fitness < best_fitness: # best for all iterations\n",
    "        best_fitness = min_fitness\n",
    "        index = np.argmin(fitness)\n",
    "        best_x = pop[:,index]\n",
    "\n",
    "    stats[iter+1,:] = np.array([iter+1,min_fitness, best_fitness])\n",
    "    if (iter+1) % update_iter == 0:\n",
    "        print(f\"{stats[iter+1,0]:9.0f} | {stats[iter+1,1]:14.3e} | {stats[iter+1,2]:12.3e}\")\n",
    "        \n",
    "print(f\"The maximum number of districts won by Republicans is {-best_fitness:.0f}\")\n",
    "print(\"The location of that maximum  is:\")\n",
    "print('(',', '.join(f\"{x:.0f}\" for x in best_x),')')"
   ]
  },
  {
   "cell_type": "code",
   "execution_count": 12,
   "metadata": {
    "collapsed": false,
    "hidden": true
   },
   "outputs": [
    {
     "data": {
      "text/html": [
       "<div>\n",
       "<style scoped>\n",
       "    .dataframe tbody tr th:only-of-type {\n",
       "        vertical-align: middle;\n",
       "    }\n",
       "\n",
       "    .dataframe tbody tr th {\n",
       "        vertical-align: top;\n",
       "    }\n",
       "\n",
       "    .dataframe thead th {\n",
       "        text-align: right;\n",
       "    }\n",
       "</style>\n",
       "<table border=\"1\" class=\"dataframe\">\n",
       "  <thead>\n",
       "    <tr style=\"text-align: right;\">\n",
       "      <th></th>\n",
       "      <th>reps</th>\n",
       "      <th>dems</th>\n",
       "      <th>total</th>\n",
       "      <th>rep_win</th>\n",
       "    </tr>\n",
       "  </thead>\n",
       "  <tbody>\n",
       "    <tr>\n",
       "      <th>0</th>\n",
       "      <td>185</td>\n",
       "      <td>150</td>\n",
       "      <td>335</td>\n",
       "      <td>True</td>\n",
       "    </tr>\n",
       "    <tr>\n",
       "      <th>1</th>\n",
       "      <td>181</td>\n",
       "      <td>157</td>\n",
       "      <td>338</td>\n",
       "      <td>True</td>\n",
       "    </tr>\n",
       "    <tr>\n",
       "      <th>2</th>\n",
       "      <td>83</td>\n",
       "      <td>72</td>\n",
       "      <td>155</td>\n",
       "      <td>True</td>\n",
       "    </tr>\n",
       "    <tr>\n",
       "      <th>3</th>\n",
       "      <td>134</td>\n",
       "      <td>79</td>\n",
       "      <td>213</td>\n",
       "      <td>True</td>\n",
       "    </tr>\n",
       "    <tr>\n",
       "      <th>4</th>\n",
       "      <td>83</td>\n",
       "      <td>75</td>\n",
       "      <td>158</td>\n",
       "      <td>True</td>\n",
       "    </tr>\n",
       "    <tr>\n",
       "      <th>5</th>\n",
       "      <td>98</td>\n",
       "      <td>72</td>\n",
       "      <td>170</td>\n",
       "      <td>True</td>\n",
       "    </tr>\n",
       "    <tr>\n",
       "      <th>6</th>\n",
       "      <td>130</td>\n",
       "      <td>191</td>\n",
       "      <td>321</td>\n",
       "      <td>False</td>\n",
       "    </tr>\n",
       "    <tr>\n",
       "      <th>7</th>\n",
       "      <td>154</td>\n",
       "      <td>152</td>\n",
       "      <td>306</td>\n",
       "      <td>True</td>\n",
       "    </tr>\n",
       "    <tr>\n",
       "      <th>8</th>\n",
       "      <td>162</td>\n",
       "      <td>145</td>\n",
       "      <td>307</td>\n",
       "      <td>True</td>\n",
       "    </tr>\n",
       "    <tr>\n",
       "      <th>9</th>\n",
       "      <td>111</td>\n",
       "      <td>226</td>\n",
       "      <td>337</td>\n",
       "      <td>False</td>\n",
       "    </tr>\n",
       "  </tbody>\n",
       "</table>\n",
       "</div>"
      ],
      "text/plain": [
       "   reps  dems  total  rep_win\n",
       "0   185   150    335     True\n",
       "1   181   157    338     True\n",
       "2    83    72    155     True\n",
       "3   134    79    213     True\n",
       "4    83    75    158     True\n",
       "5    98    72    170     True\n",
       "6   130   191    321    False\n",
       "7   154   152    306     True\n",
       "8   162   145    307     True\n",
       "9   111   226    337    False"
      ]
     },
     "execution_count": 12,
     "metadata": {
     },
     "output_type": "execute_result"
    }
   ],
   "source": [
    "summarize_districts(best_x,cities,num_districts)"
   ]
  },
  {
   "cell_type": "code",
   "execution_count": 0,
   "metadata": {
    "collapsed": false
   },
   "outputs": [
   ],
   "source": [
   ]
  }
 ],
 "metadata": {
  "kernelspec": {
   "display_name": "Python 3 (system-wide)",
   "language": "python",
   "metadata": {
    "cocalc": {
     "description": "Python 3 programming language",
     "priority": 100,
     "url": "https://www.python.org/"
    }
   },
   "name": "python3"
  },
  "language_info": {
   "codemirror_mode": {
    "name": "ipython",
    "version": 3
   },
   "file_extension": ".py",
   "mimetype": "text/x-python",
   "name": "python",
   "nbconvert_exporter": "python",
   "pygments_lexer": "ipython3",
   "version": "3.8.2"
  },
  "toc": {
   "base_numbering": 1,
   "nav_menu": {
   },
   "number_sections": true,
   "sideBar": true,
   "skip_h1_title": false,
   "title_cell": "Table of Contents",
   "title_sidebar": "Contents",
   "toc_cell": false,
   "toc_position": {
   },
   "toc_section_display": true,
   "toc_window_display": true
  }
 },
 "nbformat": 4,
 "nbformat_minor": 4
}