{
 "cells": [
  {
   "cell_type": "code",
   "execution_count": 1,
   "metadata": {
    "code_folding": [
     0
    ],
    "collapsed": false
   },
   "outputs": [
   ],
   "source": [
    "# execute to import notebook styling for tables and width etc.\n",
    "from IPython.core.display import HTML\n",
    "import urllib.request\n",
    "response = urllib.request.urlopen('https://raw.githubusercontent.com/DataScienceUWL/DS775v2/master/ds755.css')\n",
    "HTML(response.read().decode(\"utf-8\"));"
   ]
  },
  {
   "cell_type": "markdown",
   "metadata": {
    "collapsed": false
   },
   "source": [
    "<font size=18>Lesson 10 Homework</font>"
   ]
  },
  {
   "cell_type": "markdown",
   "metadata": {
    "collapsed": false
   },
   "source": [
    "# **HW10.1** - Build a Simple Recommender"
   ]
  },
  {
   "cell_type": "markdown",
   "metadata": {
    "collapsed": false
   },
   "source": [
    "Use the data set **tmdb_5000_movies.csv** to build a simple recommender system. Your resulting dataframe will have 3 different scores.\n",
    "\n",
    "- Score1: Compute m as the movies that have a vote_count >= the 80th percentile and C from the entire, unfiltered dataframe.\n",
    "- Score2: Compute m as the movies that have a vote_count >= the 80th percentile. Filter the dataframe by m. Compute C.\n",
    "- Score3: Compute m as the movies that have a vote_count >= the 80th percentile **after** filtering the dataframe by the characteristics below. Compute C after filtering by the characteristics below.\n",
    "\n",
    "**Filters:**\n",
    "- movies with runtime of 80 minutes or more\n",
    "- movies with a budget between (and inclusive of) \\\\$10 million and \\\\$100 million\n",
    "- movies by the production company Universal Pictures or Warner Bros.\n",
    "\n",
    "Rank the movies 0-9 based on each of the scores. Call these columns Score1Rank, Score2Rank, Score3Rank.\n",
    "\n",
    "This data set can be found in the data folder in the same folder as this notebook. \n",
    "\n",
    "You will need to use the option encoding = \"ISO-8859-1\" in the read_csv function in order to open this file. Use the examples given in Banik's book as a guide.\n",
    "\n",
    "**HW10.1a** - Put your code to build the simple recommender in the cell below.  Display only these columns: movie title, runtime, budget, production_companies, Score1Rank, Score2Rank, Score3Rank.\n",
    "\n",
    "<font color = \"blue\"> *** 9 points -  answer in cell below *** (don't delete this cell) </font>"
   ]
  },
  {
   "cell_type": "code",
   "execution_count": 0,
   "metadata": {
    "collapsed": false
   },
   "outputs": [
   ],
   "source": [
   ]
  },
  {
   "cell_type": "markdown",
   "metadata": {
    "collapsed": false
   },
   "source": [
    "**Answer these questions:**\n",
    "\n",
    "**HW10.1b** - How many movies are in the original data frame?\n",
    "\n",
    "<font color = \"blue\"> *** 2 points -  answer in cell below *** (don't delete this cell) </font>"
   ]
  },
  {
   "cell_type": "code",
   "execution_count": 0,
   "metadata": {
    "collapsed": false
   },
   "outputs": [
   ],
   "source": [
   ]
  },
  {
   "cell_type": "markdown",
   "metadata": {
    "collapsed": false
   },
   "source": [
    "<font color = \"green\">\n",
    "replace this text with answer, your answer should be green   \n",
    "</font>"
   ]
  },
  {
   "cell_type": "markdown",
   "metadata": {
    "collapsed": false
   },
   "source": [
    "**HW10.1c** - How many movies are in the reduced data frame (*i.e.* how many meet the selection criteria)?\n",
    "\n",
    "<font color = \"blue\"> *** 2 points -  answer in cell below *** (don't delete this cell) </font>"
   ]
  },
  {
   "cell_type": "markdown",
   "metadata": {
    "collapsed": false
   },
   "source": [
    "<font color = \"green\">\n",
    "replace this text with answer, your answer should be green   \n",
    "</font>"
   ]
  },
  {
   "cell_type": "markdown",
   "metadata": {
    "collapsed": false
   },
   "source": [
    "**HW10.1d** - Which version of the score would you use? Why?\n",
    "\n",
    "<font color = \"blue\"> *** 2 points -  answer in cell below *** (don't delete this cell) </font>"
   ]
  },
  {
   "cell_type": "markdown",
   "metadata": {
    "collapsed": false
   },
   "source": [
    "<font color = \"green\">\n",
    "replace this text with answer, your answer should be green   \n",
    "</font>"
   ]
  },
  {
   "cell_type": "markdown",
   "metadata": {
    "collapsed": false
   },
   "source": [
    "# **HW10.2** - Build a Knowledge-Based Recommender"
   ]
  },
  {
   "cell_type": "markdown",
   "metadata": {
    "collapsed": false
   },
   "source": [
    "Use the data set **tmdb_5000_movies.csv** to build a knowledge-based recommender system that solicits the following information listed below and then ranks the movies according to the IMDB weighted rating formula. Use all available movies to begin with (*i.e.* don't restrict it to just the top 20%, for example) Print the top 5 highest rated movies for this recommendation. \n",
    "\n",
    "Ask the user to enter answers to the following questions:\n",
    "\n",
    "- Enter a preferred genre. (Print a list of genres for the user to choose from before asking for their inputs.)\n",
    "- Enter another preferred genre.\n",
    "- Enter a minimum runtime (in minutes).\n",
    "- Enter a maximum runtime (in minutes).\n",
    "    \n",
    "Create the recommender to select movies with either genre entered.  \n",
    "\n",
    "Calculate m (80th percentile) and C (mean of the vote_aveage) from your filtered dataset.\n",
    "\n",
    "Test your recommender by calling the function and having it give recommendations for genres \"family\" and \"tv movie\" between of 50 and 120 minutes long and display only the movie title and the requested characteristics as well as the vote count, vote average, and IMDB weighted rating with your recommendations.\n",
    "\n",
    "Use the examples given in the lesson as a guide. (Do not explode.)\n",
    "\n",
    "Provide your code and a demonstration of the recommender below.  We may run your code as well.\n",
    "\n",
    "<font color = \"blue\"> *** 15 points -  answer in cell below *** (don't delete this cell) </font>"
   ]
  },
  {
   "cell_type": "code",
   "execution_count": 0,
   "metadata": {
    "collapsed": false
   },
   "outputs": [
   ],
   "source": [
   ]
  },
  {
   "cell_type": "markdown",
   "metadata": {
    "collapsed": false
   },
   "source": [
    "# **HW10.3** - Build a Content-Based Recommender"
   ]
  },
  {
   "cell_type": "markdown",
   "metadata": {
    "collapsed": false
   },
   "source": [
    "Use the data set **tmdb_5000_movies.csv** to build a meta-data based recommender by creating a \"soup\" based on\n",
    "\n",
    "- all genres\n",
    "- top three keywords\n",
    "- top three production companies\n",
    "- overview\n",
    "\n",
    "Generate a similarity matrix using cosine similarity with the CountVectorizer. \n",
    "\n",
    "Be sure to delete the passed-in movie from the row of similarity scores before sorting the score tuples. (See the lesson, not the book.)\n",
    "\n",
    "**HW10.3a** - Put your code in the cell below, then answer the follow up questions.  Use the examples given in the lesson and Banik's book as a guide.\n",
    "\n",
    "<font color = \"blue\"> *** 10 points -  answer in cell below *** (don't delete this cell) </font>"
   ]
  },
  {
   "cell_type": "code",
   "execution_count": 0,
   "metadata": {
    "collapsed": false
   },
   "outputs": [
   ],
   "source": [
   ]
  },
  {
   "cell_type": "markdown",
   "metadata": {
    "collapsed": false
   },
   "source": [
    "**Provide the following with your solution:**\n",
    "\n",
    "**HW10.3b** - After you have constructed it, print the \"soup\" for the first entry (the 0 entry).\n",
    "\n",
    "<font color = \"blue\"> *** 4 points -  answer in cell below *** (don't delete this cell) </font>"
   ]
  },
  {
   "cell_type": "code",
   "execution_count": 0,
   "metadata": {
    "collapsed": false
   },
   "outputs": [
   ],
   "source": [
   ]
  },
  {
   "cell_type": "markdown",
   "metadata": {
    "collapsed": false
   },
   "source": [
    "**HW10.3c** List the top 10 recommended movies that go with the movie Road House. Display only the movie titles and genres of your recommendations.\n",
    "\n",
    "<font color = \"blue\"> *** 6 points -  answer in cell below *** (don't delete this cell) </font>"
   ]
  },
  {
   "cell_type": "code",
   "execution_count": 0,
   "metadata": {
    "collapsed": false
   },
   "outputs": [
   ],
   "source": [
   ]
  }
 ],
 "metadata": {
  "kernelspec": {
   "display_name": "Python 3 (system-wide)",
   "language": "python",
   "metadata": {
    "cocalc": {
     "description": "Python 3 programming language",
     "priority": 100,
     "url": "https://www.python.org/"
    }
   },
   "name": "python3"
  },
  "language_info": {
   "codemirror_mode": {
    "name": "ipython",
    "version": 3
   },
   "file_extension": ".py",
   "mimetype": "text/x-python",
   "name": "python",
   "nbconvert_exporter": "python",
   "pygments_lexer": "ipython3",
   "version": "3.6.9"
  },
  "toc": {
   "base_numbering": 1,
   "nav_menu": {
   },
   "number_sections": true,
   "sideBar": true,
   "skip_h1_title": false,
   "title_cell": "Table of Contents",
   "title_sidebar": "Contents",
   "toc_cell": false,
   "toc_position": {
    "height": "calc(100% - 180px)",
    "left": "10px",
    "top": "150px",
    "width": "260.509px"
   },
   "toc_section_display": true,
   "toc_window_display": true
  },
  "varInspector": {
   "cols": {
    "lenName": 16,
    "lenType": 16,
    "lenVar": 40
   },
   "kernels_config": {
    "python": {
     "delete_cmd_postfix": "",
     "delete_cmd_prefix": "del ",
     "library": "var_list.py",
     "varRefreshCmd": "print(var_dic_list())"
    },
    "r": {
     "delete_cmd_postfix": ") ",
     "delete_cmd_prefix": "rm(",
     "library": "var_list.r",
     "varRefreshCmd": "cat(var_dic_list()) "
    }
   },
   "types_to_exclude": [
    "module",
    "function",
    "builtin_function_or_method",
    "instance",
    "_Feature"
   ],
   "window_display": false
  }
 },
 "nbformat": 4,
 "nbformat_minor": 4
}