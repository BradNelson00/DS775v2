{
 "cells": [
  {
   "cell_type": "markdown",
   "metadata": {
    "collapsed": false
   },
   "source": [
    "# DS775 Python Needs from DS710"
   ]
  },
  {
   "cell_type": "markdown",
   "metadata": {
    "collapsed": false
   },
   "source": [
    "## General Stuff\n",
    "\n",
    "* Please cover at least a tiny bit about Jupyter notebooks since, for better or worse, they're ubiquitous in data science and we utilize them in other courses (DS775 at least)\n",
    "    * Students need to understand about kernels and state.  We still get students executing cells out of order and wondering why they get errors\n",
    "    * Debugging in Jupyter notebooks.  It would be super slick if they knew how to save their notebook as a .py file and open it in Spyder to apply debugging tools.  Or to develop code in Spyder first before moving it to a notebook.  Jupyter Lab also has gui assisted debugging available, but that requires installation of a different kernel.\n",
    "\n",
    "* Debugging in general\n",
    "    * even just adding print statements seems beyond some of our students\n",
    "\n",
    "* How to study and understand code instead of copying and randomly tweaking\n",
    "    * learn to work through code line by line to really grok it\n",
    "\n",
    "* Problem solving - make a point of giving problems that require original code and synthesis of ideas\n",
    "\n",
    "* Formatting output.  We're moving toward f-strings.  \n",
    "\n",
    "Now we'll list some particular issues in some of the units we cover.  The complete notebooks for these lessons and the corresponding homework assignments may be found on Github at https://github.com/DataScienceUWL/DS775v2."
   ]
  },
  {
   "cell_type": "markdown",
   "metadata": {
    "collapsed": false
   },
   "source": [
    "## Lesson 01: Linear Programming and Pyomo\n",
    "\n",
    "* String formatting for formatting output (we are trying to standardize all of ours to f-strings)"
   ]
  },
  {
   "cell_type": "markdown",
   "metadata": {
    "collapsed": false
   },
   "source": [
    "## Lesson 02: Sensitivity Analysis and Abstract Modeling\n",
    "\n",
    "* Data Structures\n",
    "    * Dictionaries\n",
    "    * Nested dictionaries\n",
    "    * Lists and nested lists\n",
    "    * Pandas dataframes\n",
    "    \n",
    "A primary focus in this lesson is getting the students to move from very concrete linear programs with hard-wired coefficients to more abstract formulations that separate the model and the data so they can generalize to larger and different problems.\n",
    "\n",
    "We want them to move from the model in the left column to the one in the right column:\n",
    "\n",
    "<table class=\"tleft\">\n",
    "    <tr>\n",
    "        <td><p style=\"padding-right: 120px;\"> <b>Concrete Model</b></p></td>\n",
    "        <td><p style=\"padding-right: 150px;\"> <b>Abstract Model</b></p></td>\n",
    "    </tr>\n",
    "<tr>\n",
    "<td>\n",
    "Maximize $Z = 3 d + 5 w$\n",
    "</td>\n",
    "<td>\n",
    "Maximize $ Z = \\displaystyle \\sum_{pr \\in Pr} c_{pr} x_{pr}$\n",
    "<td>\n",
    "</tr>\n",
    "<tr>\n",
    "<td>\n",
    "Subject to:\n",
    "\n",
    "$\n",
    "\\begin{array}{ccccc}\n",
    " d &   &    & \\leq & 4 \\\\\n",
    "   &   & 2w & \\leq & 12 \\\\\n",
    "3d & + & 2w & \\leq & 18\n",
    "\\end{array}\n",
    "$\n",
    "</td>\n",
    "<td>\n",
    "Subject to:\n",
    "\n",
    "$ \\displaystyle \\sum_{pr \\in Pr} h_{pl,pr} x_{pr} \\leq a_{pl},$\n",
    "$\\mbox{ for each } pl \\in Pl$\n",
    "<td>\n",
    "</tr>\n",
    "<tr>\n",
    "<td>\n",
    "$d \\geq 0$, $w \\geq 0$\n",
    "</td>\n",
    "<td>\n",
    "$ x_{pr} \\geq 0, \\mbox{ for each } pr \\in Pr$ \n",
    "<td>\n",
    "</tr>   \n",
    "</table>"
   ]
  },
  {
   "cell_type": "markdown",
   "metadata": {
    "collapsed": false
   },
   "source": [
    "Code for the left column, concrete approach is here:"
   ]
  },
  {
   "cell_type": "code",
   "execution_count": 0,
   "metadata": {
    "collapsed": false
   },
   "outputs": [
   ],
   "source": [
    "# Unfold to see the Pyomo solution with individual decision variables\n",
    "from pyomo.environ import *\n",
    "\n",
    "# Concrete Model\n",
    "model = ConcreteModel(name=\"Wyndor\")\n",
    "\n",
    "# Decision Variables\n",
    "model.doors = Var(domain=Reals)\n",
    "model.windows = Var(domain=Reals)\n",
    "\n",
    "# Objective\n",
    "model.profit = Objective(expr=3.0 * model.doors + 5.0 * model.windows,\n",
    "                         sense=maximize)\n",
    "\n",
    "# Constraints\n",
    "model.Plant1 = Constraint(expr=model.doors <= 4)\n",
    "model.Plant2 = Constraint(expr=2.0 * model.windows <= 12)\n",
    "model.Plant3 = Constraint(expr=3.0 * model.doors + 2.0 * model.windows <= 18)\n",
    "model.dgeq0 = Constraint(expr=model.doors >= 0)\n",
    "model.wgeq0 = Constraint(expr=model.windows >= 0)\n",
    "\n",
    "# Solve\n",
    "solver = SolverFactory('glpk')\n",
    "solver.solve(model)\n",
    "\n",
    "#display(model)\n",
    "\n",
    "# display solution\n",
    "import babel.numbers as numbers  # needed to display as currency\n",
    "print(\"Maximum Profit = \",\n",
    "      numbers.format_currency(1000 * model.profit(), 'USD', locale='en_US'))\n",
    "print(\"Batches of Doors = {}\".format(model.doors()))\n",
    "print(\"Batches of Windows = {}\".format(model.windows()))"
   ]
  },
  {
   "cell_type": "markdown",
   "metadata": {
    "collapsed": false
   },
   "source": [
    "Code for the right column, abstract approach is here:"
   ]
  },
  {
   "cell_type": "code",
   "execution_count": 0,
   "metadata": {
    "collapsed": false
   },
   "outputs": [
   ],
   "source": [
    "# Unfold for code\n",
    "from pyomo.environ import *\n",
    "products = ['Doors', 'Windows']\n",
    "plants = ['Plant1', 'Plant2', 'Plant3']\n",
    "profit_rate = {'Doors': 3, 'Windows': 5}\n",
    "hours_available = {'Plant1': 4, 'Plant2': 12, 'Plant3': 18}\n",
    "hours_per_batch = {\n",
    "    'Plant1': {\n",
    "        'Doors': 1,\n",
    "        'Windows': 0\n",
    "    },\n",
    "    'Plant2': {\n",
    "        'Doors': 0,\n",
    "        'Windows': 2\n",
    "    },\n",
    "    'Plant3': {\n",
    "        'Doors': 3,\n",
    "        'Windows': 2\n",
    "    }\n",
    "}\n",
    "\n",
    "#Concrete Model\n",
    "model = ConcreteModel()\n",
    "\n",
    "#Decision Variables\n",
    "model.weekly_prod = Var(products, domain=NonNegativeReals)\n",
    "\n",
    "#Objective\n",
    "model.profit = Objective(expr=sum(profit_rate[pr] * model.weekly_prod[pr]\n",
    "                               for pr in products),\n",
    "                      sense=maximize)\n",
    "\n",
    "model.capacity = ConstraintList()\n",
    "for pl in plants:\n",
    "    model.capacity.add(\n",
    "        sum(hours_per_batch[pl][pr] * model.weekly_prod[pr]\n",
    "            for pr in products) <= hours_available[pl])\n",
    "\n",
    "# Solve\n",
    "solver = SolverFactory('glpk')\n",
    "solver.solve(model)\n",
    "\n",
    "# display solution\n",
    "import babel.numbers as numbers  # needed to display as currency\n",
    "print(\"Maximum Profit = \",\n",
    "      numbers.format_currency(1000 * model.profit(), 'USD', locale='en_US'))\n",
    "\n",
    "for j in products:\n",
    "    print(\"Batches of \" + j + \" = {}\".format(model.weekly_prod[j]()))"
   ]
  },
  {
   "cell_type": "markdown",
   "metadata": {
    "collapsed": false
   },
   "source": [
    "The abstract approach is much more difficult for students as they need a solid mastery of lists, dictionaries, and loops in addition to plenty of practice putting it together.\n",
    "\n",
    "I think that some may also struggle with the general idea of using lists as index sets.\n",
    "\n",
    "Pandas dataframes are used to tabulate and display results in many of our problems."
   ]
  },
  {
   "cell_type": "markdown",
   "metadata": {
    "collapsed": false
   },
   "source": [
    "## Lesson 03: Transportation Problems and More Abstract Formulations\n",
    "\n",
    "* Slicing n-dim arrays/lists/dictionaries, summing across dimensions\n",
    "\n",
    "Note: These examples use real data from homework problems. Do not use these exact problems."
   ]
  },
  {
   "cell_type": "code",
   "execution_count": 3,
   "metadata": {
    "collapsed": false
   },
   "outputs": [
    {
     "data": {
      "text/plain": [
       "'Total: 291'"
      ]
     },
     "execution_count": 3,
     "metadata": {
     },
     "output_type": "execute_result"
    }
   ],
   "source": [
    "#given data structures like these\n",
    "warehouses = ['wA', 'wB', 'wC']\n",
    "stores = ['sA', 'sB', 'sC', 'sD', 'sE', 'sF', 'sG', 'sH', 'sI', 'sJ', 'sK', 'sL', 'sM', 'sN', 'sO', 'sP', 'sQ', 'sR', 'sS', 'sT']\n",
    "\n",
    "cost_dic =   {('wA', 'sA'): 7, ('wA', 'sB'): 8, ('wA', 'sC'): 13, ('wA', 'sD'): 12, ('wA', 'sE'): 7, ('wA', 'sF'): 6, ('wA', 'sG'): 9, ('wA', 'sH'): 10, ('wA', 'sI'): 14, ('wA', 'sJ'): 13, ('wB', 'sG'): 8, ('wB', 'sH'): 6, ('wB', 'sI'): 12, ('wB', 'sJ'): 11, ('wB', 'sK'): 10, ('wB', 'sL'): 10, ('wB', 'sM'): 7, ('wB', 'sN'): 14, ('wB', 'sO'): 11, ('wB', 'sP'): 5, ('wC', 'sL'): 7, ('wC', 'sM'): 14, ('wC', 'sN'): 13, ('wC', 'sO'): 7, ('wC', 'sP'): 8, ('wC', 'sQ'): 15, ('wC', 'sR'): 12, ('wC', 'sS'): 11, ('wC', 'sT'): 11}\n",
    "\n",
    "#be able to conditionally sum like this\n",
    "total = 0\n",
    "for w in warehouses:\n",
    "    total += sum(cost_dic[(w, s)] for s in stores if (w,s) in cost_dic)\n",
    "\n",
    "f\"Total: {total}\""
   ]
  },
  {
   "cell_type": "code",
   "execution_count": 11,
   "metadata": {
    "collapsed": false
   },
   "outputs": [
    {
     "name": "stdout",
     "output_type": "stream",
     "text": [
      "Shipment costs from each source to each market for the rail method:\n",
      "    m1  m2  m3  m4  m5\n",
      "s1  61  72  45  55  66\n",
      "s2  69  78  60  49  56\n",
      "s3  59  66  63  61  47\n",
      "Shipment costs from each source to each market for the ship method:\n",
      "      m1    m2    m3    m4    m5\n",
      "s1  58.5  68.3  47.8   0.0  63.5\n",
      "s2  65.3  74.8  55.0  49.0  57.5\n",
      "s3   0.0  61.3  63.5  58.8  50.0\n"
     ]
    }
   ],
   "source": [
    "import pandas as pd\n",
    "#given data structures like these:\n",
    "all_routes = [('rail', 's1', 'm1'), ('rail', 's1', 'm2'), ('rail', 's1', 'm3'), ('rail', 's1', 'm4'), ('rail', 's1', 'm5'),\n",
    "               ('rail', 's2', 'm1'), ('rail', 's2', 'm2'), ('rail', 's2', 'm3'), ('rail', 's2', 'm4'), ('rail', 's2', 'm5'),\n",
    "               ('rail', 's3', 'm1'), ('rail', 's3', 'm2'), ('rail', 's3', 'm3'), ('rail', 's3', 'm4'), ('rail', 's3', 'm5'),\n",
    "          ('ship','s1', 'm1'), ('ship','s1', 'm2'), ('ship','s1', 'm3'),  ('ship','s1', 'm5'),\n",
    "          ('ship','s2', 'm1'), ('ship','s2', 'm2'), ('ship','s2', 'm3'), ('ship','s2', 'm4'), ('ship','s2', 'm5'),\n",
    "          ('ship','s3', 'm2'), ('ship','s3', 'm3'), ('ship','s3', 'm4'), ('ship', 's3', 'm5')\n",
    "        ]\n",
    "costs = [61,72,45,55,66,69,78,60,49,56,59,66,63,61,47,\n",
    "                                    58.5, 68.3, 47.8, 63.5, 65.3, 74.8, 55.0, 49.0, 57.5, 61.3, 63.5, 58.8, 50.0]\n",
    "\n",
    "routetypes = ['rail', 'ship']\n",
    "sources = ['s1', 's2', 's3']\n",
    "markets = ['m1', 'm2', 'm3', 'm4', 'm5']\n",
    "\n",
    "#be able to zip things like this\n",
    "all_route_costs = dict(zip(all_routes, costs))\n",
    "\n",
    "#be able to subset like this:\n",
    "ship_routes = [(t,s,m) for (t,s,m) in all_route_costs if t == 'ship']\n",
    "\n",
    "#be able to generate data frames like this:\n",
    "for t in routetypes:\n",
    "    print(f\"Shipment costs from each source to each market for the {t} method:\")\n",
    "    schedule = pd.DataFrame(0, index=sources, columns=markets)\n",
    "    for (t2,s,m) in all_routes:\n",
    "        if t == t2:\n",
    "            schedule.loc[s,m] = all_route_costs[t,s,m]\n",
    "\n",
    "    print(schedule)     "
   ]
  },
  {
   "cell_type": "markdown",
   "metadata": {
    "collapsed": false
   },
   "source": [
    "### 3 dimensional data"
   ]
  },
  {
   "cell_type": "markdown",
   "metadata": {
    "collapsed": false
   },
   "source": [
    "We do some transportation problems with 3 dimensional data structures and many students do just fine, but many are confounded by things like this:\n",
    "\n",
    "To find the cost of shipping the products we have to sum the cost per unit times the number of units over all the elements in the three dimensional array, like this:\n",
    "\n",
    "To find the cost of shipping the products we have to sum the cost per unit times the number of units over all the elements in the three dimensional array, like this:\n",
    "\n",
    "```\n",
    "sum(cost[p,s,c] * model.transp[p,s,c] for p in products for s in suppliers for c in customers)\n",
    "```\n",
    "\n",
    "A supply constraint means that total amount of each product shipped from each supplier must match the supply available.  \n",
    "\n",
    "```\n",
    "for p in products:\n",
    "    for s in suppliers:\n",
    "        sum( model.transp[p,s,c] for c in customers) == supply[p,s] )\n",
    "```\n",
    "In the picture above this corresponds to summing each row of the stacked 2D arrays to make sure it matches the supplied amount.\n",
    "\n",
    "If limited capacity is available for shipping from each supplier to each customer we have to add up the total amount of all products to be sure it isn't too large:\n",
    "```\n",
    "for s in supplier:\n",
    "    for c in customer:\n",
    "        sum( model.transp[p,s,c] for p in products ) <= capacity )\n",
    "```\n",
    "\n",
    "**When they try to write their own code they get confused about which variables to use for slices and which to sum over.**  Those who just mimic code without understanding can really make a mess with these constructions.\n",
    "\n",
    "\n",
    "### Recognizing when to write functions.\n",
    "\n",
    "In this homework we have them solve the same transportation problem three times with different shipping cost data.  I'm always amazed by how many cut and paste all of their code three times instead of writing a function and calling it three times."
   ]
  },
  {
   "cell_type": "markdown",
   "metadata": {
    "collapsed": false
   },
   "source": [
    "## Lesson 04: Quadratic Programming and Local Optimization\n",
    "\n",
    "### Numpy arrays and lambda functions\n",
    "\n",
    "Here is a small bit of code that I think some don't understand very well:\n",
    "```\n",
    "# plot p(x) on [-10,10]\n",
    "x = np.linspace(-10,10,201)\n",
    "p = lambda x:x**4 + 2*x**3 + 3*x**2 + 2*x + 1\n",
    "fig = plt.figure(figsize=(4,3.5))\n",
    "plt.plot(x,p(x));\n",
    "plt.xlabel('x');\n",
    "plt.ylabel('y');\n",
    "```\n",
    "A few seem to have trouble just reading documentation.  I don't explain linspace from numpy, but expect them to just look it up (most, but not all, are OK at this).  I also always have a couple that try `x**4` when `x` is a list instead of a numpy array.  **Practice with Numpy and vectorization would be good.**\n",
    "\n",
    "### Passing functions to functions and variable numbers of arguments (*args, *kwargs)\n",
    "\n",
    "When they're learning about optimization they need to pass their fitness functions to optimization routines from scipy.optimize and elsewhere.  Often times these functions require additional arguments.  I think some are pretty confused about how this works.  Here is an example:\n",
    "\n",
    "```\n",
    "def neg_log_loss( coef, *args):\n",
    "    b0 = coef[0]\n",
    "    b1 = coef[1]\n",
    "    x = args[0]\n",
    "    y = args[1]\n",
    "    p = 1.0/(1.0 + np.exp(-(b0 + b1*x)))\n",
    "    ll = sum( y*np.log(p)+(1-y)*np.log(1-p) )\n",
    "    return(-ll) # here's the minus sign!\n",
    "    \n",
    "from scipy.optimize import minimize\n",
    "result = minimize(neg_log_loss,[0,0],args=(x_hours,y_passed))\n",
    "```"
   ]
  },
  {
   "cell_type": "markdown",
   "metadata": {
    "collapsed": false
   },
   "source": [
    "### Parsing and Understanding Code\n",
    "\n",
    "We give them this code for a local search algorithm for the traveling salesman problem and later ask them to build similar code to solve discrete optimization problems.  \n",
    "\n",
    "```\n",
    "def random_reversals(dist_mat, max_no_improve):\n",
    "    num_cities = len(dist_mat)\n",
    "    # starts from a random tour\n",
    "    current_tour = np.random.permutation(np.arange(num_cities))\n",
    "    current_dist = tour_distance(current_tour, dist_mat)\n",
    "    best_tour = current_tour\n",
    "    best_dist = current_dist\n",
    "\n",
    "    # stop search if no better tour is found within max_no_improve iterations, can increase to eliminate crossovers\n",
    "    num_moves_no_improve = 0\n",
    "    iterations = 0\n",
    "    while (num_moves_no_improve < max_no_improve):\n",
    "        num_moves_no_improve += 1\n",
    "        iterations += 1  # just for tracking\n",
    "        new_tour = sub_tour_reversal(current_tour)\n",
    "        new_dist = tour_distance(new_tour, dist_mat)\n",
    "        if new_dist < current_dist:\n",
    "            num_moves_no_improve = 0\n",
    "            current_tour = new_tour\n",
    "            current_dist = new_dist\n",
    "            if current_dist < best_dist:  # not really needed since current_tour will be best\n",
    "                best_tour = current_tour  # but we'll use this in the next lesson\n",
    "                best_dist = current_dist\n",
    "    return best_tour, best_dist, iterations\n",
    "```\n",
    "\n",
    "We build up to this code starting from pseudocode, but it's evident, based on some of the submissions we see, that some can't really break down and understand the code.  Learning how to study and analyze code is something they can work on."
   ]
  },
  {
   "cell_type": "markdown",
   "metadata": {
    "collapsed": false
   },
   "source": [
    "## Lesson 05: Global Optimization and Metaheuristics\n",
    "\n",
    "In this lesson we include simulated annealing for discrete optimization.  In addition to providing code similar to the local search code shown above in Lesson 04, we also make use of the simanneal package (https://github.com/perrygeo/simanneal).  To use it students have to write init and two other methods in a class.  Like this (we provide this example in the lesson):\n",
    "\n",
    "```\n",
    "from simanneal import Annealer\n",
    "\n",
    "class TravellingSalesmanProblem(Annealer):\n",
    "\n",
    "    # pass extra data (the distance matrix) into the constructor\n",
    "    def __init__(self, state, distance_matrix):\n",
    "        self.distance_matrix = distance_matrix\n",
    "        super(TravellingSalesmanProblem, self).__init__(state)  # important!\n",
    "\n",
    "    def move(self):\n",
    "        \"\"\"Reverse random segment\"\"\"\n",
    "        tour = self.state\n",
    "        n = len(tour)\n",
    "        i, j = np.sort(np.random.choice(n, 2, replace=False))\n",
    "        swapped = np.concatenate((tour[0:i], tour[j:-n + i - 1:-1],tour[j + 1:n]))\n",
    "        self.state = swapped.tolist()\n",
    "    \n",
    "    def energy(self):\n",
    "        \"\"\"Compute tour distance\"\"\"\n",
    "        dist_mat = self.distance_matrix\n",
    "        tour = self.state\n",
    "        distance = dist_mat[tour[-1]][tour[0]]\n",
    "        for gene1, gene2 in zip(tour[0:-1], tour[1:]):\n",
    "            distance += dist_mat[gene1][gene2]\n",
    "        return distance\n",
    "\n",
    "\n",
    "# load data (this may have to be adapted for different problems)\n",
    "with open(\"data/HillierTSP.json\", \"r\") as tsp_data:\n",
    "    tsp = json.load(tsp_data)\n",
    "distance_matrix = tsp[\"DistanceMatrix\"]\n",
    "init_tour = np.random.permutation(np.arange(len(distance_matrix))).tolist()\n",
    "\n",
    "tsp = TravellingSalesmanProblem(init_tour, distance_matrix)\n",
    "tsp.set_schedule(tsp.auto(minutes=.2)) #set approximate time to find results\n",
    "# since our state is just a list, slice is the fastest way to copy\n",
    "tsp.copy_strategy = \"slice\" #\"method\"\n",
    "best_tour, best_dist = tsp.anneal()\n",
    "\n",
    "best_dist\n",
    "```\n",
    "\n",
    "This ends up being a big lift for some students who I think just haven't seen much of this.  They seem to not \"get\" the whole paradigm of storing state in the object and using methods to modify the state.  In the homework they run into problems using simanneal for a knapsack problem.  The solution for that problem is shown below."
   ]
  },
  {
   "cell_type": "code",
   "execution_count": 4,
   "metadata": {
    "code_folding": [
     0
    ],
    "collapsed": false
   },
   "outputs": [
   ],
   "source": [
    "# generate random weights and values for a knapsack problem\n",
    "import numpy as np\n",
    "num_items = 20\n",
    "np.random.seed(seed=123)\n",
    "values = np.random.randint(low=5, high=50, size=num_items)\n",
    "weights = np.random.randint(low=1, high=10, size=num_items)\n",
    "max_weight = 50\n",
    "np.random.seed() # use system clock to reset the seed so future random numbers will appear random"
   ]
  },
  {
   "cell_type": "code",
   "execution_count": 0,
   "metadata": {
    "code_folding": [
    ],
    "collapsed": false
   },
   "outputs": [
   ],
   "source": [
    "# unfold code\n",
    "from simanneal import Annealer\n",
    "\n",
    "class knapsack_problem(Annealer):\n",
    "    # pass extra data (the distance matrix) into the constructor\n",
    "    def __init__(self, state, values, weights, max_weight):\n",
    "        self.weights = weights\n",
    "        self.values = values\n",
    "        self.max_weight = max_weight\n",
    "        super(knapsack_problem, self).__init__(state)  # important!\n",
    "\n",
    "    def move(self):\n",
    "        # copy current items\n",
    "        x = self.state.copy()\n",
    "        # toggle one item\n",
    "        bit_to_flip = np.random.randint(len(x))\n",
    "        x[bit_to_flip] = not x[bit_to_flip]\n",
    "        # accept if weight <= max weight\n",
    "        if sum(self.weights[x]) <= self.max_weight:\n",
    "            self.state = x\n",
    "\n",
    "    def energy(self):\n",
    "        # add up values of selected items, return negative for maximization\n",
    "        return -sum( self.values[ self.state] )\n",
    "\n",
    "items = np.zeros(20, dtype = bool)\n",
    "\n",
    "ksp = knapsack_problem(items, values, weights, max_weight)\n",
    "ksp.set_schedule(ksp.auto(minutes=.1))\n",
    "ksp.copy_strategy = \"method\"\n",
    "items, value = ksp.anneal()\n",
    "\n",
    "# using f-strings (https://www.geeksforgeeks.org/formatted-string-literals-f-strings-python/)\n",
    "print(f\"knapsack: {items}\\nvalue: {-value}\")"
   ]
  },
  {
   "cell_type": "markdown",
   "metadata": {
    "collapsed": false
   },
   "source": [
    "One of the main issues that students have (and we can do a better job here) is that they don't understand the difference between\n",
    "```\n",
    "x = self.state\n",
    "```\n",
    "\n",
    "and \n",
    "\n",
    "```\n",
    "x = self.state.copy()\n",
    "```\n",
    "\n",
    "in the move method.  Those who don't use copy() end up accepting infeasible states by accident because they unintentionally modify self.state."
   ]
  },
  {
   "cell_type": "markdown",
   "metadata": {
    "collapsed": false
   },
   "source": [
    "## Lesson 06: Integer Programming\n",
    "\n",
    "The python code is similar to that in Lessons 2 and 3 so the issues are similar."
   ]
  },
  {
   "cell_type": "markdown",
   "metadata": {
    "collapsed": false
   },
   "source": [
    "## Lesson 07: Constraint Programming\n",
    "\n",
    "The issues in this section are mostly conceptual.  However, we use the CP-SAT constraint programming solver which is part of Google's ortools package (https://developers.google.com/optimization/cp/cp_solver).  Weaker students struggle here because of the lack of examples they can mimic and inability to read documentation effectively.  I'm not sure what DS710 can do here except perhaps require students to sometimes figure things out from documentation alone perhaps.\n",
    "\n",
    "They're also hampered by having to understand the use of a class to pass to the solver for callbacks.  There is an example at the link above.  Seeing more OOP in DS710 could help with this."
   ]
  },
  {
   "cell_type": "markdown",
   "metadata": {
    "collapsed": false
   },
   "source": [
    "## Lesson 08: Simulation\n",
    "\n",
    "* Looping versus vectorization\n",
    "    * e.g. rolling a die 1000 times and counting the number of 4's, can be done in one or two lines with numpy, but noobs wanna loop.\n",
    "* random sampling and random number seeds\n",
    "    * we use distributions from numpy.random and some don't seem to grasp the use of seeds for reproducibility\n",
    "* estimating probabilities by relative frequency in a random sample\n",
    "    * I think we did something wrong in DS705 when students don't understand this :("
   ]
  },
  {
   "cell_type": "markdown",
   "metadata": {
    "collapsed": false
   },
   "source": [
    "## Lesson 09: Decision Analysis\n",
    "\n",
    "* not much Python here."
   ]
  },
  {
   "cell_type": "markdown",
   "metadata": {
    "collapsed": false
   },
   "source": [
    "## Lesson 10 and 11:  Recommender Systems\n",
    "\n",
    "* We make heavy use of Pandas dataframes in here including selecting and appending columns, filtering rows, sorting, and merging dataframes.  \n",
    "* There is a fair amount of text processing here.  For example taking movie descriptions and removing stop words, punctuation, extra spaces, etc.\n",
    "* For examples of some of this see: https://github.com/DataScienceUWL/DS775v2/blob/master/Lessons/Lesson%2010%20Presentation%20-%20ResSys%201/Content%20Based%20Recommenders.ipynb (fwiw, this was provided with a text we adopted and it isn't fantastically written python)\n",
    "* We also make use of the machine learning package `sklearn` here and in a course project.  For most it's the first time they've seen it.  It's an important package and perhaps worthy"
   ]
  }
 ],
 "metadata": {
  "kernelspec": {
   "display_name": "Python 3 (system-wide)",
   "language": "python",
   "metadata": {
    "cocalc": {
     "description": "Python 3 programming language",
     "priority": 100,
     "url": "https://www.python.org/"
    }
   },
   "name": "python3"
  },
  "language_info": {
   "codemirror_mode": {
    "name": "ipython",
    "version": 3
   },
   "file_extension": ".py",
   "mimetype": "text/x-python",
   "name": "python",
   "nbconvert_exporter": "python",
   "pygments_lexer": "ipython3",
   "version": "3.6.9"
  }
 },
 "nbformat": 4,
 "nbformat_minor": 4
}